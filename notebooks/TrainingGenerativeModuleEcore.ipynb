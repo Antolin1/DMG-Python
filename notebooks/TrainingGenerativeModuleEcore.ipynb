{
 "cells": [
  {
   "cell_type": "code",
   "execution_count": 1,
   "metadata": {},
   "outputs": [],
   "source": [
    "import sys\n",
    "sys.path.append('../')\n",
    "import dmg.model2graph.model2graph as m2g\n",
    "import dmg.model2graph.metafilter as mf\n",
    "from networkx.algorithms.isomorphism import is_isomorphic\n",
    "import dmg.graphUtils as gu\n",
    "import glob\n",
    "import dmg.ecore.ecorePallete as ecore\n",
    "import random\n",
    "random.seed(123)"
   ]
  },
  {
   "cell_type": "markdown",
   "metadata": {},
   "source": [
    "# Load dataset"
   ]
  },
  {
   "cell_type": "code",
   "execution_count": 2,
   "metadata": {},
   "outputs": [],
   "source": [
    "metafilter_refs = ['EClass.eSuperTypes',\n",
    "                          'EClassifier.ePackage',\n",
    "                           'EPackage.eClassifiers',\n",
    "                           'ETypedElement.eType',\n",
    "                           'EStructuralFeature.eContainingClass',\n",
    "                           'EReference.eOpposite',\n",
    "                           'EEnum.eLiterals',\n",
    "                           'EEnumLiteral.eEnum',\n",
    "                           'EClass.eStructuralFeatures']\n",
    "metafilter_cla = ['EClass', 'EPackage', 'EDataType',\n",
    "                         'EStructuralFeature','EEnum', 'EEnumLiteral']   \n",
    "metafilter_atts = None\n",
    "metafilterobj = mf.MetaFilter(references = metafilter_refs, \n",
    "                 attributes = metafilter_atts,\n",
    "                 classes = metafilter_cla)       \n",
    "meta_models = []"
   ]
  },
  {
   "cell_type": "code",
   "execution_count": 8,
   "metadata": {},
   "outputs": [
    {
     "name": "stdout",
     "output_type": "stream",
     "text": [
      "/home/antolin/wakame/DMG-Python\n",
      "/home/antolin/wakame/DMG-Python/notebooks\n"
     ]
    }
   ],
   "source": [
    "%cd ..\n",
    "files = glob.glob(\"data/ecoreDataset/train/*\")\n",
    "graphs = []\n",
    "for f in files:\n",
    "    graphs.append(m2g.model2graphJava('ecore', f))\n",
    "    #m2g.getGraphFromModel(f, \n",
    "                                  #meta_models, metafilterobj,\n",
    "                                  #consider_atts = False)\n",
    "%cd notebooks"
   ]
  },
  {
   "cell_type": "code",
   "execution_count": 9,
   "metadata": {},
   "outputs": [
    {
     "name": "stdout",
     "output_type": "stream",
     "text": [
      "Number of graphs: 257\n"
     ]
    }
   ],
   "source": [
    "print('Number of graphs:', len(graphs))"
   ]
  },
  {
   "cell_type": "code",
   "execution_count": 15,
   "metadata": {},
   "outputs": [
    {
     "name": "stdout",
     "output_type": "stream",
     "text": [
      "/home/antolin/wakame/DMG-Python\n",
      "/home/antolin/wakame/DMG-Python/notebooks\n"
     ]
    }
   ],
   "source": [
    "%cd ..\n",
    "files = glob.glob(\"data/ecoreDataset/val/*\")\n",
    "graphs_val = []\n",
    "for f in files:\n",
    "    #graphs_val.append(m2g.getGraphFromModel(f, \n",
    "    #                              meta_models, metafilterobj,\n",
    "    #                              consider_atts = False))\n",
    "    graphs_val.append(m2g.model2graphJava('ecore', f))\n",
    "%cd notebooks"
   ]
  },
  {
   "cell_type": "code",
   "execution_count": 16,
   "metadata": {},
   "outputs": [
    {
     "name": "stdout",
     "output_type": "stream",
     "text": [
      "Number of graphs: 65\n"
     ]
    }
   ],
   "source": [
    "print('Number of graphs:', len(graphs_val))"
   ]
  },
  {
   "cell_type": "code",
   "execution_count": 17,
   "metadata": {},
   "outputs": [],
   "source": [
    "ecore.ecore_pallete.shuffle = False"
   ]
  },
  {
   "cell_type": "code",
   "execution_count": 18,
   "metadata": {},
   "outputs": [
    {
     "name": "stdout",
     "output_type": "stream",
     "text": [
      "Preparing seqs\n",
      "Seqs finished\n"
     ]
    }
   ],
   "source": [
    "from torch_geometric.data import DataLoader\n",
    "from dmg.deeplearning.dataGeneration import sequence2data, data2graph\n",
    "from dmg.deeplearning.dataGeneration import addInvEdges\n",
    "\n",
    "listDatas_val = []\n",
    "batch_size = 64\n",
    "max_len = 2\n",
    "print('Preparing seqs')\n",
    "for g in graphs_val:\n",
    "    sequence = ecore.ecore_pallete.graphToSequence(g)\n",
    "    sequence = [(addInvEdges(s[0], ecore.ecore_pallete, ecore.ecore_separator),s[1]) for s in sequence]\n",
    "    listDatas_val = listDatas_val + sequence2data(sequence, ecore.ecore_pallete, max_len)\n",
    "loader_val = DataLoader(listDatas_val, batch_size=batch_size, \n",
    "                        num_workers = 0, \n",
    "                        shuffle=False)\n",
    "print('Seqs finished')"
   ]
  },
  {
   "cell_type": "code",
   "execution_count": 19,
   "metadata": {},
   "outputs": [],
   "source": [
    "do_eval = False\n",
    "\n",
    "if not do_eval:\n",
    "    graphs = graphs + graphs_val"
   ]
  },
  {
   "cell_type": "code",
   "execution_count": 20,
   "metadata": {},
   "outputs": [
    {
     "name": "stdout",
     "output_type": "stream",
     "text": [
      "Number of graphs: 322\n"
     ]
    }
   ],
   "source": [
    "print('Number of graphs:', len(graphs))"
   ]
  },
  {
   "cell_type": "markdown",
   "metadata": {},
   "source": [
    "# Training"
   ]
  },
  {
   "cell_type": "code",
   "execution_count": 21,
   "metadata": {
    "scrolled": true
   },
   "outputs": [
    {
     "name": "stdout",
     "output_type": "stream",
     "text": [
      "Preparing seqs\n",
      "Seqs finished\n"
     ]
    },
    {
     "name": "stderr",
     "output_type": "stream",
     "text": [
      "/home/antolin/anaconda3/lib/python3.8/site-packages/torch/nn/functional.py:1805: UserWarning: nn.functional.sigmoid is deprecated. Use torch.sigmoid instead.\n",
      "  warnings.warn(\"nn.functional.sigmoid is deprecated. Use torch.sigmoid instead.\")\n"
     ]
    },
    {
     "name": "stdout",
     "output_type": "stream",
     "text": [
      "Epoch 0 Loss Traning 0.4631628045868693\n",
      "Preparing seqs\n",
      "Seqs finished\n",
      "Epoch 1 Loss Traning 0.34945211254737596\n",
      "Preparing seqs\n",
      "Seqs finished\n",
      "Epoch 2 Loss Traning 0.3208378864960237\n",
      "Preparing seqs\n",
      "Seqs finished\n",
      "Epoch 3 Loss Traning 0.3140031745036443\n",
      "Preparing seqs\n",
      "Seqs finished\n",
      "Epoch 4 Loss Traning 0.30037995975351695\n",
      "Preparing seqs\n",
      "Seqs finished\n",
      "Epoch 5 Loss Traning 0.2939612287463564\n",
      "Preparing seqs\n",
      "Seqs finished\n",
      "Epoch 6 Loss Traning 0.2853489639519742\n",
      "Preparing seqs\n",
      "Seqs finished\n",
      "Epoch 7 Loss Traning 0.2819291004967509\n",
      "Preparing seqs\n",
      "Seqs finished\n",
      "Epoch 8 Loss Traning 0.27752474351136974\n",
      "Preparing seqs\n",
      "Seqs finished\n",
      "Epoch 9 Loss Traning 0.27621414032623626\n",
      "Preparing seqs\n",
      "Seqs finished\n",
      "Epoch 10 Loss Traning 0.2722094144220605\n",
      "Preparing seqs\n",
      "Seqs finished\n",
      "Epoch 11 Loss Traning 0.27029626201273815\n",
      "Preparing seqs\n",
      "Seqs finished\n",
      "Epoch 12 Loss Traning 0.2694352525991924\n",
      "Preparing seqs\n",
      "Seqs finished\n",
      "Epoch 13 Loss Traning 0.2685938873187159\n",
      "Preparing seqs\n",
      "Seqs finished\n",
      "Epoch 14 Loss Traning 0.26934529372462723\n",
      "Preparing seqs\n",
      "Seqs finished\n",
      "Epoch 15 Loss Traning 0.26623450067232957\n",
      "Preparing seqs\n",
      "Seqs finished\n",
      "Epoch 16 Loss Traning 0.264081541053725\n",
      "Preparing seqs\n",
      "Seqs finished\n",
      "Epoch 17 Loss Traning 0.26217500447775377\n",
      "Preparing seqs\n",
      "Seqs finished\n",
      "Epoch 18 Loss Traning 0.2612409328646732\n",
      "Preparing seqs\n",
      "Seqs finished\n",
      "Epoch 19 Loss Traning 0.26095100514816516\n",
      "Preparing seqs\n",
      "Seqs finished\n",
      "Epoch 20 Loss Traning 0.2604253925383091\n",
      "Preparing seqs\n",
      "Seqs finished\n",
      "Epoch 21 Loss Traning 0.2609187070506089\n",
      "Preparing seqs\n",
      "Seqs finished\n",
      "Epoch 22 Loss Traning 0.2592501782558181\n",
      "Preparing seqs\n",
      "Seqs finished\n",
      "Epoch 23 Loss Traning 0.25722572811399447\n",
      "Preparing seqs\n",
      "Seqs finished\n",
      "Epoch 24 Loss Traning 0.2597675063844883\n",
      "Preparing seqs\n",
      "Seqs finished\n",
      "Epoch 25 Loss Traning 0.2591319028288126\n",
      "Preparing seqs\n",
      "Seqs finished\n",
      "Epoch 26 Loss Traning 0.25664925959074136\n",
      "Preparing seqs\n",
      "Seqs finished\n",
      "Epoch 27 Loss Traning 0.25595294480974023\n",
      "Preparing seqs\n",
      "Seqs finished\n",
      "Epoch 28 Loss Traning 0.2555476267342315\n",
      "Preparing seqs\n",
      "Seqs finished\n",
      "Epoch 29 Loss Traning 0.2547145035456527\n",
      "Preparing seqs\n",
      "Seqs finished\n",
      "Epoch 30 Loss Traning 0.253400136124004\n",
      "Preparing seqs\n",
      "Seqs finished\n",
      "Epoch 31 Loss Traning 0.2525905018503016\n",
      "Preparing seqs\n",
      "Seqs finished\n",
      "Epoch 32 Loss Traning 0.2514213368183736\n",
      "Preparing seqs\n",
      "Seqs finished\n",
      "Epoch 33 Loss Traning 0.2521218068220399\n",
      "Preparing seqs\n",
      "Seqs finished\n",
      "Epoch 34 Loss Traning 0.25696275230835786\n",
      "Preparing seqs\n",
      "Seqs finished\n",
      "Epoch 35 Loss Traning 0.2502439528365027\n",
      "Preparing seqs\n",
      "Seqs finished\n",
      "Epoch 36 Loss Traning 0.251833263784647\n",
      "Preparing seqs\n",
      "Seqs finished\n",
      "Epoch 37 Loss Traning 0.249613306344007\n",
      "Preparing seqs\n",
      "Seqs finished\n",
      "Epoch 38 Loss Traning 0.2498609758913517\n",
      "Preparing seqs\n",
      "Seqs finished\n",
      "Epoch 39 Loss Traning 0.255519495373874\n",
      "Preparing seqs\n",
      "Seqs finished\n",
      "Epoch 40 Loss Traning 0.24971647786371637\n",
      "Preparing seqs\n",
      "Seqs finished\n",
      "Epoch 41 Loss Traning 0.2568609463897618\n",
      "Preparing seqs\n",
      "Seqs finished\n",
      "Epoch 42 Loss Traning 0.25268900766968727\n",
      "Preparing seqs\n",
      "Seqs finished\n",
      "Epoch 43 Loss Traning 0.2481068872818441\n",
      "Preparing seqs\n",
      "Seqs finished\n",
      "Epoch 44 Loss Traning 0.24719576221523862\n",
      "Preparing seqs\n",
      "Seqs finished\n",
      "Epoch 45 Loss Traning 0.24733054677419591\n",
      "Preparing seqs\n",
      "Seqs finished\n",
      "Epoch 46 Loss Traning 0.2488504515001268\n",
      "Preparing seqs\n",
      "Seqs finished\n",
      "Epoch 47 Loss Traning 0.2467255009281816\n",
      "Preparing seqs\n",
      "Seqs finished\n",
      "Epoch 48 Loss Traning 0.24846882480337765\n",
      "Preparing seqs\n",
      "Seqs finished\n",
      "Epoch 49 Loss Traning 0.2458078839223493\n",
      "Preparing seqs\n",
      "Seqs finished\n",
      "Epoch 50 Loss Traning 0.24835120147150574\n",
      "Preparing seqs\n",
      "Seqs finished\n",
      "Epoch 51 Loss Traning 0.2510822783365394\n",
      "Preparing seqs\n",
      "Seqs finished\n",
      "Epoch 52 Loss Traning 0.24480657426245284\n",
      "Preparing seqs\n",
      "Seqs finished\n",
      "Epoch 53 Loss Traning 0.2444856914719849\n",
      "Preparing seqs\n",
      "Seqs finished\n",
      "Epoch 54 Loss Traning 0.24535266434152922\n",
      "Preparing seqs\n",
      "Seqs finished\n",
      "Epoch 55 Loss Traning 0.24386713924733075\n",
      "Preparing seqs\n",
      "Seqs finished\n",
      "Epoch 56 Loss Traning 0.2423236488618634\n",
      "Preparing seqs\n",
      "Seqs finished\n",
      "Epoch 57 Loss Traning 0.24287273260680112\n",
      "Preparing seqs\n",
      "Seqs finished\n",
      "Epoch 58 Loss Traning 0.24391040674438982\n",
      "Preparing seqs\n",
      "Seqs finished\n",
      "Epoch 59 Loss Traning 0.24437803148546003\n",
      "Preparing seqs\n",
      "Seqs finished\n",
      "Epoch 60 Loss Traning 0.24336630597033285\n",
      "Preparing seqs\n",
      "Seqs finished\n",
      "Epoch 61 Loss Traning 0.24214180604074942\n",
      "Preparing seqs\n",
      "Seqs finished\n",
      "Epoch 62 Loss Traning 0.24168051022923354\n",
      "Preparing seqs\n",
      "Seqs finished\n",
      "Epoch 63 Loss Traning 0.24394399373594558\n",
      "Preparing seqs\n",
      "Seqs finished\n",
      "Epoch 64 Loss Traning 0.2417327273975719\n",
      "Preparing seqs\n",
      "Seqs finished\n",
      "Epoch 65 Loss Traning 0.2423764414746653\n",
      "Preparing seqs\n",
      "Seqs finished\n",
      "Epoch 66 Loss Traning 0.2403126759172389\n",
      "Preparing seqs\n",
      "Seqs finished\n",
      "Epoch 67 Loss Traning 0.24008396747663166\n",
      "Preparing seqs\n",
      "Seqs finished\n",
      "Epoch 68 Loss Traning 0.2401707282459194\n",
      "Preparing seqs\n",
      "Seqs finished\n",
      "Epoch 69 Loss Traning 0.23878318003632806\n",
      "Preparing seqs\n",
      "Seqs finished\n",
      "Epoch 70 Loss Traning 0.24250883349415028\n",
      "Preparing seqs\n",
      "Seqs finished\n",
      "Epoch 71 Loss Traning 0.2484630678752155\n",
      "Preparing seqs\n",
      "Seqs finished\n",
      "Epoch 72 Loss Traning 0.23944815005542655\n",
      "Preparing seqs\n",
      "Seqs finished\n",
      "Epoch 73 Loss Traning 0.24014055249140118\n",
      "Preparing seqs\n",
      "Seqs finished\n",
      "Epoch 74 Loss Traning 0.24058783483324628\n",
      "Preparing seqs\n",
      "Seqs finished\n",
      "Epoch 75 Loss Traning 0.23956499863980393\n",
      "Preparing seqs\n",
      "Seqs finished\n",
      "Epoch 76 Loss Traning 0.2377549254645904\n",
      "Preparing seqs\n",
      "Seqs finished\n",
      "Epoch 77 Loss Traning 0.23775591729491047\n",
      "Preparing seqs\n",
      "Seqs finished\n",
      "Epoch 78 Loss Traning 0.23678520553265558\n",
      "Preparing seqs\n",
      "Seqs finished\n",
      "Epoch 79 Loss Traning 0.23777304821167933\n",
      "Preparing seqs\n",
      "Seqs finished\n",
      "Epoch 80 Loss Traning 0.23649176441584574\n",
      "Preparing seqs\n",
      "Seqs finished\n",
      "Epoch 81 Loss Traning 0.23725282745153614\n",
      "Preparing seqs\n",
      "Seqs finished\n",
      "Epoch 82 Loss Traning 0.23489067505932215\n",
      "Preparing seqs\n",
      "Seqs finished\n",
      "Epoch 83 Loss Traning 0.2351288917389783\n",
      "Preparing seqs\n",
      "Seqs finished\n",
      "Epoch 84 Loss Traning 0.23912592147561637\n",
      "Preparing seqs\n",
      "Seqs finished\n",
      "Epoch 85 Loss Traning 0.23586122070749602\n",
      "Preparing seqs\n",
      "Seqs finished\n",
      "Epoch 86 Loss Traning 0.2360509236089208\n",
      "Preparing seqs\n",
      "Seqs finished\n",
      "Epoch 87 Loss Traning 0.23762827496411223\n",
      "Preparing seqs\n",
      "Seqs finished\n",
      "Epoch 88 Loss Traning 0.23806172677061774\n",
      "Preparing seqs\n",
      "Seqs finished\n",
      "Epoch 89 Loss Traning 0.24541075736510032\n",
      "Preparing seqs\n",
      "Seqs finished\n",
      "Epoch 90 Loss Traning 0.23604068092324518\n",
      "Preparing seqs\n",
      "Seqs finished\n",
      "Epoch 91 Loss Traning 0.23440823438718464\n",
      "Preparing seqs\n",
      "Seqs finished\n",
      "Epoch 92 Loss Traning 0.23226624495829595\n",
      "Preparing seqs\n",
      "Seqs finished\n",
      "Epoch 93 Loss Traning 0.23482351925111178\n",
      "Preparing seqs\n",
      "Seqs finished\n",
      "Epoch 94 Loss Traning 0.23624051966224657\n",
      "Preparing seqs\n",
      "Seqs finished\n",
      "Epoch 95 Loss Traning 0.23540191696674534\n",
      "Preparing seqs\n",
      "Seqs finished\n",
      "Epoch 96 Loss Traning 0.2340761534305233\n",
      "Preparing seqs\n",
      "Seqs finished\n",
      "Epoch 97 Loss Traning 0.2335562745504307\n",
      "Preparing seqs\n",
      "Seqs finished\n",
      "Epoch 98 Loss Traning 0.23233171970103728\n",
      "Preparing seqs\n",
      "Seqs finished\n",
      "Epoch 99 Loss Traning 0.23232810114595023\n",
      "Preparing seqs\n",
      "Seqs finished\n",
      "Epoch 100 Loss Traning 0.23235014250332658\n",
      "Preparing seqs\n",
      "Seqs finished\n",
      "Epoch 101 Loss Traning 0.23880339109084822\n",
      "Preparing seqs\n",
      "Seqs finished\n",
      "Epoch 102 Loss Traning 0.2359673356016477\n",
      "Preparing seqs\n",
      "Seqs finished\n",
      "Epoch 103 Loss Traning 0.23294970951974392\n",
      "Preparing seqs\n",
      "Seqs finished\n",
      "Epoch 104 Loss Traning 0.2337363472377712\n",
      "Preparing seqs\n",
      "Seqs finished\n",
      "Epoch 105 Loss Traning 0.23219081646565234\n",
      "Preparing seqs\n",
      "Seqs finished\n",
      "Epoch 106 Loss Traning 0.23185636131375126\n",
      "Preparing seqs\n",
      "Seqs finished\n",
      "Epoch 107 Loss Traning 0.23259727589108728\n",
      "Preparing seqs\n",
      "Seqs finished\n",
      "Epoch 108 Loss Traning 0.23253652109115414\n",
      "Preparing seqs\n",
      "Seqs finished\n",
      "Epoch 109 Loss Traning 0.2335209402283936\n",
      "Preparing seqs\n",
      "Seqs finished\n",
      "Epoch 110 Loss Traning 0.2359296873663411\n",
      "Preparing seqs\n",
      "Seqs finished\n",
      "Epoch 111 Loss Traning 0.23403490775010802\n",
      "Preparing seqs\n",
      "Seqs finished\n",
      "Epoch 112 Loss Traning 0.23047084660466874\n",
      "Preparing seqs\n",
      "Seqs finished\n",
      "Epoch 113 Loss Traning 0.2314412436363372\n",
      "Preparing seqs\n",
      "Seqs finished\n",
      "Epoch 114 Loss Traning 0.23302062770182436\n",
      "Preparing seqs\n",
      "Seqs finished\n",
      "Epoch 115 Loss Traning 0.23305581651176466\n",
      "Preparing seqs\n",
      "Seqs finished\n",
      "Epoch 116 Loss Traning 0.23150021887638353\n",
      "Preparing seqs\n"
     ]
    },
    {
     "name": "stdout",
     "output_type": "stream",
     "text": [
      "Seqs finished\n",
      "Epoch 117 Loss Traning 0.22992178549369177\n",
      "Preparing seqs\n",
      "Seqs finished\n",
      "Epoch 118 Loss Traning 0.23229671958269496\n",
      "Preparing seqs\n",
      "Seqs finished\n",
      "Epoch 119 Loss Traning 0.232002179787466\n",
      "Preparing seqs\n",
      "Seqs finished\n",
      "Epoch 120 Loss Traning 0.23146909706746088\n",
      "Preparing seqs\n",
      "Seqs finished\n",
      "Epoch 121 Loss Traning 0.22937776814355995\n",
      "Preparing seqs\n",
      "Seqs finished\n",
      "Epoch 122 Loss Traning 0.23005094497718595\n",
      "Preparing seqs\n",
      "Seqs finished\n",
      "Epoch 123 Loss Traning 0.23022616677211993\n",
      "Preparing seqs\n",
      "Seqs finished\n",
      "Epoch 124 Loss Traning 0.23404722587403023\n",
      "Preparing seqs\n",
      "Seqs finished\n",
      "Epoch 125 Loss Traning 0.23015157291383453\n",
      "Preparing seqs\n",
      "Seqs finished\n",
      "Epoch 126 Loss Traning 0.23002262865052078\n",
      "Preparing seqs\n",
      "Seqs finished\n",
      "Epoch 127 Loss Traning 0.229838033178539\n",
      "Preparing seqs\n",
      "Seqs finished\n",
      "Epoch 128 Loss Traning 0.23301023019082617\n",
      "Preparing seqs\n",
      "Seqs finished\n",
      "Epoch 129 Loss Traning 0.22936948992763506\n",
      "Preparing seqs\n",
      "Seqs finished\n",
      "Epoch 130 Loss Traning 0.2301639337092638\n",
      "Preparing seqs\n",
      "Seqs finished\n",
      "Epoch 131 Loss Traning 0.23635001254804205\n",
      "Preparing seqs\n",
      "Seqs finished\n",
      "Epoch 132 Loss Traning 0.23075586280813723\n",
      "Preparing seqs\n",
      "Seqs finished\n",
      "Epoch 133 Loss Traning 0.22938926247033206\n",
      "Preparing seqs\n",
      "Seqs finished\n",
      "Epoch 134 Loss Traning 0.22889373400671917\n",
      "Preparing seqs\n",
      "Seqs finished\n",
      "Epoch 135 Loss Traning 0.23091602906810516\n",
      "Preparing seqs\n",
      "Seqs finished\n",
      "Epoch 136 Loss Traning 0.23048434869358034\n",
      "Preparing seqs\n",
      "Seqs finished\n",
      "Epoch 137 Loss Traning 0.22788912136897896\n",
      "Preparing seqs\n",
      "Seqs finished\n",
      "Epoch 138 Loss Traning 0.2287743085374435\n",
      "Preparing seqs\n",
      "Seqs finished\n",
      "Epoch 139 Loss Traning 0.22994648292660713\n",
      "Preparing seqs\n",
      "Seqs finished\n",
      "Epoch 140 Loss Traning 0.22956874464271645\n",
      "Preparing seqs\n",
      "Seqs finished\n",
      "Epoch 141 Loss Traning 0.2276366798940933\n",
      "Preparing seqs\n",
      "Seqs finished\n",
      "Epoch 142 Loss Traning 0.2310237671728387\n",
      "Preparing seqs\n",
      "Seqs finished\n",
      "Epoch 143 Loss Traning 0.23134997515290073\n",
      "Preparing seqs\n",
      "Seqs finished\n",
      "Epoch 144 Loss Traning 0.226324707156781\n",
      "Preparing seqs\n",
      "Seqs finished\n",
      "Epoch 145 Loss Traning 0.22635726088827307\n",
      "Preparing seqs\n",
      "Seqs finished\n",
      "Epoch 146 Loss Traning 0.22740908757303702\n",
      "Preparing seqs\n",
      "Seqs finished\n",
      "Epoch 147 Loss Traning 0.22798238632579645\n",
      "Preparing seqs\n",
      "Seqs finished\n",
      "Epoch 148 Loss Traning 0.22632471996952186\n",
      "Preparing seqs\n",
      "Seqs finished\n",
      "Epoch 149 Loss Traning 0.2281724809471405\n",
      "Preparing seqs\n",
      "Seqs finished\n",
      "Epoch 150 Loss Traning 0.2275265044335163\n",
      "Preparing seqs\n",
      "Seqs finished\n",
      "Epoch 151 Loss Traning 0.22890613386125275\n",
      "Preparing seqs\n",
      "Seqs finished\n",
      "Epoch 152 Loss Traning 0.22644967168118013\n",
      "Preparing seqs\n",
      "Seqs finished\n",
      "Epoch 153 Loss Traning 0.22749037205269843\n",
      "Preparing seqs\n",
      "Seqs finished\n",
      "Epoch 154 Loss Traning 0.22704839480645728\n",
      "Preparing seqs\n",
      "Seqs finished\n",
      "Epoch 155 Loss Traning 0.2293091549566298\n",
      "Preparing seqs\n",
      "Seqs finished\n",
      "Epoch 156 Loss Traning 0.22886526714445968\n",
      "Preparing seqs\n",
      "Seqs finished\n",
      "Epoch 157 Loss Traning 0.2278124928248651\n",
      "Preparing seqs\n",
      "Seqs finished\n",
      "Epoch 158 Loss Traning 0.22658696736801753\n",
      "Preparing seqs\n",
      "Seqs finished\n",
      "Epoch 159 Loss Traning 0.2259668759775884\n",
      "Preparing seqs\n",
      "Seqs finished\n",
      "Epoch 160 Loss Traning 0.22770352763208476\n",
      "Preparing seqs\n",
      "Seqs finished\n",
      "Epoch 161 Loss Traning 0.22858035959529155\n",
      "Preparing seqs\n",
      "Seqs finished\n",
      "Epoch 162 Loss Traning 0.22859844966142467\n",
      "Preparing seqs\n",
      "Seqs finished\n",
      "Epoch 163 Loss Traning 0.22544253809433995\n",
      "Preparing seqs\n",
      "Seqs finished\n",
      "Epoch 164 Loss Traning 0.22787934276416447\n",
      "Preparing seqs\n",
      "Seqs finished\n",
      "Epoch 165 Loss Traning 0.22534087181768633\n",
      "Preparing seqs\n",
      "Seqs finished\n",
      "Epoch 166 Loss Traning 0.22811415588313882\n",
      "Preparing seqs\n",
      "Seqs finished\n",
      "Epoch 167 Loss Traning 0.225467977593794\n",
      "Preparing seqs\n",
      "Seqs finished\n",
      "Epoch 168 Loss Traning 0.225170471790162\n",
      "Preparing seqs\n",
      "Seqs finished\n",
      "Epoch 169 Loss Traning 0.22826224689682326\n",
      "Preparing seqs\n",
      "Seqs finished\n",
      "Epoch 170 Loss Traning 0.22457367689772087\n",
      "Preparing seqs\n",
      "Seqs finished\n",
      "Epoch 171 Loss Traning 0.22475003428531415\n",
      "Preparing seqs\n",
      "Seqs finished\n",
      "Epoch 172 Loss Traning 0.22745234801462202\n",
      "Preparing seqs\n",
      "Seqs finished\n",
      "Epoch 173 Loss Traning 0.2231625724922527\n",
      "Preparing seqs\n",
      "Seqs finished\n",
      "Epoch 174 Loss Traning 0.22548093629831617\n",
      "Preparing seqs\n",
      "Seqs finished\n",
      "Epoch 175 Loss Traning 0.22768813574855978\n",
      "Preparing seqs\n",
      "Seqs finished\n",
      "Epoch 176 Loss Traning 0.22431203993884\n",
      "Preparing seqs\n",
      "Seqs finished\n",
      "Epoch 177 Loss Traning 0.22558074647730048\n",
      "Preparing seqs\n",
      "Seqs finished\n",
      "Epoch 178 Loss Traning 0.22668401772777239\n",
      "Preparing seqs\n",
      "Seqs finished\n",
      "Epoch 179 Loss Traning 0.22901261885735122\n",
      "Preparing seqs\n",
      "Seqs finished\n",
      "Epoch 180 Loss Traning 0.22431410753139944\n",
      "Preparing seqs\n",
      "Seqs finished\n",
      "Epoch 181 Loss Traning 0.22394449890337206\n",
      "Preparing seqs\n",
      "Seqs finished\n",
      "Epoch 182 Loss Traning 0.22801921923052182\n",
      "Preparing seqs\n",
      "Seqs finished\n",
      "Epoch 183 Loss Traning 0.22543912313201211\n",
      "Preparing seqs\n",
      "Seqs finished\n",
      "Epoch 184 Loss Traning 0.2246461296736291\n",
      "Preparing seqs\n",
      "Seqs finished\n",
      "Epoch 185 Loss Traning 0.22553153042540405\n",
      "Preparing seqs\n",
      "Seqs finished\n",
      "Epoch 186 Loss Traning 0.22620161735650265\n",
      "Preparing seqs\n",
      "Seqs finished\n",
      "Epoch 187 Loss Traning 0.22520128519020297\n",
      "Preparing seqs\n",
      "Seqs finished\n",
      "Epoch 188 Loss Traning 0.22436887212097645\n",
      "Preparing seqs\n",
      "Seqs finished\n",
      "Epoch 189 Loss Traning 0.2247774222809257\n",
      "Preparing seqs\n",
      "Seqs finished\n",
      "Epoch 190 Loss Traning 0.22729408233003182\n",
      "Preparing seqs\n",
      "Seqs finished\n",
      "Epoch 191 Loss Traning 0.2233558717663541\n",
      "Preparing seqs\n",
      "Seqs finished\n",
      "Epoch 192 Loss Traning 0.2240970926077077\n",
      "Preparing seqs\n",
      "Seqs finished\n",
      "Epoch 193 Loss Traning 0.22282499137024084\n",
      "Preparing seqs\n",
      "Seqs finished\n",
      "Epoch 194 Loss Traning 0.22356763736090876\n",
      "Preparing seqs\n",
      "Seqs finished\n",
      "Epoch 195 Loss Traning 0.22341437276565668\n",
      "Preparing seqs\n",
      "Seqs finished\n",
      "Epoch 196 Loss Traning 0.2255651205778122\n",
      "Preparing seqs\n",
      "Seqs finished\n",
      "Epoch 197 Loss Traning 0.22346471724185077\n",
      "Preparing seqs\n",
      "Seqs finished\n",
      "Epoch 198 Loss Traning 0.22551014968617397\n",
      "Preparing seqs\n",
      "Seqs finished\n",
      "Epoch 199 Loss Traning 0.22246101848555333\n"
     ]
    }
   ],
   "source": [
    "from dmg.deeplearning.generativeModel import GenerativeModel\n",
    "import torch\n",
    "import torch.nn as nn\n",
    "import multiprocess as mp\n",
    "\n",
    "def f(g):\n",
    "    sequence = ecore.ecore_pallete.graphToSequence(g)\n",
    "    sequence = [(addInvEdges(s[0], ecore.ecore_pallete, ecore.ecore_separator),s[1]) for s in sequence]\n",
    "    return sequence2data(sequence, ecore.ecore_pallete, max_len)\n",
    "\n",
    "epochs = 200\n",
    "hidden_dim = 128\n",
    "\n",
    "\n",
    "criterion_node = nn.CrossEntropyLoss(reduction = 'mean',ignore_index=-1)\n",
    "criterion_action = nn.CrossEntropyLoss(reduction = 'mean')\n",
    "criterion_finish = nn.BCELoss(reduction = 'mean')\n",
    "model = GenerativeModel(hidden_dim, ecore.dic_nodes_ecore, ecore.dic_edges_ecore, ecore.dic_operations_ecore)\n",
    "opt = torch.optim.Adam(model.parameters(), lr=0.001)\n",
    "#scheduler = torch.optim.lr_scheduler.StepLR(opt, step_size=10, gamma=0.1)\n",
    "\n",
    "for epoch in range(epochs):\n",
    "    model.train()\n",
    "    total_loss = 0\n",
    "    listDatas = []\n",
    "    #preparing training set\n",
    "    print('Preparing seqs')\n",
    "    with mp.Pool(10) as pool:\n",
    "        listDatas = pool.map(f, graphs)\n",
    "    listDatas = [r for rr in listDatas for r in rr]\n",
    "    print('Seqs finished')\n",
    "    loader = DataLoader(listDatas, batch_size=batch_size, \n",
    "                            num_workers = 0, \n",
    "                            shuffle=False)\n",
    "    #training\n",
    "    for data in loader:\n",
    "        opt.zero_grad()\n",
    "        action, nodes, finish = model(data.x, data.edge_index, \n",
    "                        torch.squeeze(data.edge_attr,dim=1), \n",
    "                data.batch, data.sequence, data.nodes, data.len_seq, data.action)\n",
    "        \n",
    "        nodes = torch.unsqueeze(nodes, dim = 2).repeat(1,1,2)\n",
    "        nodes[:,:,0] = 1 - nodes[:,:,1]\n",
    "            \n",
    "        L = torch.max(data.len_seq).item()\n",
    "        gTruth = data.sequence_masked[:,0:L]\n",
    "        loss = (criterion_node(nodes.reshape(-1,2), gTruth.flatten()) +\n",
    "                    criterion_action(action, data.action) +\n",
    "                    criterion_finish(finish.flatten(), data.finished.float())) / 3\n",
    "        total_loss += loss.item()\n",
    "        loss.backward()\n",
    "        opt.step()\n",
    "    #validation\n",
    "    if do_eval:\n",
    "        val_loss = 0\n",
    "        model.eval()\n",
    "        with torch.no_grad():\n",
    "            for data in loader_val:\n",
    "                action, nodes, finish = model(data.x, data.edge_index, \n",
    "                            torch.squeeze(data.edge_attr,dim=1), \n",
    "                    data.batch, data.sequence, data.nodes, data.len_seq, data.action)\n",
    "                nodes = torch.unsqueeze(nodes, dim = 2).repeat(1,1,2)\n",
    "                nodes[:,:,0] = 1 - nodes[:,:,1]\n",
    "\n",
    "                L = torch.max(data.len_seq).item()\n",
    "                gTruth = data.sequence_masked[:,0:L]\n",
    "                loss = (criterion_node(nodes.reshape(-1,2), gTruth.flatten()) +\n",
    "                        criterion_action(action, data.action) +\n",
    "                        criterion_finish(finish.flatten(), data.finished.float())) / 3\n",
    "                val_loss+= loss.item()\n",
    "        \n",
    "    print('Epoch',epoch,'Loss Traning',total_loss/(len(loader)))\n",
    "    #scheduler.step()\n",
    "    if do_eval:\n",
    "        print('Epoch',epoch,'Loss Val',val_loss/(len(loader_val)))\n",
    "        "
   ]
  },
  {
   "cell_type": "markdown",
   "metadata": {},
   "source": [
    "# Loading test"
   ]
  },
  {
   "cell_type": "code",
   "execution_count": null,
   "metadata": {},
   "outputs": [],
   "source": [
    "files = glob.glob(\"../data/ecoreDataset/test/*\")\n",
    "graphs_test = []\n",
    "for f in files:\n",
    "    graphs_test.append(m2g.getGraphFromModel(f, \n",
    "                                  meta_models, metafilterobj,\n",
    "                                  consider_atts = False))\n",
    "print('Number of graphs:', len(graphs_test))    "
   ]
  },
  {
   "cell_type": "code",
   "execution_count": 24,
   "metadata": {},
   "outputs": [
    {
     "name": "stdout",
     "output_type": "stream",
     "text": [
      "/home/antolin/wakame/DMG-Python\n",
      "/home/antolin/wakame/DMG-Python/notebooks\n"
     ]
    }
   ],
   "source": [
    "%cd ..\n",
    "files = glob.glob(\"data/ecoreDataset/test/*\")\n",
    "graphs_test = []\n",
    "for f in files:\n",
    "    #graphs_test.append(m2g.getGraphFromModel(f, \n",
    "    #                              meta_models, metafilterobj,\n",
    "    #                              consider_atts = False))\n",
    "    graphs_test.append(m2g.model2graphJava('ecore', f))\n",
    "%cd notebooks"
   ]
  },
  {
   "cell_type": "markdown",
   "metadata": {},
   "source": [
    "# Sample models"
   ]
  },
  {
   "cell_type": "code",
   "execution_count": 25,
   "metadata": {
    "scrolled": true
   },
   "outputs": [
    {
     "name": "stderr",
     "output_type": "stream",
     "text": [
      "../dmg/deeplearning/generativeModel.py:133: UserWarning: Implicit dimension choice for softmax has been deprecated. Change the call to include dim=X as an argument.\n",
      "  m = Categorical(F.softmax(torch.squeeze(action)))\n",
      "/home/antolin/anaconda3/lib/python3.8/site-packages/torch/nn/functional.py:1805: UserWarning: nn.functional.sigmoid is deprecated. Use torch.sigmoid instead.\n",
      "  warnings.warn(\"nn.functional.sigmoid is deprecated. Use torch.sigmoid instead.\")\n"
     ]
    },
    {
     "name": "stdout",
     "output_type": "stream",
     "text": [
      "Generated 0\n",
      "Generated 1\n",
      "Generated 2\n",
      "Generated 3\n",
      "Generated 4\n",
      "Generated 5\n",
      "Generated 6\n",
      "Generated 7\n",
      "Generated 8\n",
      "Generated 9\n",
      "Generated 10\n",
      "Generated 11\n",
      "Generated 12\n",
      "Generated 13\n",
      "Generated 14\n",
      "Generated 15\n",
      "Generated 16\n",
      "Generated 17\n",
      "Generated 18\n",
      "Generated 19\n",
      "Generated 20\n",
      "Generated 21\n",
      "Generated 22\n",
      "Generated 23\n",
      "Generated 24\n",
      "Generated 25\n",
      "Generated 26\n",
      "Generated 27\n",
      "Generated 28\n",
      "Generated 29\n",
      "Generated 30\n",
      "Generated 31\n",
      "Generated 32\n",
      "Generated 33\n",
      "Generated 34\n",
      "Generated 35\n",
      "Generated 36\n",
      "Generated 37\n",
      "Generated 38\n",
      "Generated 39\n",
      "Generated 40\n",
      "Generated 41\n",
      "Generated 42\n",
      "Generated 43\n",
      "Generated 44\n",
      "Generated 45\n",
      "Generated 46\n",
      "Generated 47\n",
      "Generated 48\n",
      "Generated 49\n",
      "Generated 50\n",
      "Generated 51\n",
      "Generated 52\n",
      "Generated 53\n",
      "Generated 54\n",
      "Generated 55\n",
      "Generated 56\n",
      "Generated 57\n",
      "Generated 58\n",
      "Generated 59\n",
      "Generated 60\n",
      "Generated 61\n",
      "Generated 62\n",
      "Generated 63\n",
      "Generated 64\n",
      "Generated 65\n",
      "Generated 66\n",
      "Generated 67\n",
      "Generated 68\n",
      "Generated 69\n",
      "Generated 70\n",
      "Generated 71\n",
      "Generated 72\n",
      "Generated 73\n",
      "Generated 74\n",
      "Generated 75\n",
      "Generated 76\n",
      "Generated 77\n",
      "Generated 78\n",
      "Generated 79\n",
      "Generated 80\n",
      "Generated 81\n",
      "Generated 82\n",
      "Generated 83\n",
      "Generated 84\n",
      "Generated 85\n",
      "Generated 86\n",
      "Generated 87\n",
      "Generated 88\n",
      "Generated 89\n",
      "Generated 90\n",
      "Generated 91\n",
      "Generated 92\n",
      "Generated 93\n",
      "Generated 94\n",
      "Generated 95\n",
      "Generated 96\n",
      "Generated 97\n",
      "Generated 98\n",
      "Generated 99\n",
      "Generated 100\n",
      "Generated 101\n",
      "Generated 102\n",
      "Generated 103\n",
      "Generated 104\n",
      "Generated 105\n",
      "Generated 106\n",
      "Generated 107\n",
      "Generated 108\n",
      "Generated 109\n",
      "Generated 110\n",
      "Generated 111\n",
      "Generated 112\n",
      "Generated 113\n",
      "Generated 114\n",
      "Generated 115\n",
      "Generated 116\n",
      "Generated 117\n",
      "Generated 118\n",
      "Generated 119\n",
      "Generated 120\n",
      "Generated 121\n",
      "Generated 122\n",
      "Generated 123\n",
      "Generated 124\n",
      "Generated 125\n",
      "Generated 126\n",
      "Generated 127\n",
      "Generated 128\n",
      "Generated 129\n",
      "Generated 130\n",
      "Generated 131\n",
      "Generated 132\n",
      "Generated 133\n",
      "Generated 134\n",
      "Generated 135\n",
      "Generated 136\n",
      "Generated 137\n",
      "Generated 138\n",
      "Generated 139\n",
      "Generated 140\n",
      "Generated 141\n",
      "Generated 142\n",
      "Generated 143\n",
      "Generated 144\n",
      "Generated 145\n",
      "Generated 146\n",
      "Generated 147\n",
      "Generated 148\n",
      "Generated 149\n",
      "Generated 150\n",
      "Generated 151\n",
      "Generated 152\n",
      "Generated 153\n",
      "Generated 154\n",
      "Generated 155\n",
      "Generated 156\n",
      "Generated 157\n",
      "Generated 158\n",
      "Generated 159\n",
      "Generated 160\n",
      "Generated 161\n",
      "Generated 162\n",
      "Generated 163\n",
      "Generated 164\n",
      "Generated 165\n",
      "Generated 166\n",
      "Generated 167\n",
      "Generated 168\n",
      "Generated 169\n",
      "Generated 170\n",
      "Generated 171\n",
      "Generated 172\n",
      "Generated 173\n",
      "Generated 174\n",
      "Generated 175\n",
      "Generated 176\n",
      "Generated 177\n",
      "Generated 178\n",
      "Generated 179\n",
      "Generated 180\n",
      "Generated 181\n",
      "Generated 182\n",
      "Generated 183\n"
     ]
    }
   ],
   "source": [
    "from dmg.deeplearning.generativeModel import sampleGraph\n",
    "import numpy as np\n",
    "\n",
    "model.eval()\n",
    "max_size = np.max([len(g) for g in graphs])\n",
    "samples = []\n",
    "for i in range(max_size):\n",
    "    samples.append(sampleGraph(ecore.G_initial_ecore_1, ecore.ecore_pallete, model,\n",
    "                       max_size, ecore.ecore_separator, debug = False))\n",
    "    print('Generated',i)"
   ]
  },
  {
   "cell_type": "markdown",
   "metadata": {},
   "source": [
    "# Visual comparison"
   ]
  },
  {
   "cell_type": "markdown",
   "metadata": {},
   "source": [
    "## Size"
   ]
  },
  {
   "cell_type": "code",
   "execution_count": 26,
   "metadata": {},
   "outputs": [
    {
     "name": "stderr",
     "output_type": "stream",
     "text": [
      "/home/antolin/anaconda3/lib/python3.8/site-packages/seaborn/distributions.py:2551: FutureWarning: `distplot` is a deprecated function and will be removed in a future version. Please adapt your code to use either `displot` (a figure-level function with similar flexibility) or `kdeplot` (an axes-level function for kernel density plots).\n",
      "  warnings.warn(msg, FutureWarning)\n",
      "/home/antolin/anaconda3/lib/python3.8/site-packages/seaborn/distributions.py:2551: FutureWarning: `distplot` is a deprecated function and will be removed in a future version. Please adapt your code to use either `displot` (a figure-level function with similar flexibility) or `kdeplot` (an axes-level function for kernel density plots).\n",
      "  warnings.warn(msg, FutureWarning)\n"
     ]
    },
    {
     "data": {
      "text/plain": [
       "<matplotlib.axes._subplots.AxesSubplot at 0x7ff04ff23580>"
      ]
     },
     "execution_count": 26,
     "metadata": {},
     "output_type": "execute_result"
    },
    {
     "data": {
      "image/png": "[encoded data removed]",
      "text/plain": [
       "<Figure size 432x288 with 1 Axes>"
      ]
     },
     "metadata": {
      "needs_background": "light"
     },
     "output_type": "display_data"
    }
   ],
   "source": [
    "import seaborn as sns\n",
    "\n",
    "sns.distplot([len(G) for G in samples], hist=False, kde=True, \n",
    "             bins=int(180/5), color = 'red', label = 'NN')\n",
    "sns.distplot([len(G) for G in graphs_test], hist=False, kde=True, \n",
    "             bins=int(180/5), color = 'blue', label = 'Real')"
   ]
  },
  {
   "cell_type": "markdown",
   "metadata": {},
   "source": [
    "## Degree"
   ]
  },
  {
   "cell_type": "code",
   "execution_count": 27,
   "metadata": {},
   "outputs": [
    {
     "name": "stderr",
     "output_type": "stream",
     "text": [
      "/home/antolin/anaconda3/lib/python3.8/site-packages/seaborn/distributions.py:2551: FutureWarning: `distplot` is a deprecated function and will be removed in a future version. Please adapt your code to use either `displot` (a figure-level function with similar flexibility) or `kdeplot` (an axes-level function for kernel density plots).\n",
      "  warnings.warn(msg, FutureWarning)\n",
      "/home/antolin/anaconda3/lib/python3.8/site-packages/seaborn/distributions.py:2551: FutureWarning: `distplot` is a deprecated function and will be removed in a future version. Please adapt your code to use either `displot` (a figure-level function with similar flexibility) or `kdeplot` (an axes-level function for kernel density plots).\n",
      "  warnings.warn(msg, FutureWarning)\n"
     ]
    },
    {
     "data": {
      "text/plain": [
       "<matplotlib.axes._subplots.AxesSubplot at 0x7ff04d598a00>"
      ]
     },
     "execution_count": 27,
     "metadata": {},
     "output_type": "execute_result"
    },
    {
     "data": {
      "image/png": "[encoded data removed]",
      "text/plain": [
       "<Figure size 432x288 with 1 Axes>"
      ]
     },
     "metadata": {
      "needs_background": "light"
     },
     "output_type": "display_data"
    }
   ],
   "source": [
    "import numpy as np\n",
    "import dmg.realism.metrics as mt\n",
    "sns.distplot([np.mean(mt.getListDegree(G)) for G in samples], hist=False, kde=True, \n",
    "             bins=int(180/5), color = 'red', label = 'NN')\n",
    "sns.distplot([np.mean(mt.getListDegree(G)) for G in graphs_test], hist=False, kde=True, \n",
    "             bins=int(180/5), color = 'blue', label = 'Real')"
   ]
  },
  {
   "cell_type": "markdown",
   "metadata": {},
   "source": [
    "## MPC"
   ]
  },
  {
   "cell_type": "code",
   "execution_count": 28,
   "metadata": {},
   "outputs": [
    {
     "name": "stderr",
     "output_type": "stream",
     "text": [
      "/home/antolin/anaconda3/lib/python3.8/site-packages/seaborn/distributions.py:2551: FutureWarning: `distplot` is a deprecated function and will be removed in a future version. Please adapt your code to use either `displot` (a figure-level function with similar flexibility) or `kdeplot` (an axes-level function for kernel density plots).\n",
      "  warnings.warn(msg, FutureWarning)\n",
      "/home/antolin/anaconda3/lib/python3.8/site-packages/seaborn/distributions.py:2551: FutureWarning: `distplot` is a deprecated function and will be removed in a future version. Please adapt your code to use either `displot` (a figure-level function with similar flexibility) or `kdeplot` (an axes-level function for kernel density plots).\n",
      "  warnings.warn(msg, FutureWarning)\n"
     ]
    },
    {
     "data": {
      "text/plain": [
       "<matplotlib.axes._subplots.AxesSubplot at 0x7ff04d4ffc10>"
      ]
     },
     "execution_count": 28,
     "metadata": {},
     "output_type": "execute_result"
    },
    {
     "data": {
      "image/png": "[encoded data removed]",
      "text/plain": [
       "<Figure size 432x288 with 1 Axes>"
      ]
     },
     "metadata": {
      "needs_background": "light"
     },
     "output_type": "display_data"
    }
   ],
   "source": [
    "dims = list(ecore.dic_edges_ecore.keys())\n",
    "sns.distplot([np.mean(list(mt.MPC(G,dims).values())) for G in samples], hist=False, kde=True, \n",
    "             bins=int(180/5), color = 'red', label = 'NN')\n",
    "sns.distplot([np.mean(list(mt.MPC(G,dims).values())) for G in graphs_test], hist=False, kde=True, \n",
    "             bins=int(180/5), color = 'blue', label = 'Real')"
   ]
  },
  {
   "cell_type": "code",
   "execution_count": 89,
   "metadata": {},
   "outputs": [
    {
     "data": {
      "text/plain": [
       "[0, 0, 0, 0, 0, 0, 0, 0, 0, 0, 0, 0]"
      ]
     },
     "execution_count": 89,
     "metadata": {},
     "output_type": "execute_result"
    }
   ],
   "source": [
    "mt.getClustList(graphs_test[0])"
   ]
  },
  {
   "cell_type": "markdown",
   "metadata": {},
   "source": [
    "# Check isomorf and consistency"
   ]
  },
  {
   "cell_type": "code",
   "execution_count": 29,
   "metadata": {},
   "outputs": [
    {
     "data": {
      "image/png": "[encoded data removed]",
      "text/plain": [
       "<Figure size 432x288 with 1 Axes>"
      ]
     },
     "metadata": {
      "needs_background": "light"
     },
     "output_type": "display_data"
    }
   ],
   "source": [
    "import matplotlib.pyplot as plt\n",
    "\n",
    "h = plt.hist([len(G) for G in samples], bins = 20)"
   ]
  },
  {
   "cell_type": "code",
   "execution_count": 30,
   "metadata": {},
   "outputs": [
    {
     "data": {
      "image/png": "[encoded data removed]",
      "text/plain": [
       "<Figure size 432x288 with 1 Axes>"
      ]
     },
     "metadata": {
      "needs_background": "light"
     },
     "output_type": "display_data"
    }
   ],
   "source": [
    "h = plt.hist([len(G) for G in graphs], bins = 20)"
   ]
  },
  {
   "cell_type": "code",
   "execution_count": 31,
   "metadata": {},
   "outputs": [
    {
     "name": "stdout",
     "output_type": "stream",
     "text": [
      "22.82608695652174 % iso\n"
     ]
    }
   ],
   "source": [
    "#check isomorf\n",
    "iso = []\n",
    "for s in samples:\n",
    "    for g in graphs:\n",
    "        if (is_isomorphic(s,g,gu.node_match_type, gu.edge_match_type)):\n",
    "            iso.append(s)\n",
    "            break\n",
    "print(len(iso)*100/len(samples),'% iso')\n",
    "not_iso = [g for g in samples if not g in iso]"
   ]
  },
  {
   "cell_type": "code",
   "execution_count": 32,
   "metadata": {},
   "outputs": [
    {
     "name": "stdout",
     "output_type": "stream",
     "text": [
      "Mean size: 5.238095238095238\n"
     ]
    },
    {
     "data": {
      "image/png": "[encoded data removed]",
      "text/plain": [
       "<Figure size 432x288 with 1 Axes>"
      ]
     },
     "metadata": {},
     "output_type": "display_data"
    }
   ],
   "source": [
    "import numpy as np\n",
    "import seaborn as sns\n",
    "\n",
    "sns.set_theme(style=\"whitegrid\")\n",
    "ax = sns.boxplot(x=[len(G) for G in iso])\n",
    "print('Mean size:', np.mean([len(G) for G in iso]))"
   ]
  },
  {
   "cell_type": "code",
   "execution_count": 33,
   "metadata": {},
   "outputs": [
    {
     "name": "stdout",
     "output_type": "stream",
     "text": [
      "2.1739130434782608 % inconsistents\n"
     ]
    }
   ],
   "source": [
    "from dmg.ecore.ecoreConsistency import inconsistent\n",
    "#check consistency\n",
    "inconsistents = []\n",
    "for s in samples:\n",
    "    if inconsistent(s):\n",
    "        inconsistents.append(s)\n",
    "print(len(inconsistents)*100/len(samples),'% inconsistents')\n",
    "not_inconsistents = [g for g in samples if not g in inconsistents]"
   ]
  },
  {
   "cell_type": "code",
   "execution_count": 34,
   "metadata": {},
   "outputs": [
    {
     "name": "stdout",
     "output_type": "stream",
     "text": [
      "Mean size: 106.25\n"
     ]
    },
    {
     "data": {
      "image/png": "[encoded data removed]",
      "text/plain": [
       "<Figure size 432x288 with 1 Axes>"
      ]
     },
     "metadata": {},
     "output_type": "display_data"
    }
   ],
   "source": [
    "ax = sns.boxplot(x=[len(G) for G in inconsistents])\n",
    "print('Mean size:', np.mean([len(G) for G in inconsistents]))"
   ]
  },
  {
   "cell_type": "code",
   "execution_count": 35,
   "metadata": {},
   "outputs": [],
   "source": [
    "clean_new_models = [g for g in not_iso if not g in inconsistents]"
   ]
  },
  {
   "cell_type": "code",
   "execution_count": 36,
   "metadata": {},
   "outputs": [
    {
     "name": "stdout",
     "output_type": "stream",
     "text": [
      "Mean size: 25.08695652173913\n"
     ]
    },
    {
     "data": {
      "image/png": "[encoded data removed]",
      "text/plain": [
       "<Figure size 432x288 with 1 Axes>"
      ]
     },
     "metadata": {},
     "output_type": "display_data"
    }
   ],
   "source": [
    "ax = sns.boxplot(x=[len(G) for G in clean_new_models])\n",
    "print('Mean size:', np.mean([len(G) for G in clean_new_models]))"
   ]
  },
  {
   "cell_type": "code",
   "execution_count": 37,
   "metadata": {},
   "outputs": [
    {
     "name": "stdout",
     "output_type": "stream",
     "text": [
      "Mean size: 24.164596273291924\n"
     ]
    },
    {
     "data": {
      "image/png": "[encoded data removed]",
      "text/plain": [
       "<Figure size 432x288 with 1 Axes>"
      ]
     },
     "metadata": {},
     "output_type": "display_data"
    }
   ],
   "source": [
    "ax = sns.boxplot(x=[len(G) for G in graphs])\n",
    "print('Mean size:', np.mean([len(G) for G in graphs]))"
   ]
  },
  {
   "cell_type": "code",
   "execution_count": 38,
   "metadata": {},
   "outputs": [
    {
     "name": "stdout",
     "output_type": "stream",
     "text": [
      "138 clean models\n",
      "75.0 % clean models\n"
     ]
    }
   ],
   "source": [
    "print(len(clean_new_models),'clean models')\n",
    "print(len(clean_new_models)*100/len(samples),'% clean models')"
   ]
  },
  {
   "cell_type": "markdown",
   "metadata": {},
   "source": [
    "# Clean models"
   ]
  },
  {
   "cell_type": "code",
   "execution_count": 39,
   "metadata": {},
   "outputs": [
    {
     "name": "stderr",
     "output_type": "stream",
     "text": [
      "/home/antolin/anaconda3/lib/python3.8/site-packages/seaborn/distributions.py:2551: FutureWarning: `distplot` is a deprecated function and will be removed in a future version. Please adapt your code to use either `displot` (a figure-level function with similar flexibility) or `kdeplot` (an axes-level function for kernel density plots).\n",
      "  warnings.warn(msg, FutureWarning)\n",
      "/home/antolin/anaconda3/lib/python3.8/site-packages/seaborn/distributions.py:2551: FutureWarning: `distplot` is a deprecated function and will be removed in a future version. Please adapt your code to use either `displot` (a figure-level function with similar flexibility) or `kdeplot` (an axes-level function for kernel density plots).\n",
      "  warnings.warn(msg, FutureWarning)\n"
     ]
    },
    {
     "data": {
      "text/plain": [
       "<matplotlib.axes._subplots.AxesSubplot at 0x7ff04d1f99d0>"
      ]
     },
     "execution_count": 39,
     "metadata": {},
     "output_type": "execute_result"
    },
    {
     "data": {
      "image/png": "[encoded data removed]",
      "text/plain": [
       "<Figure size 432x288 with 1 Axes>"
      ]
     },
     "metadata": {},
     "output_type": "display_data"
    }
   ],
   "source": [
    "import seaborn as sns\n",
    "\n",
    "sns.distplot([len(G) for G in clean_new_models], hist=False, kde=True, \n",
    "             bins=int(180/5), color = 'red', label = 'NN')\n",
    "sns.distplot([len(G) for G in graphs_test], hist=False, kde=True, \n",
    "             bins=int(180/5), color = 'blue', label = 'Real')"
   ]
  },
  {
   "cell_type": "code",
   "execution_count": 40,
   "metadata": {},
   "outputs": [
    {
     "name": "stderr",
     "output_type": "stream",
     "text": [
      "/home/antolin/anaconda3/lib/python3.8/site-packages/seaborn/distributions.py:2551: FutureWarning: `distplot` is a deprecated function and will be removed in a future version. Please adapt your code to use either `displot` (a figure-level function with similar flexibility) or `kdeplot` (an axes-level function for kernel density plots).\n",
      "  warnings.warn(msg, FutureWarning)\n",
      "/home/antolin/anaconda3/lib/python3.8/site-packages/seaborn/distributions.py:2551: FutureWarning: `distplot` is a deprecated function and will be removed in a future version. Please adapt your code to use either `displot` (a figure-level function with similar flexibility) or `kdeplot` (an axes-level function for kernel density plots).\n",
      "  warnings.warn(msg, FutureWarning)\n"
     ]
    },
    {
     "data": {
      "text/plain": [
       "<matplotlib.axes._subplots.AxesSubplot at 0x7ff04d1e6490>"
      ]
     },
     "execution_count": 40,
     "metadata": {},
     "output_type": "execute_result"
    },
    {
     "data": {
      "image/png": "[encoded data removed]",
      "text/plain": [
       "<Figure size 432x288 with 1 Axes>"
      ]
     },
     "metadata": {},
     "output_type": "display_data"
    }
   ],
   "source": [
    "sns.distplot([np.mean(mt.getListDegree(G)) for G in clean_new_models], hist=False, kde=True, \n",
    "             bins=int(180/5), color = 'red', label = 'NN')\n",
    "sns.distplot([np.mean(mt.getListDegree(G)) for G in graphs_test], hist=False, kde=True, \n",
    "             bins=int(180/5), color = 'blue', label = 'Real')"
   ]
  },
  {
   "cell_type": "code",
   "execution_count": 41,
   "metadata": {},
   "outputs": [
    {
     "name": "stderr",
     "output_type": "stream",
     "text": [
      "/home/antolin/anaconda3/lib/python3.8/site-packages/seaborn/distributions.py:2551: FutureWarning: `distplot` is a deprecated function and will be removed in a future version. Please adapt your code to use either `displot` (a figure-level function with similar flexibility) or `kdeplot` (an axes-level function for kernel density plots).\n",
      "  warnings.warn(msg, FutureWarning)\n",
      "/home/antolin/anaconda3/lib/python3.8/site-packages/seaborn/distributions.py:2551: FutureWarning: `distplot` is a deprecated function and will be removed in a future version. Please adapt your code to use either `displot` (a figure-level function with similar flexibility) or `kdeplot` (an axes-level function for kernel density plots).\n",
      "  warnings.warn(msg, FutureWarning)\n"
     ]
    },
    {
     "data": {
      "text/plain": [
       "<matplotlib.axes._subplots.AxesSubplot at 0x7ff04d138df0>"
      ]
     },
     "execution_count": 41,
     "metadata": {},
     "output_type": "execute_result"
    },
    {
     "data": {
      "image/png": "[encoded data removed]",
      "text/plain": [
       "<Figure size 432x288 with 1 Axes>"
      ]
     },
     "metadata": {},
     "output_type": "display_data"
    }
   ],
   "source": [
    "dims = list(ecore.dic_edges_ecore.keys())\n",
    "sns.distplot([np.mean(list(mt.MPC(G,dims).values())) for G in clean_new_models], hist=False, kde=True, \n",
    "             bins=int(180/5), color = 'red', label = 'NN')\n",
    "sns.distplot([np.mean(list(mt.MPC(G,dims).values())) for G in graphs_test], hist=False, kde=True, \n",
    "             bins=int(180/5), color = 'blue', label = 'Real')"
   ]
  },
  {
   "cell_type": "markdown",
   "metadata": {},
   "source": [
    "# Consistent models"
   ]
  },
  {
   "cell_type": "code",
   "execution_count": 42,
   "metadata": {},
   "outputs": [
    {
     "name": "stderr",
     "output_type": "stream",
     "text": [
      "/home/antolin/anaconda3/lib/python3.8/site-packages/seaborn/distributions.py:2551: FutureWarning: `distplot` is a deprecated function and will be removed in a future version. Please adapt your code to use either `displot` (a figure-level function with similar flexibility) or `kdeplot` (an axes-level function for kernel density plots).\n",
      "  warnings.warn(msg, FutureWarning)\n",
      "/home/antolin/anaconda3/lib/python3.8/site-packages/seaborn/distributions.py:2551: FutureWarning: `distplot` is a deprecated function and will be removed in a future version. Please adapt your code to use either `displot` (a figure-level function with similar flexibility) or `kdeplot` (an axes-level function for kernel density plots).\n",
      "  warnings.warn(msg, FutureWarning)\n"
     ]
    },
    {
     "data": {
      "text/plain": [
       "<matplotlib.axes._subplots.AxesSubplot at 0x7ff04d0fdc10>"
      ]
     },
     "execution_count": 42,
     "metadata": {},
     "output_type": "execute_result"
    },
    {
     "data": {
      "image/png": "[encoded data removed]",
      "text/plain": [
       "<Figure size 432x288 with 1 Axes>"
      ]
     },
     "metadata": {},
     "output_type": "display_data"
    }
   ],
   "source": [
    "import seaborn as sns\n",
    "\n",
    "sns.distplot([len(G) for G in not_inconsistents], hist=False, kde=True, \n",
    "             bins=int(180/5), color = 'red', label = 'NN')\n",
    "sns.distplot([len(G) for G in graphs_test], hist=False, kde=True, \n",
    "             bins=int(180/5), color = 'blue', label = 'Real')"
   ]
  },
  {
   "cell_type": "code",
   "execution_count": 43,
   "metadata": {},
   "outputs": [
    {
     "name": "stderr",
     "output_type": "stream",
     "text": [
      "/home/antolin/anaconda3/lib/python3.8/site-packages/seaborn/distributions.py:2551: FutureWarning: `distplot` is a deprecated function and will be removed in a future version. Please adapt your code to use either `displot` (a figure-level function with similar flexibility) or `kdeplot` (an axes-level function for kernel density plots).\n",
      "  warnings.warn(msg, FutureWarning)\n",
      "/home/antolin/anaconda3/lib/python3.8/site-packages/seaborn/distributions.py:2551: FutureWarning: `distplot` is a deprecated function and will be removed in a future version. Please adapt your code to use either `displot` (a figure-level function with similar flexibility) or `kdeplot` (an axes-level function for kernel density plots).\n",
      "  warnings.warn(msg, FutureWarning)\n"
     ]
    },
    {
     "data": {
      "text/plain": [
       "<matplotlib.axes._subplots.AxesSubplot at 0x7ff04d0d1d30>"
      ]
     },
     "execution_count": 43,
     "metadata": {},
     "output_type": "execute_result"
    },
    {
     "data": {
      "image/png": "[encoded data removed]",
      "text/plain": [
       "<Figure size 432x288 with 1 Axes>"
      ]
     },
     "metadata": {},
     "output_type": "display_data"
    }
   ],
   "source": [
    "sns.distplot([np.mean(mt.getListDegree(G)) for G in not_inconsistents], hist=False, kde=True, \n",
    "             bins=int(180/5), color = 'red', label = 'NN')\n",
    "sns.distplot([np.mean(mt.getListDegree(G)) for G in graphs_test], hist=False, kde=True, \n",
    "             bins=int(180/5), color = 'blue', label = 'Real')"
   ]
  },
  {
   "cell_type": "code",
   "execution_count": 44,
   "metadata": {},
   "outputs": [
    {
     "name": "stderr",
     "output_type": "stream",
     "text": [
      "/home/antolin/anaconda3/lib/python3.8/site-packages/seaborn/distributions.py:2551: FutureWarning: `distplot` is a deprecated function and will be removed in a future version. Please adapt your code to use either `displot` (a figure-level function with similar flexibility) or `kdeplot` (an axes-level function for kernel density plots).\n",
      "  warnings.warn(msg, FutureWarning)\n",
      "/home/antolin/anaconda3/lib/python3.8/site-packages/seaborn/distributions.py:2551: FutureWarning: `distplot` is a deprecated function and will be removed in a future version. Please adapt your code to use either `displot` (a figure-level function with similar flexibility) or `kdeplot` (an axes-level function for kernel density plots).\n",
      "  warnings.warn(msg, FutureWarning)\n"
     ]
    },
    {
     "data": {
      "text/plain": [
       "<matplotlib.axes._subplots.AxesSubplot at 0x7ff04d0495e0>"
      ]
     },
     "execution_count": 44,
     "metadata": {},
     "output_type": "execute_result"
    },
    {
     "data": {
      "image/png": "[encoded data removed]",
      "text/plain": [
       "<Figure size 432x288 with 1 Axes>"
      ]
     },
     "metadata": {},
     "output_type": "display_data"
    }
   ],
   "source": [
    "dims = list(ecore.dic_edges_ecore.keys())\n",
    "sns.distplot([np.mean(list(mt.MPC(G,dims).values())) for G in not_inconsistents], hist=False, kde=True, \n",
    "             bins=int(180/5), color = 'red', label = 'NN')\n",
    "sns.distplot([np.mean(list(mt.MPC(G,dims).values())) for G in graphs_test], hist=False, kde=True, \n",
    "             bins=int(180/5), color = 'blue', label = 'Real')"
   ]
  },
  {
   "cell_type": "code",
   "execution_count": 45,
   "metadata": {},
   "outputs": [
    {
     "data": {
      "text/plain": [
       "147"
      ]
     },
     "execution_count": 45,
     "metadata": {},
     "output_type": "execute_result"
    }
   ],
   "source": [
    "def uniques(Gs):\n",
    "    dic = set([])\n",
    "    for G1 in Gs:\n",
    "        iso = False\n",
    "        for G2 in dic:\n",
    "            if is_isomorphic(G1, G2, gu.node_match_type, gu.edge_match_type):\n",
    "                iso = True\n",
    "        if not iso:\n",
    "            dic.add(G1)\n",
    "    return dic\n",
    "len(uniques(samples))"
   ]
  },
  {
   "cell_type": "code",
   "execution_count": 46,
   "metadata": {},
   "outputs": [
    {
     "name": "stdout",
     "output_type": "stream",
     "text": [
      "97.82608695652173 % Validity among all\n",
      "79.44444444444444 % Uniqueness among valid ones\n",
      "87.75510204081633 % Novelty among unique ones\n"
     ]
    }
   ],
   "source": [
    "print(len(not_inconsistents)/len(samples) * 100, '% Validity among all')\n",
    "print(len(uniques(not_inconsistents))/len(not_inconsistents) * 100, '% Uniqueness among valid ones')\n",
    "print(len(uniques(clean_new_models))/len(uniques(samples)) * 100, '% Novelty among unique ones')"
   ]
  },
  {
   "cell_type": "markdown",
   "metadata": {},
   "source": [
    "# Realism using GNN"
   ]
  },
  {
   "cell_type": "code",
   "execution_count": 71,
   "metadata": {},
   "outputs": [],
   "source": [
    "from torch_geometric.data import Data\n",
    "from dmg.deeplearning.dataGeneration import generateTensorsFromGraph\n",
    "syns = []\n",
    "sett = not_inconsistents#samples#clean_new_models#samples\n",
    "for G in random.sample(sett,min(len(sett),len(graphs_test))):\n",
    "    G_inv = addInvEdges(G, ecore.ecore_pallete, ecore.ecore_separator)\n",
    "    tensors = generateTensorsFromGraph(G_inv, ecore.ecore_pallete, 2, 2)\n",
    "    data =  Data(x = tensors[0],\n",
    "                edge_index = tensors[-2], \n",
    "                edge_attr = tensors[-1],\n",
    "                y = torch.tensor(0))\n",
    "    syns.append(data)"
   ]
  },
  {
   "cell_type": "code",
   "execution_count": 72,
   "metadata": {
    "scrolled": true
   },
   "outputs": [],
   "source": [
    "reals = []\n",
    "#graphs_test = [g for g in graphs_test if len(g.edges) >= 1]\n",
    "for G in random.sample(graphs_test,min(len(sett),len(graphs_test))):\n",
    "    G_inv = addInvEdges(G, ecore.ecore_pallete, ecore.ecore_separator)\n",
    "    tensors = generateTensorsFromGraph(G_inv, ecore.ecore_pallete, 2, 2)\n",
    "    data =  Data(x = tensors[0],\n",
    "                edge_index = tensors[-2], \n",
    "                edge_attr = tensors[-1],\n",
    "                y = torch.tensor(1))\n",
    "    reals.append(data)"
   ]
  },
  {
   "cell_type": "code",
   "execution_count": 73,
   "metadata": {},
   "outputs": [
    {
     "name": "stdout",
     "output_type": "stream",
     "text": [
      "Len train: 276\n"
     ]
    }
   ],
   "source": [
    "dataset = syns + reals\n",
    "random.shuffle(dataset)\n",
    "print('Len train:', len(dataset))"
   ]
  },
  {
   "cell_type": "code",
   "execution_count": 74,
   "metadata": {},
   "outputs": [],
   "source": [
    "from torch.utils.data import random_split\n",
    "import torch\n",
    "train_len = int(0.8*len(dataset))\n",
    "test_len = len(dataset) - int(0.8*len(dataset))\n",
    "train, test = random_split(dataset, [train_len, test_len], \n",
    "                                generator=torch.Generator().manual_seed(42))"
   ]
  },
  {
   "cell_type": "code",
   "execution_count": 75,
   "metadata": {},
   "outputs": [],
   "source": [
    "train_loader = DataLoader(train, batch_size=32, num_workers = 5, shuffle=True)\n",
    "test_loader = DataLoader(test, batch_size=1, num_workers = 5, shuffle=True)"
   ]
  },
  {
   "cell_type": "code",
   "execution_count": 76,
   "metadata": {
    "scrolled": true
   },
   "outputs": [
    {
     "name": "stdout",
     "output_type": "stream",
     "text": [
      "Epoch 0 Loss 0.5925427302718163\n"
     ]
    },
    {
     "name": "stderr",
     "output_type": "stream",
     "text": [
      "/home/antolin/anaconda3/lib/python3.8/site-packages/torch/nn/functional.py:1805: UserWarning: nn.functional.sigmoid is deprecated. Use torch.sigmoid instead.\n",
      "  warnings.warn(\"nn.functional.sigmoid is deprecated. Use torch.sigmoid instead.\")\n"
     ]
    },
    {
     "name": "stdout",
     "output_type": "stream",
     "text": [
      "Epoch 1 Loss 0.5612660273909569\n",
      "Epoch 2 Loss 0.5306978672742844\n",
      "Epoch 3 Loss 0.517370842397213\n",
      "Epoch 4 Loss 0.5057508498430252\n",
      "Epoch 5 Loss 0.4989812858402729\n",
      "Epoch 6 Loss 0.5016606524586678\n",
      "Epoch 7 Loss 0.47887153923511505\n",
      "Epoch 8 Loss 0.5077777951955795\n",
      "Epoch 9 Loss 0.4643038362264633\n",
      "Epoch 10 Loss 0.4454215541481972\n",
      "Epoch 11 Loss 0.44725289195775986\n",
      "Epoch 12 Loss 0.42965133860707283\n",
      "Epoch 13 Loss 0.4320457875728607\n",
      "Epoch 14 Loss 0.4150043986737728\n",
      "Epoch 15 Loss 0.4014209471642971\n",
      "Epoch 16 Loss 0.4040917791426182\n",
      "Epoch 17 Loss 0.38347844406962395\n",
      "Epoch 18 Loss 0.3807491958141327\n",
      "Epoch 19 Loss 0.38019560649991035\n",
      "Epoch 20 Loss 0.38548872247338295\n",
      "Epoch 21 Loss 0.36960672959685326\n",
      "Epoch 22 Loss 0.3563331551849842\n",
      "Epoch 23 Loss 0.36511608585715294\n",
      "Epoch 24 Loss 0.36730241402983665\n",
      "Epoch 25 Loss 0.4076543599367142\n",
      "Epoch 26 Loss 0.3885907530784607\n",
      "Epoch 27 Loss 0.3514903001487255\n",
      "Epoch 28 Loss 0.34683289378881454\n",
      "Epoch 29 Loss 0.3303845003247261\n",
      "Epoch 30 Loss 0.37815211340785027\n",
      "Epoch 31 Loss 0.32377011701464653\n",
      "Epoch 32 Loss 0.3612574189901352\n",
      "Epoch 33 Loss 0.36791233345866203\n",
      "Epoch 34 Loss 0.34698430076241493\n",
      "Epoch 35 Loss 0.3573502693325281\n",
      "Epoch 36 Loss 0.3503018282353878\n",
      "Epoch 37 Loss 0.3346601761877537\n",
      "Epoch 38 Loss 0.3199911415576935\n",
      "Epoch 39 Loss 0.32874003797769547\n"
     ]
    }
   ],
   "source": [
    "import torch.nn as nn\n",
    "from dmg.realism.discriminativeModel import DiscriminativeModel\n",
    "\n",
    "model = DiscriminativeModel(64,64,0.0,ecore.dic_nodes_ecore,ecore.dic_edges_ecore).cpu()\n",
    "\n",
    "epochs = 40\n",
    "criterion = nn.BCELoss()\n",
    "\n",
    "opt = torch.optim.Adam(model.parameters(), lr=0.001)\n",
    "\n",
    "\n",
    "for e in range(epochs):\n",
    "    total_loss = 0.0\n",
    "    b = 1\n",
    "    model.train()\n",
    "    for data in train_loader:\n",
    "        \n",
    "        opt.zero_grad()\n",
    "        \n",
    "        pred = model(data.x.cpu(), data.edge_index.cpu(),\n",
    "          torch.squeeze(data.edge_attr.cpu(),dim=1),data.batch.cpu())\n",
    "        \n",
    "        loss = criterion(torch.squeeze(pred, dim = 1), data.y.float().cpu())\n",
    "        total_loss += loss.item()\n",
    "        \n",
    "        loss.backward()\n",
    "        opt.step()\n",
    "        b = b + 1\n",
    "        \n",
    "    print('Epoch',e,'Loss',total_loss/b)\n"
   ]
  },
  {
   "cell_type": "code",
   "execution_count": 77,
   "metadata": {},
   "outputs": [
    {
     "name": "stdout",
     "output_type": "stream",
     "text": [
      "Acc 0.6964285714285714\n"
     ]
    }
   ],
   "source": [
    "model.eval()\n",
    "count = 0\n",
    "i0 = 0\n",
    "i1 = 0\n",
    "for data in test_loader:\n",
    "    pred = model(data.x.cpu(), data.edge_index.cpu(),\n",
    "          torch.squeeze(data.edge_attr,dim=1).cpu(),data.batch.cpu())\n",
    "    if pred[0].item() > 0.5:\n",
    "        pred = 1\n",
    "    else:\n",
    "        pred = 0\n",
    "    if pred == data.y.long().item():\n",
    "        count = count + 1\n",
    "    \n",
    "print('Acc', count/len(test_loader))"
   ]
  },
  {
   "cell_type": "code",
   "execution_count": 78,
   "metadata": {},
   "outputs": [
    {
     "name": "stdout",
     "output_type": "stream",
     "text": [
      "p-value 0.0016417304930345215\n"
     ]
    }
   ],
   "source": [
    "import scipy.stats as st\n",
    "import math\n",
    "\n",
    "def C2ST_pvalue(acc,n_test):\n",
    "    return st.norm.cdf(-(acc-0.5)/(math.sqrt(1/(4*n_test))))\n",
    "\n",
    "print('p-value', C2ST_pvalue(count/len(test_loader),len(test_loader)))"
   ]
  },
  {
   "cell_type": "markdown",
   "metadata": {},
   "source": [
    "# Plot a sample of clean models"
   ]
  },
  {
   "cell_type": "code",
   "execution_count": 85,
   "metadata": {
    "scrolled": true
   },
   "outputs": [
    {
     "data": {
      "text/plain": [
       "'./example.pdf'"
      ]
     },
     "execution_count": 85,
     "metadata": {},
     "output_type": "execute_result"
    }
   ],
   "source": [
    "dot = gu.plotGraphViz(random.sample(clean_new_models,1)[0])\n",
    "dot.format = 'pdf'\n",
    "dot.view(filename='example', directory='./')"
   ]
  },
  {
   "cell_type": "code",
   "execution_count": null,
   "metadata": {},
   "outputs": [],
   "source": [
    "#m2g.getModelFromGraph(['../data/metamodels/yakinduSimplified.ecore'], clean_new_models[0])"
   ]
  },
  {
   "cell_type": "code",
   "execution_count": null,
   "metadata": {},
   "outputs": [],
   "source": [
    "m2g.serializeGraphModel('example.xmi',['../data/metamodels/yakinduSimplified.ecore'], 'Statechart', clean_new_models[0])"
   ]
  }
 ],
 "metadata": {
  "kernelspec": {
   "display_name": "Python 3",
   "language": "python",
   "name": "python3"
  },
  "language_info": {
   "codemirror_mode": {
    "name": "ipython",
    "version": 3
   },
   "file_extension": ".py",
   "mimetype": "text/x-python",
   "name": "python",
   "nbconvert_exporter": "python",
   "pygments_lexer": "ipython3",
   "version": "3.8.3"
  }
 },
 "nbformat": 4,
 "nbformat_minor": 4
}
