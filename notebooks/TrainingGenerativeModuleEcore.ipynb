{
 "cells": [
  {
   "cell_type": "code",
   "execution_count": 1,
   "metadata": {},
   "outputs": [],
   "source": [
    "import sys\n",
    "sys.path.append('../')\n",
    "import dmg.model2graph.model2graph as m2g\n",
    "import dmg.model2graph.metafilter as mf\n",
    "from networkx.algorithms.isomorphism import is_isomorphic\n",
    "import dmg.graphUtils as gu\n",
    "import glob\n",
    "import dmg.ecore.ecorePallete as ecore\n",
    "import random\n",
    "random.seed(123)"
   ]
  },
  {
   "cell_type": "markdown",
   "metadata": {},
   "source": [
    "# Load dataset"
   ]
  },
  {
   "cell_type": "code",
   "execution_count": 2,
   "metadata": {},
   "outputs": [],
   "source": [
    "metafilter_refs = ['EClass.eSuperTypes',\n",
    "                          'EClassifier.ePackage',\n",
    "                           'EPackage.eClassifiers',\n",
    "                           'ETypedElement.eType',\n",
    "                           'EStructuralFeature.eContainingClass',\n",
    "                           'EReference.eOpposite',\n",
    "                           'EEnum.eLiterals',\n",
    "                           'EEnumLiteral.eEnum',\n",
    "                           'EClass.eStructuralFeatures']\n",
    "metafilter_cla = ['EClass', 'EPackage', \n",
    "                         'EStructuralFeature','EEnum', 'EEnumLiteral']   \n",
    "metafilter_atts = None\n",
    "metafilterobj = mf.MetaFilter(references = metafilter_refs, \n",
    "                 attributes = metafilter_atts,\n",
    "                 classes = metafilter_cla)       \n",
    "meta_models = []"
   ]
  },
  {
   "cell_type": "code",
   "execution_count": 5,
   "metadata": {},
   "outputs": [],
   "source": [
    "files = glob.glob(\"../data/ecoreDataset/train/*\")\n",
    "graphs = []\n",
    "for f in files:\n",
    "    try:\n",
    "        graphs.append(m2g.getGraphFromModel(f, \n",
    "                                  meta_models, metafilterobj,\n",
    "                                  consider_atts = False))\n",
    "    except:\n",
    "        continue"
   ]
  },
  {
   "cell_type": "code",
   "execution_count": 6,
   "metadata": {},
   "outputs": [
    {
     "name": "stdout",
     "output_type": "stream",
     "text": [
      "Number of graphs: 120\n"
     ]
    }
   ],
   "source": [
    "print('Number of graphs:', len(graphs))"
   ]
  },
  {
   "cell_type": "code",
   "execution_count": 9,
   "metadata": {},
   "outputs": [],
   "source": [
    "files = glob.glob(\"../data/ecoreDataset/val/*\")\n",
    "graphs_val = []\n",
    "for f in files:\n",
    "    try:\n",
    "        graphs_val.append(m2g.getGraphFromModel(f, \n",
    "                                  meta_models, metafilterobj,\n",
    "                                  consider_atts = False))\n",
    "    except:\n",
    "        continue"
   ]
  },
  {
   "cell_type": "code",
   "execution_count": 10,
   "metadata": {},
   "outputs": [
    {
     "name": "stdout",
     "output_type": "stream",
     "text": [
      "Number of graphs: 30\n"
     ]
    }
   ],
   "source": [
    "print('Number of graphs:', len(graphs_val))"
   ]
  },
  {
   "cell_type": "code",
   "execution_count": 13,
   "metadata": {},
   "outputs": [
    {
     "name": "stdout",
     "output_type": "stream",
     "text": [
      "Preparing seqs\n",
      "Seqs finished\n"
     ]
    }
   ],
   "source": [
    "from torch_geometric.data import DataLoader\n",
    "from dmg.deeplearning.dataGeneration import sequence2data, data2graph\n",
    "from dmg.deeplearning.dataGeneration import addInvEdges\n",
    "\n",
    "listDatas_val = []\n",
    "batch_size = 64\n",
    "max_len = 2\n",
    "print('Preparing seqs')\n",
    "for g in graphs_val:\n",
    "    sequence = ecore.ecore_pallete.graphToSequence(g)\n",
    "    sequence = [(addInvEdges(s[0], ecore.ecore_pallete, ecore.ecore_separator),s[1]) for s in sequence]\n",
    "    listDatas_val = listDatas_val + sequence2data(sequence, ecore.ecore_pallete, max_len)\n",
    "loader_val = DataLoader(listDatas_val, batch_size=batch_size, \n",
    "                        num_workers = 0, \n",
    "                        shuffle=False)\n",
    "print('Seqs finished')"
   ]
  },
  {
   "cell_type": "code",
   "execution_count": 14,
   "metadata": {},
   "outputs": [],
   "source": [
    "do_eval = False\n",
    "\n",
    "if not do_eval:\n",
    "    graphs = graphs + graphs_val"
   ]
  },
  {
   "cell_type": "code",
   "execution_count": 15,
   "metadata": {},
   "outputs": [
    {
     "name": "stdout",
     "output_type": "stream",
     "text": [
      "Number of graphs: 150\n"
     ]
    }
   ],
   "source": [
    "print('Number of graphs:', len(graphs))"
   ]
  },
  {
   "cell_type": "markdown",
   "metadata": {},
   "source": [
    "# Training"
   ]
  },
  {
   "cell_type": "code",
   "execution_count": 17,
   "metadata": {
    "scrolled": true
   },
   "outputs": [
    {
     "name": "stdout",
     "output_type": "stream",
     "text": [
      "Preparing seqs\n",
      "Seqs finished\n"
     ]
    },
    {
     "name": "stderr",
     "output_type": "stream",
     "text": [
      "/home/antolin/anaconda3/lib/python3.8/site-packages/torch/nn/functional.py:1805: UserWarning: nn.functional.sigmoid is deprecated. Use torch.sigmoid instead.\n",
      "  warnings.warn(\"nn.functional.sigmoid is deprecated. Use torch.sigmoid instead.\")\n"
     ]
    },
    {
     "name": "stdout",
     "output_type": "stream",
     "text": [
      "Epoch 0 Loss Traning 0.6064978463976991\n",
      "Preparing seqs\n",
      "Seqs finished\n",
      "Epoch 1 Loss Traning 0.526657784686369\n",
      "Preparing seqs\n",
      "Seqs finished\n",
      "Epoch 2 Loss Traning 0.5252486157651041\n",
      "Preparing seqs\n",
      "Seqs finished\n",
      "Epoch 3 Loss Traning 0.5133773649440092\n",
      "Preparing seqs\n",
      "Seqs finished\n",
      "Epoch 4 Loss Traning 0.5071967121432809\n",
      "Preparing seqs\n",
      "Seqs finished\n",
      "Epoch 5 Loss Traning 0.5019807961641574\n",
      "Preparing seqs\n",
      "Seqs finished\n",
      "Epoch 6 Loss Traning 0.49880265371472227\n",
      "Preparing seqs\n",
      "Seqs finished\n",
      "Epoch 7 Loss Traning 0.4944324557687722\n",
      "Preparing seqs\n",
      "Seqs finished\n",
      "Epoch 8 Loss Traning 0.5002566272137212\n",
      "Preparing seqs\n",
      "Seqs finished\n",
      "Epoch 9 Loss Traning 0.48816491049878735\n",
      "Preparing seqs\n",
      "Seqs finished\n",
      "Epoch 10 Loss Traning 0.4923756882256153\n",
      "Preparing seqs\n",
      "Seqs finished\n",
      "Epoch 11 Loss Traning 0.48760849295877945\n",
      "Preparing seqs\n",
      "Seqs finished\n",
      "Epoch 12 Loss Traning 0.49053814422850517\n",
      "Preparing seqs\n",
      "Seqs finished\n",
      "Epoch 13 Loss Traning 0.4867046826026019\n",
      "Preparing seqs\n",
      "Seqs finished\n",
      "Epoch 14 Loss Traning 0.48078397091697245\n",
      "Preparing seqs\n",
      "Seqs finished\n",
      "Epoch 15 Loss Traning 0.4797353802942762\n",
      "Preparing seqs\n",
      "Seqs finished\n",
      "Epoch 16 Loss Traning 0.48029474475804496\n",
      "Preparing seqs\n",
      "Seqs finished\n",
      "Epoch 17 Loss Traning 0.4824270004150914\n",
      "Preparing seqs\n",
      "Seqs finished\n",
      "Epoch 18 Loss Traning 0.4781125842356214\n",
      "Preparing seqs\n",
      "Seqs finished\n",
      "Epoch 19 Loss Traning 0.47737594620854246\n",
      "Preparing seqs\n",
      "Seqs finished\n",
      "Epoch 20 Loss Traning 0.4749734016025768\n",
      "Preparing seqs\n",
      "Seqs finished\n",
      "Epoch 21 Loss Traning 0.47814236435235713\n",
      "Preparing seqs\n",
      "Seqs finished\n",
      "Epoch 22 Loss Traning 0.4775652014741711\n",
      "Preparing seqs\n",
      "Seqs finished\n",
      "Epoch 23 Loss Traning 0.47168397728134603\n",
      "Preparing seqs\n",
      "Seqs finished\n",
      "Epoch 24 Loss Traning 0.47308799098519716\n",
      "Preparing seqs\n",
      "Seqs finished\n",
      "Epoch 25 Loss Traning 0.47755562674765495\n",
      "Preparing seqs\n",
      "Seqs finished\n",
      "Epoch 26 Loss Traning 0.47423820986467247\n",
      "Preparing seqs\n",
      "Seqs finished\n",
      "Epoch 27 Loss Traning 0.47263601363873947\n",
      "Preparing seqs\n",
      "Seqs finished\n",
      "Epoch 28 Loss Traning 0.47410536981096457\n",
      "Preparing seqs\n",
      "Seqs finished\n",
      "Epoch 29 Loss Traning 0.4720744426343955\n",
      "Preparing seqs\n",
      "Seqs finished\n",
      "Epoch 30 Loss Traning 0.4697652289680406\n",
      "Preparing seqs\n",
      "Seqs finished\n",
      "Epoch 31 Loss Traning 0.4688338017931171\n",
      "Preparing seqs\n",
      "Seqs finished\n",
      "Epoch 32 Loss Traning 0.47345294613464206\n",
      "Preparing seqs\n",
      "Seqs finished\n",
      "Epoch 33 Loss Traning 0.47120388465769153\n",
      "Preparing seqs\n",
      "Seqs finished\n",
      "Epoch 34 Loss Traning 0.4659205160888971\n",
      "Preparing seqs\n",
      "Seqs finished\n",
      "Epoch 35 Loss Traning 0.4686152917497298\n",
      "Preparing seqs\n",
      "Seqs finished\n",
      "Epoch 36 Loss Traning 0.4671580738881055\n",
      "Preparing seqs\n",
      "Seqs finished\n",
      "Epoch 37 Loss Traning 0.4672529878569584\n",
      "Preparing seqs\n",
      "Seqs finished\n",
      "Epoch 38 Loss Traning 0.466855201066709\n",
      "Preparing seqs\n",
      "Seqs finished\n",
      "Epoch 39 Loss Traning 0.47148322533158693\n",
      "Preparing seqs\n",
      "Seqs finished\n",
      "Epoch 40 Loss Traning 0.47258296433617086\n",
      "Preparing seqs\n",
      "Seqs finished\n",
      "Epoch 41 Loss Traning 0.46964120105201124\n",
      "Preparing seqs\n",
      "Seqs finished\n",
      "Epoch 42 Loss Traning 0.4697835445404053\n",
      "Preparing seqs\n",
      "Seqs finished\n",
      "Epoch 43 Loss Traning 0.4694390910513261\n",
      "Preparing seqs\n",
      "Seqs finished\n",
      "Epoch 44 Loss Traning 0.46534067158605535\n",
      "Preparing seqs\n",
      "Seqs finished\n",
      "Epoch 45 Loss Traning 0.46186605504914824\n",
      "Preparing seqs\n",
      "Seqs finished\n",
      "Epoch 46 Loss Traning 0.46522583447250665\n",
      "Preparing seqs\n",
      "Seqs finished\n",
      "Epoch 47 Loss Traning 0.46612730037932304\n",
      "Preparing seqs\n",
      "Seqs finished\n",
      "Epoch 48 Loss Traning 0.46609973732162924\n",
      "Preparing seqs\n",
      "Seqs finished\n",
      "Epoch 49 Loss Traning 0.4692464570204417\n",
      "Preparing seqs\n",
      "Seqs finished\n",
      "Epoch 50 Loss Traning 0.4637865687117857\n",
      "Preparing seqs\n",
      "Seqs finished\n",
      "Epoch 51 Loss Traning 0.46739140912598254\n",
      "Preparing seqs\n",
      "Seqs finished\n",
      "Epoch 52 Loss Traning 0.4654672052346024\n",
      "Preparing seqs\n",
      "Seqs finished\n",
      "Epoch 53 Loss Traning 0.4650458033178367\n",
      "Preparing seqs\n",
      "Seqs finished\n",
      "Epoch 54 Loss Traning 0.4607598986111435\n",
      "Preparing seqs\n",
      "Seqs finished\n",
      "Epoch 55 Loss Traning 0.46825047217163385\n",
      "Preparing seqs\n",
      "Seqs finished\n",
      "Epoch 56 Loss Traning 0.46339351640028115\n",
      "Preparing seqs\n",
      "Seqs finished\n",
      "Epoch 57 Loss Traning 0.46917027585646687\n",
      "Preparing seqs\n",
      "Seqs finished\n",
      "Epoch 58 Loss Traning 0.46312813490044835\n",
      "Preparing seqs\n",
      "Seqs finished\n",
      "Epoch 59 Loss Traning 0.4625280838386685\n",
      "Preparing seqs\n",
      "Seqs finished\n",
      "Epoch 60 Loss Traning 0.46580126472547945\n",
      "Preparing seqs\n",
      "Seqs finished\n",
      "Epoch 61 Loss Traning 0.46742042022592883\n",
      "Preparing seqs\n",
      "Seqs finished\n",
      "Epoch 62 Loss Traning 0.46055751162416797\n",
      "Preparing seqs\n",
      "Seqs finished\n",
      "Epoch 63 Loss Traning 0.46370471809424607\n",
      "Preparing seqs\n",
      "Seqs finished\n",
      "Epoch 64 Loss Traning 0.46293089904037177\n",
      "Preparing seqs\n",
      "Seqs finished\n",
      "Epoch 65 Loss Traning 0.4613429752050662\n",
      "Preparing seqs\n",
      "Seqs finished\n",
      "Epoch 66 Loss Traning 0.46253690006686193\n",
      "Preparing seqs\n",
      "Seqs finished\n",
      "Epoch 67 Loss Traning 0.4670279703888239\n",
      "Preparing seqs\n",
      "Seqs finished\n",
      "Epoch 68 Loss Traning 0.46273553955788704\n",
      "Preparing seqs\n",
      "Seqs finished\n",
      "Epoch 69 Loss Traning 0.460689432480756\n",
      "Preparing seqs\n",
      "Seqs finished\n",
      "Epoch 70 Loss Traning 0.45533906945995256\n",
      "Preparing seqs\n",
      "Seqs finished\n",
      "Epoch 71 Loss Traning 0.4613322942864661\n",
      "Preparing seqs\n",
      "Seqs finished\n",
      "Epoch 72 Loss Traning 0.4598091227166793\n",
      "Preparing seqs\n",
      "Seqs finished\n",
      "Epoch 73 Loss Traning 0.4650149345397949\n",
      "Preparing seqs\n",
      "Seqs finished\n",
      "Epoch 74 Loss Traning 0.4612285816201977\n",
      "Preparing seqs\n",
      "Seqs finished\n",
      "Epoch 75 Loss Traning 0.463654370284548\n",
      "Preparing seqs\n",
      "Seqs finished\n",
      "Epoch 76 Loss Traning 0.46172162598254635\n",
      "Preparing seqs\n",
      "Seqs finished\n",
      "Epoch 77 Loss Traning 0.4559871834867141\n",
      "Preparing seqs\n",
      "Seqs finished\n",
      "Epoch 78 Loss Traning 0.46297555402213453\n",
      "Preparing seqs\n",
      "Seqs finished\n",
      "Epoch 79 Loss Traning 0.4612802226169437\n",
      "Preparing seqs\n",
      "Seqs finished\n",
      "Epoch 80 Loss Traning 0.46569717690056445\n",
      "Preparing seqs\n",
      "Seqs finished\n",
      "Epoch 81 Loss Traning 0.4597957274493049\n",
      "Preparing seqs\n",
      "Seqs finished\n",
      "Epoch 82 Loss Traning 0.45689837897525115\n",
      "Preparing seqs\n",
      "Seqs finished\n",
      "Epoch 83 Loss Traning 0.4595645642748066\n",
      "Preparing seqs\n",
      "Seqs finished\n",
      "Epoch 84 Loss Traning 0.4616028350942275\n",
      "Preparing seqs\n",
      "Seqs finished\n",
      "Epoch 85 Loss Traning 0.45938971288063946\n",
      "Preparing seqs\n",
      "Seqs finished\n",
      "Epoch 86 Loss Traning 0.4565495422073439\n",
      "Preparing seqs\n",
      "Seqs finished\n",
      "Epoch 87 Loss Traning 0.4635884025517632\n",
      "Preparing seqs\n",
      "Seqs finished\n",
      "Epoch 88 Loss Traning 0.4579399981919457\n",
      "Preparing seqs\n",
      "Seqs finished\n",
      "Epoch 89 Loss Traning 0.45738352163165225\n",
      "Preparing seqs\n",
      "Seqs finished\n",
      "Epoch 90 Loss Traning 0.45812425893895764\n",
      "Preparing seqs\n",
      "Seqs finished\n",
      "Epoch 91 Loss Traning 0.4576653131082946\n",
      "Preparing seqs\n",
      "Seqs finished\n",
      "Epoch 92 Loss Traning 0.4591742356618245\n",
      "Preparing seqs\n",
      "Seqs finished\n",
      "Epoch 93 Loss Traning 0.4604588501593646\n",
      "Preparing seqs\n",
      "Seqs finished\n",
      "Epoch 94 Loss Traning 0.4593314300565159\n",
      "Preparing seqs\n",
      "Seqs finished\n",
      "Epoch 95 Loss Traning 0.4542320750507654\n",
      "Preparing seqs\n",
      "Seqs finished\n",
      "Epoch 96 Loss Traning 0.45217982869522244\n",
      "Preparing seqs\n",
      "Seqs finished\n",
      "Epoch 97 Loss Traning 0.4570583449859245\n",
      "Preparing seqs\n",
      "Seqs finished\n",
      "Epoch 98 Loss Traning 0.46494364387848797\n",
      "Preparing seqs\n",
      "Seqs finished\n",
      "Epoch 99 Loss Traning 0.4542943794353336\n"
     ]
    }
   ],
   "source": [
    "from dmg.deeplearning.generativeModel import GenerativeModel\n",
    "import torch\n",
    "import torch.nn as nn\n",
    "import multiprocess as mp\n",
    "\n",
    "def f(g):\n",
    "    sequence = ecore.ecore_pallete.graphToSequence(g)\n",
    "    sequence = [(addInvEdges(s[0], ecore.ecore_pallete, ecore.ecore_separator),s[1]) for s in sequence]\n",
    "    return sequence2data(sequence, ecore.ecore_pallete, max_len)\n",
    "\n",
    "epochs = 100\n",
    "hidden_dim = 128\n",
    "\n",
    "\n",
    "criterion_node = nn.CrossEntropyLoss(reduction = 'mean',ignore_index=-1)\n",
    "criterion_action = nn.CrossEntropyLoss(reduction = 'mean')\n",
    "criterion_finish = nn.BCELoss(reduction = 'mean')\n",
    "model = GenerativeModel(hidden_dim, ecore.dic_nodes_ecore, ecore.dic_edges_ecore, ecore.dic_operations_ecore)\n",
    "opt = torch.optim.Adam(model.parameters(), lr=0.001)\n",
    "#scheduler = torch.optim.lr_scheduler.StepLR(opt, step_size=10, gamma=0.1)\n",
    "\n",
    "for epoch in range(epochs):\n",
    "    model.train()\n",
    "    total_loss = 0\n",
    "    listDatas = []\n",
    "    #preparing training set\n",
    "    print('Preparing seqs')\n",
    "    #for g in graphs:\n",
    "    #    sequence = yp.yakindu_pallete.graphToSequence(g)\n",
    "    #    listDatas = listDatas + sequence2data(sequence, yp.yakindu_pallete, max_len)\n",
    "    with mp.Pool(10) as pool:\n",
    "        listDatas = pool.map(f, graphs)\n",
    "    listDatas = [r for rr in listDatas for r in rr]\n",
    "    print('Seqs finished')\n",
    "    loader = DataLoader(listDatas, batch_size=batch_size, \n",
    "                            num_workers = 0, \n",
    "                            shuffle=False)\n",
    "    #training\n",
    "    for data in loader:\n",
    "        opt.zero_grad()\n",
    "        action, nodes, finish = model(data.x, data.edge_index, \n",
    "                        torch.squeeze(data.edge_attr,dim=1), \n",
    "                data.batch, data.sequence, data.nodes, data.len_seq, data.action)\n",
    "        \n",
    "        nodes = torch.unsqueeze(nodes, dim = 2).repeat(1,1,2)\n",
    "        nodes[:,:,0] = 1 - nodes[:,:,1]\n",
    "            \n",
    "        L = torch.max(data.len_seq).item()\n",
    "        gTruth = data.sequence_masked[:,0:L]\n",
    "        loss = (criterion_node(nodes.reshape(-1,2), gTruth.flatten()) +\n",
    "                    criterion_action(action, data.action) +\n",
    "                    criterion_finish(finish.flatten(), data.finished.float())) / 3\n",
    "        total_loss += loss.item()\n",
    "        loss.backward()\n",
    "        opt.step()\n",
    "    #validation\n",
    "    if do_eval:\n",
    "        val_loss = 0\n",
    "        model.eval()\n",
    "        with torch.no_grad():\n",
    "            for data in loader_val:\n",
    "                action, nodes, finish = model(data.x, data.edge_index, \n",
    "                            torch.squeeze(data.edge_attr,dim=1), \n",
    "                    data.batch, data.sequence, data.nodes, data.len_seq, data.action)\n",
    "                nodes = torch.unsqueeze(nodes, dim = 2).repeat(1,1,2)\n",
    "                nodes[:,:,0] = 1 - nodes[:,:,1]\n",
    "\n",
    "                L = torch.max(data.len_seq).item()\n",
    "                gTruth = data.sequence_masked[:,0:L]\n",
    "                loss = (criterion_node(nodes.reshape(-1,2), gTruth.flatten()) +\n",
    "                        criterion_action(action, data.action) +\n",
    "                        criterion_finish(finish.flatten(), data.finished.float())) / 3\n",
    "                val_loss+= loss.item()\n",
    "        \n",
    "    print('Epoch',epoch,'Loss Traning',total_loss/(len(loader)))\n",
    "    #scheduler.step()\n",
    "    if do_eval:\n",
    "        print('Epoch',epoch,'Loss Val',val_loss/(len(loader_val)))\n",
    "        "
   ]
  },
  {
   "cell_type": "markdown",
   "metadata": {},
   "source": [
    "# Loading test"
   ]
  },
  {
   "cell_type": "code",
   "execution_count": 19,
   "metadata": {},
   "outputs": [
    {
     "name": "stdout",
     "output_type": "stream",
     "text": [
      "Number of graphs: 65\n"
     ]
    }
   ],
   "source": [
    "files = glob.glob(\"../data/ecoreDataset/test/*\")\n",
    "graphs_test = []\n",
    "for f in files:\n",
    "    try:\n",
    "        graphs_test.append(m2g.getGraphFromModel(f, \n",
    "                                  meta_models, metafilterobj,\n",
    "                                  consider_atts = False))\n",
    "    except:\n",
    "        continue\n",
    "print('Number of graphs:', len(graphs_test))    "
   ]
  },
  {
   "cell_type": "markdown",
   "metadata": {},
   "source": [
    "# Sample models"
   ]
  },
  {
   "cell_type": "code",
   "execution_count": 25,
   "metadata": {},
   "outputs": [
    {
     "name": "stderr",
     "output_type": "stream",
     "text": [
      "../dmg/deeplearning/generativeModel.py:131: UserWarning: Implicit dimension choice for softmax has been deprecated. Change the call to include dim=X as an argument.\n",
      "  m = Categorical(F.softmax(torch.squeeze(action)))\n",
      "/home/antolin/anaconda3/lib/python3.8/site-packages/torch/nn/functional.py:1805: UserWarning: nn.functional.sigmoid is deprecated. Use torch.sigmoid instead.\n",
      "  warnings.warn(\"nn.functional.sigmoid is deprecated. Use torch.sigmoid instead.\")\n"
     ]
    }
   ],
   "source": [
    "from dmg.deeplearning.generativeModel import sampleGraph\n",
    "\n",
    "model.eval()\n",
    "samples = [sampleGraph(ecore.G_initial_ecore_1, ecore.ecore_pallete, model, 100, ecore.ecore_separator) \n",
    "           for i in range(200)]"
   ]
  },
  {
   "cell_type": "markdown",
   "metadata": {},
   "source": [
    "# Visual comparison"
   ]
  },
  {
   "cell_type": "markdown",
   "metadata": {},
   "source": [
    "## Size"
   ]
  },
  {
   "cell_type": "code",
   "execution_count": 26,
   "metadata": {},
   "outputs": [
    {
     "name": "stderr",
     "output_type": "stream",
     "text": [
      "/home/antolin/anaconda3/lib/python3.8/site-packages/seaborn/distributions.py:2551: FutureWarning: `distplot` is a deprecated function and will be removed in a future version. Please adapt your code to use either `displot` (a figure-level function with similar flexibility) or `kdeplot` (an axes-level function for kernel density plots).\n",
      "  warnings.warn(msg, FutureWarning)\n",
      "/home/antolin/anaconda3/lib/python3.8/site-packages/seaborn/distributions.py:2551: FutureWarning: `distplot` is a deprecated function and will be removed in a future version. Please adapt your code to use either `displot` (a figure-level function with similar flexibility) or `kdeplot` (an axes-level function for kernel density plots).\n",
      "  warnings.warn(msg, FutureWarning)\n"
     ]
    },
    {
     "data": {
      "text/plain": [
       "<matplotlib.axes._subplots.AxesSubplot at 0x7f50f8c8beb0>"
      ]
     },
     "execution_count": 26,
     "metadata": {},
     "output_type": "execute_result"
    },
    {
     "data": {
      "image/png": "[encoded data removed]",
      "text/plain": [
       "<Figure size 432x288 with 1 Axes>"
      ]
     },
     "metadata": {
      "needs_background": "light"
     },
     "output_type": "display_data"
    }
   ],
   "source": [
    "import seaborn as sns\n",
    "\n",
    "sns.distplot([len(G) for G in samples], hist=False, kde=True, \n",
    "             bins=int(180/5), color = 'red', label = 'NN')\n",
    "sns.distplot([len(G) for G in graphs_test], hist=False, kde=True, \n",
    "             bins=int(180/5), color = 'blue', label = 'Real')"
   ]
  },
  {
   "cell_type": "markdown",
   "metadata": {},
   "source": [
    "## Degree"
   ]
  },
  {
   "cell_type": "code",
   "execution_count": 27,
   "metadata": {},
   "outputs": [
    {
     "name": "stderr",
     "output_type": "stream",
     "text": [
      "/home/antolin/anaconda3/lib/python3.8/site-packages/seaborn/distributions.py:2551: FutureWarning: `distplot` is a deprecated function and will be removed in a future version. Please adapt your code to use either `displot` (a figure-level function with similar flexibility) or `kdeplot` (an axes-level function for kernel density plots).\n",
      "  warnings.warn(msg, FutureWarning)\n",
      "/home/antolin/anaconda3/lib/python3.8/site-packages/seaborn/distributions.py:2551: FutureWarning: `distplot` is a deprecated function and will be removed in a future version. Please adapt your code to use either `displot` (a figure-level function with similar flexibility) or `kdeplot` (an axes-level function for kernel density plots).\n",
      "  warnings.warn(msg, FutureWarning)\n"
     ]
    },
    {
     "data": {
      "text/plain": [
       "<matplotlib.axes._subplots.AxesSubplot at 0x7f50f8c26550>"
      ]
     },
     "execution_count": 27,
     "metadata": {},
     "output_type": "execute_result"
    },
    {
     "data": {
      "image/png": "[encoded data removed]",
      "text/plain": [
       "<Figure size 432x288 with 1 Axes>"
      ]
     },
     "metadata": {
      "needs_background": "light"
     },
     "output_type": "display_data"
    }
   ],
   "source": [
    "import numpy as np\n",
    "import dmg.realism.metrics as mt\n",
    "sns.distplot([np.mean(mt.getListDegree(G)) for G in samples], hist=False, kde=True, \n",
    "             bins=int(180/5), color = 'red', label = 'NN')\n",
    "sns.distplot([np.mean(mt.getListDegree(G)) for G in graphs_test], hist=False, kde=True, \n",
    "             bins=int(180/5), color = 'blue', label = 'Real')"
   ]
  },
  {
   "cell_type": "markdown",
   "metadata": {},
   "source": [
    "## MPC"
   ]
  },
  {
   "cell_type": "code",
   "execution_count": 28,
   "metadata": {},
   "outputs": [
    {
     "name": "stderr",
     "output_type": "stream",
     "text": [
      "/home/antolin/anaconda3/lib/python3.8/site-packages/seaborn/distributions.py:2551: FutureWarning: `distplot` is a deprecated function and will be removed in a future version. Please adapt your code to use either `displot` (a figure-level function with similar flexibility) or `kdeplot` (an axes-level function for kernel density plots).\n",
      "  warnings.warn(msg, FutureWarning)\n",
      "/home/antolin/anaconda3/lib/python3.8/site-packages/seaborn/distributions.py:2551: FutureWarning: `distplot` is a deprecated function and will be removed in a future version. Please adapt your code to use either `displot` (a figure-level function with similar flexibility) or `kdeplot` (an axes-level function for kernel density plots).\n",
      "  warnings.warn(msg, FutureWarning)\n"
     ]
    },
    {
     "data": {
      "text/plain": [
       "<matplotlib.axes._subplots.AxesSubplot at 0x7f510741dc10>"
      ]
     },
     "execution_count": 28,
     "metadata": {},
     "output_type": "execute_result"
    },
    {
     "data": {
      "image/png": "[encoded data removed]",
      "text/plain": [
       "<Figure size 432x288 with 1 Axes>"
      ]
     },
     "metadata": {
      "needs_background": "light"
     },
     "output_type": "display_data"
    }
   ],
   "source": [
    "dims = list(ecore.dic_edges_ecore.keys())\n",
    "sns.distplot([np.mean(list(mt.MPC(G,dims).values())) for G in samples], hist=False, kde=True, \n",
    "             bins=int(180/5), color = 'red', label = 'NN')\n",
    "sns.distplot([np.mean(list(mt.MPC(G,dims).values())) for G in graphs_test], hist=False, kde=True, \n",
    "             bins=int(180/5), color = 'blue', label = 'Real')"
   ]
  },
  {
   "cell_type": "markdown",
   "metadata": {},
   "source": [
    "# Check isomorf and consistency"
   ]
  },
  {
   "cell_type": "code",
   "execution_count": 29,
   "metadata": {},
   "outputs": [
    {
     "data": {
      "image/png": "[encoded data removed]",
      "text/plain": [
       "<Figure size 432x288 with 1 Axes>"
      ]
     },
     "metadata": {
      "needs_background": "light"
     },
     "output_type": "display_data"
    }
   ],
   "source": [
    "import matplotlib.pyplot as plt\n",
    "\n",
    "h = plt.hist([len(G) for G in samples], bins = 20)"
   ]
  },
  {
   "cell_type": "code",
   "execution_count": 30,
   "metadata": {},
   "outputs": [
    {
     "data": {
      "image/png": "[encoded data removed]",
      "text/plain": [
       "<Figure size 432x288 with 1 Axes>"
      ]
     },
     "metadata": {
      "needs_background": "light"
     },
     "output_type": "display_data"
    }
   ],
   "source": [
    "h = plt.hist([len(G) for G in graphs], bins = 20)"
   ]
  },
  {
   "cell_type": "code",
   "execution_count": 31,
   "metadata": {},
   "outputs": [
    {
     "name": "stdout",
     "output_type": "stream",
     "text": [
      "7.5 % iso\n"
     ]
    }
   ],
   "source": [
    "#check isomorf\n",
    "iso = []\n",
    "for s in samples:\n",
    "    for g in graphs:\n",
    "        if (is_isomorphic(s,g,gu.node_match_type, gu.edge_match_type)):\n",
    "            iso.append(s)\n",
    "            break\n",
    "print(len(iso)*100/len(samples),'% iso')\n",
    "not_iso = [g for g in samples if not g in iso]"
   ]
  },
  {
   "cell_type": "code",
   "execution_count": 32,
   "metadata": {},
   "outputs": [
    {
     "name": "stdout",
     "output_type": "stream",
     "text": [
      "Mean size: 8.6\n"
     ]
    },
    {
     "data": {
      "image/png": "[encoded data removed]",
      "text/plain": [
       "<Figure size 432x288 with 1 Axes>"
      ]
     },
     "metadata": {},
     "output_type": "display_data"
    }
   ],
   "source": [
    "import numpy as np\n",
    "import seaborn as sns\n",
    "\n",
    "sns.set_theme(style=\"whitegrid\")\n",
    "ax = sns.boxplot(x=[len(G) for G in iso])\n",
    "print('Mean size:', np.mean([len(G) for G in iso]))"
   ]
  },
  {
   "cell_type": "code",
   "execution_count": null,
   "metadata": {},
   "outputs": [],
   "source": [
    "from dmg.yakindu.yakinduConsistency import inconsistent\n",
    "#check consistency\n",
    "inconsistents = []\n",
    "for s in samples:\n",
    "    if inconsistent(s):\n",
    "        inconsistents.append(s)\n",
    "print(len(inconsistents)*100/len(samples),'% inconsistents')\n",
    "not_inconsistents = [g for g in samples if not g in inconsistents]"
   ]
  },
  {
   "cell_type": "code",
   "execution_count": null,
   "metadata": {},
   "outputs": [],
   "source": [
    "ax = sns.boxplot(x=[len(G) for G in inconsistents])\n",
    "print('Mean size:', np.mean([len(G) for G in inconsistents]))"
   ]
  },
  {
   "cell_type": "code",
   "execution_count": null,
   "metadata": {},
   "outputs": [],
   "source": [
    "clean_new_models = [g for g in not_iso if not g in inconsistents]"
   ]
  },
  {
   "cell_type": "code",
   "execution_count": null,
   "metadata": {},
   "outputs": [],
   "source": [
    "ax = sns.boxplot(x=[len(G) for G in clean_new_models])\n",
    "print('Mean size:', np.mean([len(G) for G in clean_new_models]))"
   ]
  },
  {
   "cell_type": "code",
   "execution_count": null,
   "metadata": {},
   "outputs": [],
   "source": [
    "ax = sns.boxplot(x=[len(G) for G in graphs])\n",
    "print('Mean size:', np.mean([len(G) for G in graphs]))"
   ]
  },
  {
   "cell_type": "code",
   "execution_count": null,
   "metadata": {},
   "outputs": [],
   "source": [
    "print(len(clean_new_models),'clean models')\n",
    "print(len(clean_new_models)*100/len(samples),'% clean models')"
   ]
  },
  {
   "cell_type": "markdown",
   "metadata": {},
   "source": [
    "# Clean models"
   ]
  },
  {
   "cell_type": "code",
   "execution_count": null,
   "metadata": {},
   "outputs": [],
   "source": [
    "import seaborn as sns\n",
    "\n",
    "sns.distplot([len(G) for G in clean_new_models], hist=False, kde=True, \n",
    "             bins=int(180/5), color = 'red', label = 'NN')\n",
    "sns.distplot([len(G) for G in graphs_test], hist=False, kde=True, \n",
    "             bins=int(180/5), color = 'blue', label = 'Real')"
   ]
  },
  {
   "cell_type": "code",
   "execution_count": null,
   "metadata": {},
   "outputs": [],
   "source": [
    "sns.distplot([np.mean(mt.getListDegree(G)) for G in clean_new_models], hist=False, kde=True, \n",
    "             bins=int(180/5), color = 'red', label = 'NN')\n",
    "sns.distplot([np.mean(mt.getListDegree(G)) for G in graphs_test], hist=False, kde=True, \n",
    "             bins=int(180/5), color = 'blue', label = 'Real')"
   ]
  },
  {
   "cell_type": "code",
   "execution_count": null,
   "metadata": {},
   "outputs": [],
   "source": [
    "dims = list(yp.dic_edges_yak.keys())\n",
    "sns.distplot([np.mean(list(mt.MPC(G,dims).values())) for G in clean_new_models], hist=False, kde=True, \n",
    "             bins=int(180/5), color = 'red', label = 'NN')\n",
    "sns.distplot([np.mean(list(mt.MPC(G,dims).values())) for G in graphs_test], hist=False, kde=True, \n",
    "             bins=int(180/5), color = 'blue', label = 'Real')"
   ]
  },
  {
   "cell_type": "markdown",
   "metadata": {},
   "source": [
    "# Consistent models"
   ]
  },
  {
   "cell_type": "code",
   "execution_count": null,
   "metadata": {},
   "outputs": [],
   "source": [
    "import seaborn as sns\n",
    "\n",
    "sns.distplot([len(G) for G in not_inconsistents], hist=False, kde=True, \n",
    "             bins=int(180/5), color = 'red', label = 'NN')\n",
    "sns.distplot([len(G) for G in graphs_test], hist=False, kde=True, \n",
    "             bins=int(180/5), color = 'blue', label = 'Real')"
   ]
  },
  {
   "cell_type": "code",
   "execution_count": null,
   "metadata": {},
   "outputs": [],
   "source": [
    "sns.distplot([np.mean(mt.getListDegree(G)) for G in not_inconsistents], hist=False, kde=True, \n",
    "             bins=int(180/5), color = 'red', label = 'NN')\n",
    "sns.distplot([np.mean(mt.getListDegree(G)) for G in graphs_test], hist=False, kde=True, \n",
    "             bins=int(180/5), color = 'blue', label = 'Real')"
   ]
  },
  {
   "cell_type": "code",
   "execution_count": null,
   "metadata": {},
   "outputs": [],
   "source": [
    "dims = list(yp.dic_edges_yak.keys())\n",
    "sns.distplot([np.mean(list(mt.MPC(G,dims).values())) for G in not_inconsistents], hist=False, kde=True, \n",
    "             bins=int(180/5), color = 'red', label = 'NN')\n",
    "sns.distplot([np.mean(list(mt.MPC(G,dims).values())) for G in graphs_test], hist=False, kde=True, \n",
    "             bins=int(180/5), color = 'blue', label = 'Real')"
   ]
  },
  {
   "cell_type": "markdown",
   "metadata": {},
   "source": [
    "# Realism using GNN"
   ]
  },
  {
   "cell_type": "code",
   "execution_count": null,
   "metadata": {},
   "outputs": [],
   "source": [
    "from torch_geometric.data import Data\n",
    "from dmg.deeplearning.dataGeneration import generateTensorsFromGraph\n",
    "syns = []\n",
    "sett = clean_new_models\n",
    "for G in random.sample(sett,min(len(sett),len(graphs_test))):\n",
    "    G_inv = addInvEdges(G, yp.yakindu_pallete, yp.yakindu_separator)\n",
    "    tensors = generateTensorsFromGraph(G_inv, yp.yakindu_pallete, 2, 2)\n",
    "    data =  Data(x = tensors[0],\n",
    "                edge_index = tensors[-2], \n",
    "                edge_attr = tensors[-1],\n",
    "                y = torch.tensor(0))\n",
    "    syns.append(data)"
   ]
  },
  {
   "cell_type": "code",
   "execution_count": null,
   "metadata": {},
   "outputs": [],
   "source": [
    "reals = []\n",
    "for G in random.sample(graphs_test,min(len(sett),len(graphs_test))):\n",
    "    G_inv = addInvEdges(G, yp.yakindu_pallete, yp.yakindu_separator)\n",
    "    tensors = generateTensorsFromGraph(G_inv, yp.yakindu_pallete, 2, 2)\n",
    "    data =  Data(x = tensors[0],\n",
    "                edge_index = tensors[-2], \n",
    "                edge_attr = tensors[-1],\n",
    "                y = torch.tensor(1))\n",
    "    reals.append(data)"
   ]
  },
  {
   "cell_type": "code",
   "execution_count": null,
   "metadata": {},
   "outputs": [],
   "source": [
    "dataset = syns + reals\n",
    "random.shuffle(dataset)\n",
    "print('Len train:', len(dataset))"
   ]
  },
  {
   "cell_type": "code",
   "execution_count": null,
   "metadata": {},
   "outputs": [],
   "source": [
    "from torch.utils.data import random_split\n",
    "import torch\n",
    "train_len = int(0.8*len(dataset))\n",
    "test_len = len(dataset) - int(0.8*len(dataset))\n",
    "train, test = random_split(dataset, [train_len, test_len], \n",
    "                                generator=torch.Generator().manual_seed(42))"
   ]
  },
  {
   "cell_type": "code",
   "execution_count": null,
   "metadata": {},
   "outputs": [],
   "source": [
    "train_loader = DataLoader(train, batch_size=32, num_workers = 5, shuffle=True)\n",
    "test_loader = DataLoader(test, batch_size=1, num_workers = 5, shuffle=True)"
   ]
  },
  {
   "cell_type": "code",
   "execution_count": null,
   "metadata": {
    "scrolled": true
   },
   "outputs": [],
   "source": [
    "import torch.nn as nn\n",
    "from dmg.realism.discriminativeModel import DiscriminativeModel\n",
    "\n",
    "model = DiscriminativeModel(64,64,0.0,yp.dic_nodes_yak,yp.dic_edges_yak).cpu()\n",
    "\n",
    "epochs = 100\n",
    "criterion = nn.BCELoss()\n",
    "\n",
    "opt = torch.optim.Adam(model.parameters(), lr=0.001)\n",
    "\n",
    "\n",
    "for e in range(epochs):\n",
    "    total_loss = 0.0\n",
    "    b = 1\n",
    "    model.train()\n",
    "    for data in train_loader:\n",
    "        \n",
    "        opt.zero_grad()\n",
    "        \n",
    "        pred = model(data.x.cpu(), data.edge_index.cpu(),\n",
    "          torch.squeeze(data.edge_attr.cpu(),dim=1),data.batch.cpu())\n",
    "        \n",
    "        loss = criterion(torch.squeeze(pred), data.y.float().cpu())\n",
    "        total_loss += loss.item()\n",
    "        \n",
    "        loss.backward()\n",
    "        opt.step()\n",
    "        b = b + 1\n",
    "        \n",
    "    print('Epoch',e,'Loss',total_loss/b)\n"
   ]
  },
  {
   "cell_type": "code",
   "execution_count": null,
   "metadata": {},
   "outputs": [],
   "source": [
    "model.eval()\n",
    "count = 0\n",
    "i0 = 0\n",
    "i1 = 0\n",
    "for data in test_loader:\n",
    "    pred = model(data.x.cpu(), data.edge_index.cpu(),\n",
    "          torch.squeeze(data.edge_attr,dim=1).cpu(),data.batch.cpu())\n",
    "    if pred[0].item() > 0.5:\n",
    "        pred = 1\n",
    "    else:\n",
    "        pred = 0\n",
    "    if pred == data.y.long().item():\n",
    "        count = count + 1\n",
    "    \n",
    "print('Acc', count/len(test_loader))"
   ]
  },
  {
   "cell_type": "code",
   "execution_count": null,
   "metadata": {},
   "outputs": [],
   "source": [
    "import scipy.stats as st\n",
    "import math\n",
    "\n",
    "def C2ST_pvalue(acc,n_test):\n",
    "    return st.norm.cdf(-(acc-0.5)/(math.sqrt(1/(4*n_test))))\n",
    "\n",
    "print('p-value', C2ST_pvalue(count/len(test_loader),len(test_loader)))"
   ]
  },
  {
   "cell_type": "markdown",
   "metadata": {},
   "source": [
    "# Plot a sample of clean models"
   ]
  },
  {
   "cell_type": "code",
   "execution_count": null,
   "metadata": {
    "scrolled": true
   },
   "outputs": [],
   "source": [
    "dot = gu.plotGraphViz(random.sample(clean_new_models,1)[0])\n",
    "dot.format = 'pdf'\n",
    "dot.view(filename='example', directory='./')"
   ]
  },
  {
   "cell_type": "code",
   "execution_count": null,
   "metadata": {},
   "outputs": [],
   "source": [
    "#m2g.getModelFromGraph(['../data/metamodels/yakinduSimplified.ecore'], clean_new_models[0])"
   ]
  },
  {
   "cell_type": "code",
   "execution_count": null,
   "metadata": {},
   "outputs": [],
   "source": [
    "m2g.serializeGraphModel('example.xmi',['../data/metamodels/yakinduSimplified.ecore'], 'Statechart', clean_new_models[0])"
   ]
  }
 ],
 "metadata": {
  "kernelspec": {
   "display_name": "Python 3",
   "language": "python",
   "name": "python3"
  },
  "language_info": {
   "codemirror_mode": {
    "name": "ipython",
    "version": 3
   },
   "file_extension": ".py",
   "mimetype": "text/x-python",
   "name": "python",
   "nbconvert_exporter": "python",
   "pygments_lexer": "ipython3",
   "version": "3.8.3"
  }
 },
 "nbformat": 4,
 "nbformat_minor": 4
}
