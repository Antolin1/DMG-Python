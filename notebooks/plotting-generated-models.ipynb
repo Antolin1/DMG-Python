{
 "cells": [
  {
   "cell_type": "code",
   "execution_count": 1,
   "metadata": {},
   "outputs": [
    {
     "name": "stdout",
     "output_type": "stream",
     "text": [
      "/home/antolin/wakame/DMG-Python\n"
     ]
    }
   ],
   "source": [
    "%cd ..\n",
    "import glob\n",
    "import sys\n",
    "from dmg.realism.mle import whichFitsBetter\n",
    "from scripts.modelSet import datasets_supported\n",
    "msetObject = datasets_supported['yakindu-exercise']\n",
    "train_path = 'data/yakindu-exercise/train'\n",
    "backend = 'python'\n",
    "hidden_dim = 64\n",
    "model_path = 'models/yakindu-exercise-finalModel.m'"
   ]
  },
  {
   "cell_type": "markdown",
   "metadata": {},
   "source": [
    "# Load dataset"
   ]
  },
  {
   "cell_type": "code",
   "execution_count": 2,
   "metadata": {},
   "outputs": [],
   "source": [
    "graphs = [msetObject.getGraphReal(f,backend) \n",
    "                for f in glob.glob(train_path + \"/*\")]"
   ]
  },
  {
   "cell_type": "code",
   "execution_count": 3,
   "metadata": {},
   "outputs": [
    {
     "name": "stdout",
     "output_type": "stream",
     "text": [
      "Number of graphs: 164\n"
     ]
    }
   ],
   "source": [
    "print('Number of graphs:', len(graphs))"
   ]
  },
  {
   "cell_type": "markdown",
   "metadata": {},
   "source": [
    "# Nodes and sequence"
   ]
  },
  {
   "cell_type": "code",
   "execution_count": 4,
   "metadata": {},
   "outputs": [
    {
     "data": {
      "image/png": "[encoded data removed]",
      "text/plain": [
       "<Figure size 432x288 with 1 Axes>"
      ]
     },
     "metadata": {
      "needs_background": "light"
     },
     "output_type": "display_data"
    }
   ],
   "source": [
    "import matplotlib.pyplot as plt\n",
    "\n",
    "h = plt.hist([len(G) for G in graphs], bins = 25)"
   ]
  },
  {
   "cell_type": "markdown",
   "metadata": {},
   "source": [
    "# Sample from the generator"
   ]
  },
  {
   "cell_type": "code",
   "execution_count": 5,
   "metadata": {},
   "outputs": [
    {
     "data": {
      "text/plain": [
       "GenerativeModel(\n",
       "  (emb_nodes): Embedding(9, 64)\n",
       "  (emb_actions): Embedding(8, 64)\n",
       "  (convolution): Sequential(\n",
       "    (0): RGCNConv(64, 64, num_relations=8)\n",
       "    (1): ReLU(inplace=True)\n",
       "    (2): RGCNConv(64, 64, num_relations=8)\n",
       "    (3): ReLU(inplace=True)\n",
       "  )\n",
       "  (gru): GRU(64, 64, batch_first=True)\n",
       "  (linAction): Linear(in_features=64, out_features=64, bias=True)\n",
       "  (linAction_final): Linear(in_features=64, out_features=8, bias=True)\n",
       "  (linNodes): Linear(in_features=128, out_features=64, bias=True)\n",
       "  (linNodes_final): Linear(in_features=64, out_features=1, bias=True)\n",
       "  (finishedLin): Linear(in_features=64, out_features=64, bias=True)\n",
       "  (finishedFinal): Linear(in_features=64, out_features=1, bias=True)\n",
       ")"
      ]
     },
     "execution_count": 5,
     "metadata": {},
     "output_type": "execute_result"
    }
   ],
   "source": [
    "from dmg.deeplearning.generativeModel import GenerativeModel\n",
    "from dmg.deeplearning.generativeModel import sampleGraph\n",
    "from networkx.algorithms.isomorphism import is_isomorphic\n",
    "import dmg.graphUtils as gu\n",
    "import torch\n",
    "\n",
    "\n",
    "model = GenerativeModel(hidden_dim, msetObject.dic_nodes, \n",
    "                        msetObject.dic_edges, \n",
    "                        msetObject.operations)\n",
    "checkpoint = torch.load(model_path,map_location=torch.device('cpu'))\n",
    "model.load_state_dict(checkpoint['model_state_dict'])\n",
    "model.eval()"
   ]
  },
  {
   "cell_type": "code",
   "execution_count": 6,
   "metadata": {},
   "outputs": [],
   "source": [
    "import random\n",
    "import numpy as np\n",
    "torch.manual_seed(123)\n",
    "random.seed(123)\n",
    "np.random.seed(123)"
   ]
  },
  {
   "cell_type": "code",
   "execution_count": 7,
   "metadata": {
    "scrolled": true
   },
   "outputs": [
    {
     "data": {
      "application/vnd.jupyter.widget-view+json": {
       "model_id": "b7299466ad1c435f9d846a002c808879",
       "version_major": 2,
       "version_minor": 0
      },
      "text/plain": [
       "[NM]:   0%|          | 0/500 [00:00<?, ?it/s]"
      ]
     },
     "metadata": {},
     "output_type": "display_data"
    },
    {
     "name": "stderr",
     "output_type": "stream",
     "text": [
      "/home/antolin/wakame/DMG-Python/dmg/deeplearning/generativeModel.py:206: UserWarning: Implicit dimension choice for softmax has been deprecated. Change the call to include dim=X as an argument.\n",
      "  m = Categorical(F.softmax(torch.squeeze(action)))\n",
      "/home/antolin/anaconda3/lib/python3.8/site-packages/torch/nn/functional.py:1805: UserWarning: nn.functional.sigmoid is deprecated. Use torch.sigmoid instead.\n",
      "  warnings.warn(\"nn.functional.sigmoid is deprecated. Use torch.sigmoid instead.\")\n"
     ]
    }
   ],
   "source": [
    "from tqdm.notebook import tqdm\n",
    "\n",
    "number_models = 500\n",
    "max_size = 150\n",
    "samples = [sampleGraph(msetObject.pallete.initialGraphs[0], \n",
    "                           msetObject.pallete, model, \n",
    "                           max_size, msetObject.pallete.separator) \n",
    "           for i in tqdm(range(number_models), desc='[NM]')]"
   ]
  },
  {
   "cell_type": "code",
   "execution_count": 8,
   "metadata": {},
   "outputs": [],
   "source": [
    "from dmg.yakindu.yakinduConsistency import (noEntryRegion, multipleEntryRegion, \n",
    "                                            incomingToEntry, noStateRegion, choice, exitFinal, entryOutTran)\n",
    "\n",
    "dic = {0 : noEntryRegion,\n",
    "      1 : multipleEntryRegion,\n",
    "      2: incomingToEntry,\n",
    "      3: noStateRegion,\n",
    "      4: choice,\n",
    "      5: exitFinal,\n",
    "      6: entryOutTran}\n",
    "dic_count = {0:0, 1:0, 2:0, 3:0, 4:0, 5:0, 6:0}\n",
    "\n",
    "for s in samples:\n",
    "    for k,inc in dic.items():\n",
    "        if inc(s):\n",
    "            dic_count[k] += 1"
   ]
  },
  {
   "cell_type": "code",
   "execution_count": 10,
   "metadata": {},
   "outputs": [
    {
     "data": {
      "text/plain": [
       "{0: 26, 1: 82, 2: 0, 3: 5, 4: 115, 5: 21, 6: 12}"
      ]
     },
     "execution_count": 10,
     "metadata": {},
     "output_type": "execute_result"
    }
   ],
   "source": [
    "dic_count"
   ]
  },
  {
   "cell_type": "code",
   "execution_count": null,
   "metadata": {},
   "outputs": [],
   "source": [
    "inconsistents = []\n",
    "for s in samples:\n",
    "    if msetObject.inconsistency(s):\n",
    "        inconsistents.append(s)\n",
    "inco_prop = len(inconsistents)*100/len(samples)\n",
    "not_inconsistents = [g for g in samples if not g in inconsistents]"
   ]
  },
  {
   "cell_type": "code",
   "execution_count": null,
   "metadata": {},
   "outputs": [],
   "source": [
    "inco_prop"
   ]
  },
  {
   "cell_type": "code",
   "execution_count": null,
   "metadata": {},
   "outputs": [],
   "source": [
    "iso = []\n",
    "for s in samples:\n",
    "    for g in graphs:\n",
    "        if (is_isomorphic(s,g,gu.node_match_type, gu.edge_match_type)):\n",
    "            iso.append(s)\n",
    "            break\n",
    "iso_prop = len(iso)*100/len(samples)"
   ]
  },
  {
   "cell_type": "code",
   "execution_count": null,
   "metadata": {},
   "outputs": [],
   "source": [
    "iso_prop"
   ]
  },
  {
   "cell_type": "code",
   "execution_count": null,
   "metadata": {},
   "outputs": [],
   "source": [
    "clean_new_models = [g for g in samples if (not g in inconsistents) and (not g in iso)]\n",
    "clean_pr = len(clean_new_models)*100/len(samples)\n",
    "clean_pr"
   ]
  },
  {
   "cell_type": "code",
   "execution_count": null,
   "metadata": {},
   "outputs": [],
   "source": [
    "dot = gu.plotGraphViz(random.sample(clean_new_models,1)[0])\n",
    "dot"
   ]
  },
  {
   "cell_type": "code",
   "execution_count": null,
   "metadata": {},
   "outputs": [],
   "source": [
    "!pwd"
   ]
  },
  {
   "cell_type": "code",
   "execution_count": null,
   "metadata": {},
   "outputs": [],
   "source": [
    "dot.render(filename='examples/yakindu-github-3')"
   ]
  }
 ],
 "metadata": {
  "kernelspec": {
   "display_name": "Python 3",
   "language": "python",
   "name": "python3"
  },
  "language_info": {
   "codemirror_mode": {
    "name": "ipython",
    "version": 3
   },
   "file_extension": ".py",
   "mimetype": "text/x-python",
   "name": "python",
   "nbconvert_exporter": "python",
   "pygments_lexer": "ipython3",
   "version": "3.8.3"
  }
 },
 "nbformat": 4,
 "nbformat_minor": 4
}
