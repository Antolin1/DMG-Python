{
 "cells": [
  {
   "cell_type": "markdown",
   "metadata": {},
   "source": [
    "# Importing some utilities"
   ]
  },
  {
   "cell_type": "code",
   "execution_count": 1,
   "metadata": {},
   "outputs": [
    {
     "name": "stdout",
     "output_type": "stream",
     "text": [
      "/home/antolin/wakame/DMG-Python\n"
     ]
    }
   ],
   "source": [
    "%cd ../..\n",
    "import glob\n",
    "import sys\n",
    "from dmg.realism.mle import whichFitsBetter\n",
    "from scripts.modelSet import datasets_supported\n",
    "msetObject = datasets_supported['rds-genmymodel']\n",
    "train_path = 'data/rds-genmymodel/preprocess'\n",
    "backend = 'python'"
   ]
  },
  {
   "cell_type": "markdown",
   "metadata": {},
   "source": [
    "# Loading training set"
   ]
  },
  {
   "cell_type": "code",
   "execution_count": 2,
   "metadata": {},
   "outputs": [],
   "source": [
    "Gs = [msetObject.getGraphReal(f,backend) \n",
    "                for f in glob.glob(train_path + \"/*\")]"
   ]
  },
  {
   "cell_type": "code",
   "execution_count": 3,
   "metadata": {},
   "outputs": [
    {
     "data": {
      "text/plain": [
       "(array([50., 33., 84., 34., 26., 24., 25., 19., 16., 14., 17., 10.,  8.,\n",
       "         6.,  6.,  6.,  6.,  2.,  3.,  1.,  2.,  0.,  1.,  0.,  1.,  0.,\n",
       "         0.,  0.,  1.,  0.,  1.,  0.,  0.,  1.,  0.,  1.,  0.,  0.,  0.,\n",
       "         0.,  1.,  1.,  1.,  0.,  0.,  0.,  0.,  0.,  0.,  0.,  0.,  0.,\n",
       "         0.,  0.,  0.,  0.,  0.,  0.,  0.,  0.,  0.,  0.,  0.,  0.,  0.,\n",
       "         0.,  0.,  0.,  0.,  0.,  0.,  0.,  0.,  0.,  0.,  0.,  0.,  0.,\n",
       "         0.,  0.,  0.,  0.,  0.,  0.,  0.,  0.,  0.,  0.,  0.,  0.,  0.,\n",
       "         0.,  0.,  0.,  0.,  0.,  0.,  0.,  0.,  1.]),\n",
       " array([  7.  ,  12.27,  17.54,  22.81,  28.08,  33.35,  38.62,  43.89,\n",
       "         49.16,  54.43,  59.7 ,  64.97,  70.24,  75.51,  80.78,  86.05,\n",
       "         91.32,  96.59, 101.86, 107.13, 112.4 , 117.67, 122.94, 128.21,\n",
       "        133.48, 138.75, 144.02, 149.29, 154.56, 159.83, 165.1 , 170.37,\n",
       "        175.64, 180.91, 186.18, 191.45, 196.72, 201.99, 207.26, 212.53,\n",
       "        217.8 , 223.07, 228.34, 233.61, 238.88, 244.15, 249.42, 254.69,\n",
       "        259.96, 265.23, 270.5 , 275.77, 281.04, 286.31, 291.58, 296.85,\n",
       "        302.12, 307.39, 312.66, 317.93, 323.2 , 328.47, 333.74, 339.01,\n",
       "        344.28, 349.55, 354.82, 360.09, 365.36, 370.63, 375.9 , 381.17,\n",
       "        386.44, 391.71, 396.98, 402.25, 407.52, 412.79, 418.06, 423.33,\n",
       "        428.6 , 433.87, 439.14, 444.41, 449.68, 454.95, 460.22, 465.49,\n",
       "        470.76, 476.03, 481.3 , 486.57, 491.84, 497.11, 502.38, 507.65,\n",
       "        512.92, 518.19, 523.46, 528.73, 534.  ]),\n",
       " <a list of 100 Patch objects>)"
      ]
     },
     "execution_count": 3,
     "metadata": {},
     "output_type": "execute_result"
    },
    {
     "data": {
      "image/png": "[encoded data removed]",
      "text/plain": [
       "<Figure size 432x288 with 1 Axes>"
      ]
     },
     "metadata": {
      "needs_background": "light"
     },
     "output_type": "display_data"
    }
   ],
   "source": [
    "import matplotlib.pyplot as plt\n",
    "numberNodes = [len(G) for G in Gs]\n",
    "plt.hist(numberNodes, bins = 100, alpha=0.5, density = False)"
   ]
  },
  {
   "cell_type": "code",
   "execution_count": 7,
   "metadata": {},
   "outputs": [
    {
     "data": {
      "text/plain": [
       "{'whiskers': [<matplotlib.lines.Line2D at 0x7f13b04c63a0>,\n",
       "  <matplotlib.lines.Line2D at 0x7f13b04c6700>],\n",
       " 'caps': [<matplotlib.lines.Line2D at 0x7f13b04c6a60>,\n",
       "  <matplotlib.lines.Line2D at 0x7f13b04c6dc0>],\n",
       " 'boxes': [<matplotlib.lines.Line2D at 0x7f13b04c6040>],\n",
       " 'medians': [<matplotlib.lines.Line2D at 0x7f13b04d2190>],\n",
       " 'fliers': [],\n",
       " 'means': []}"
      ]
     },
     "execution_count": 7,
     "metadata": {},
     "output_type": "execute_result"
    },
    {
     "data": {
      "image/png": "[encoded data removed]",
      "text/plain": [
       "<Figure size 432x288 with 1 Axes>"
      ]
     },
     "metadata": {
      "needs_background": "light"
     },
     "output_type": "display_data"
    }
   ],
   "source": [
    "plt.boxplot(numberNodes, showfliers=False, labels=['Rds-GenMyModel'])"
   ]
  }
 ],
 "metadata": {
  "kernelspec": {
   "display_name": "Python 3",
   "language": "python",
   "name": "python3"
  },
  "language_info": {
   "codemirror_mode": {
    "name": "ipython",
    "version": 3
   },
   "file_extension": ".py",
   "mimetype": "text/x-python",
   "name": "python",
   "nbconvert_exporter": "python",
   "pygments_lexer": "ipython3",
   "version": "3.8.3"
  }
 },
 "nbformat": 4,
 "nbformat_minor": 4
}
