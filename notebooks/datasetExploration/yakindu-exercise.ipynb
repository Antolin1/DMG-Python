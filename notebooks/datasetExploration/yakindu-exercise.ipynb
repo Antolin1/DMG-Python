{
 "cells": [
  {
   "cell_type": "markdown",
   "metadata": {},
   "source": [
    "# Importing some utilities"
   ]
  },
  {
   "cell_type": "code",
   "execution_count": 1,
   "metadata": {},
   "outputs": [
    {
     "name": "stdout",
     "output_type": "stream",
     "text": [
      "/home/antolin/wakame/DMG-Python\n"
     ]
    }
   ],
   "source": [
    "%cd ../..\n",
    "import glob\n",
    "import sys\n",
    "from dmg.realism.mle import whichFitsBetter\n",
    "from scripts.modelSet import datasets_supported\n",
    "msetObject = datasets_supported['yakindu-exercise']\n",
    "train_path = 'data/yakindu-exercise/preprocess'\n",
    "backend = 'python'"
   ]
  },
  {
   "cell_type": "markdown",
   "metadata": {},
   "source": [
    "# Loading Training set"
   ]
  },
  {
   "cell_type": "code",
   "execution_count": 2,
   "metadata": {},
   "outputs": [],
   "source": [
    "Gs = [msetObject.getGraphReal(f,backend) \n",
    "                for f in glob.glob(train_path + \"/*\")]"
   ]
  },
  {
   "cell_type": "code",
   "execution_count": 3,
   "metadata": {},
   "outputs": [
    {
     "data": {
      "text/plain": [
       "(array([18., 19.,  0., 17., 16.,  0., 17., 20.,  0., 15., 13.,  0., 14.,\n",
       "         7.,  0., 15., 13.,  0.,  8., 12.,  0.,  9., 10.,  0., 10.,  7.,\n",
       "         0., 11., 14.,  9.]),\n",
       " array([ 90.        ,  90.66666667,  91.33333333,  92.        ,\n",
       "         92.66666667,  93.33333333,  94.        ,  94.66666667,\n",
       "         95.33333333,  96.        ,  96.66666667,  97.33333333,\n",
       "         98.        ,  98.66666667,  99.33333333, 100.        ,\n",
       "        100.66666667, 101.33333333, 102.        , 102.66666667,\n",
       "        103.33333333, 104.        , 104.66666667, 105.33333333,\n",
       "        106.        , 106.66666667, 107.33333333, 108.        ,\n",
       "        108.66666667, 109.33333333, 110.        ]),\n",
       " <a list of 30 Patch objects>)"
      ]
     },
     "execution_count": 3,
     "metadata": {},
     "output_type": "execute_result"
    },
    {
     "data": {
      "image/png": "[encoded data removed]",
      "text/plain": [
       "<Figure size 432x288 with 1 Axes>"
      ]
     },
     "metadata": {
      "needs_background": "light"
     },
     "output_type": "display_data"
    }
   ],
   "source": [
    "import matplotlib.pyplot as plt\n",
    "numberNodes = [len(G) for G in Gs]\n",
    "plt.hist(numberNodes, bins = 30, alpha=0.5, density = False)"
   ]
  },
  {
   "cell_type": "code",
   "execution_count": 5,
   "metadata": {},
   "outputs": [
    {
     "data": {
      "text/plain": [
       "{'whiskers': [<matplotlib.lines.Line2D at 0x7fb718112ca0>,\n",
       "  <matplotlib.lines.Line2D at 0x7fb718120040>],\n",
       " 'caps': [<matplotlib.lines.Line2D at 0x7fb7181203a0>,\n",
       "  <matplotlib.lines.Line2D at 0x7fb718120700>],\n",
       " 'boxes': [<matplotlib.lines.Line2D at 0x7fb718112a30>],\n",
       " 'medians': [<matplotlib.lines.Line2D at 0x7fb718120a60>],\n",
       " 'fliers': [],\n",
       " 'means': []}"
      ]
     },
     "execution_count": 5,
     "metadata": {},
     "output_type": "execute_result"
    },
    {
     "data": {
      "image/png": "[encoded data removed]",
      "text/plain": [
       "<Figure size 432x288 with 1 Axes>"
      ]
     },
     "metadata": {
      "needs_background": "light"
     },
     "output_type": "display_data"
    }
   ],
   "source": [
    "plt.boxplot(numberNodes, showfliers=False, labels=['Yakindu-Exercise'])"
   ]
  }
 ],
 "metadata": {
  "kernelspec": {
   "display_name": "Python 3",
   "language": "python",
   "name": "python3"
  },
  "language_info": {
   "codemirror_mode": {
    "name": "ipython",
    "version": 3
   },
   "file_extension": ".py",
   "mimetype": "text/x-python",
   "name": "python",
   "nbconvert_exporter": "python",
   "pygments_lexer": "ipython3",
   "version": "3.8.3"
  }
 },
 "nbformat": 4,
 "nbformat_minor": 4
}
