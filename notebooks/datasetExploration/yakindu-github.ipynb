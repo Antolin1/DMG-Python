{
 "cells": [
  {
   "cell_type": "markdown",
   "metadata": {},
   "source": [
    "# Importing some utilities"
   ]
  },
  {
   "cell_type": "code",
   "execution_count": 1,
   "metadata": {},
   "outputs": [
    {
     "name": "stdout",
     "output_type": "stream",
     "text": [
      "/home/antolin/wakame/DMG-Python\n"
     ]
    }
   ],
   "source": [
    "%cd ../..\n",
    "import glob\n",
    "import sys\n",
    "from dmg.realism.mle import whichFitsBetter\n",
    "from scripts.modelSet import datasets_supported\n",
    "msetObject = datasets_supported['yakindu-github']\n",
    "train_path = 'data/yakindu-github/preprocess'\n",
    "backend = 'python'"
   ]
  },
  {
   "cell_type": "markdown",
   "metadata": {},
   "source": [
    "# Loading Training set"
   ]
  },
  {
   "cell_type": "code",
   "execution_count": 2,
   "metadata": {},
   "outputs": [],
   "source": [
    "Gs = [msetObject.getGraphReal(f,backend) \n",
    "                for f in glob.glob(train_path + \"/*\")]"
   ]
  },
  {
   "cell_type": "code",
   "execution_count": 4,
   "metadata": {},
   "outputs": [
    {
     "data": {
      "text/plain": [
       "(array([ 1.,  2.,  5.,  3.,  7.,  7., 12.,  0., 13., 14., 11.,  8., 11.,\n",
       "         6.,  0., 11.,  8.,  4.,  3.,  1.,  1.,  0.,  0.,  0.,  0.,  0.,\n",
       "         0.,  0.,  0.,  1.]),\n",
       " array([ 5.        ,  5.86666667,  6.73333333,  7.6       ,  8.46666667,\n",
       "         9.33333333, 10.2       , 11.06666667, 11.93333333, 12.8       ,\n",
       "        13.66666667, 14.53333333, 15.4       , 16.26666667, 17.13333333,\n",
       "        18.        , 18.86666667, 19.73333333, 20.6       , 21.46666667,\n",
       "        22.33333333, 23.2       , 24.06666667, 24.93333333, 25.8       ,\n",
       "        26.66666667, 27.53333333, 28.4       , 29.26666667, 30.13333333,\n",
       "        31.        ]),\n",
       " <a list of 30 Patch objects>)"
      ]
     },
     "execution_count": 4,
     "metadata": {},
     "output_type": "execute_result"
    },
    {
     "data": {
      "image/png": "[encoded data removed]",
      "text/plain": [
       "<Figure size 432x288 with 1 Axes>"
      ]
     },
     "metadata": {
      "needs_background": "light"
     },
     "output_type": "display_data"
    }
   ],
   "source": [
    "import matplotlib.pyplot as plt\n",
    "numberNodes = [len(G) for G in Gs]\n",
    "plt.hist(numberNodes, bins = 30, alpha=0.5, density = False)\n"
   ]
  },
  {
   "cell_type": "code",
   "execution_count": 6,
   "metadata": {},
   "outputs": [
    {
     "data": {
      "text/plain": [
       "{'whiskers': [<matplotlib.lines.Line2D at 0x7fda3c64f0a0>,\n",
       "  <matplotlib.lines.Line2D at 0x7fda3c64f400>],\n",
       " 'caps': [<matplotlib.lines.Line2D at 0x7fda3c64f760>,\n",
       "  <matplotlib.lines.Line2D at 0x7fda3c64fac0>],\n",
       " 'boxes': [<matplotlib.lines.Line2D at 0x7fda3c641d60>],\n",
       " 'medians': [<matplotlib.lines.Line2D at 0x7fda3c64fe20>],\n",
       " 'fliers': [],\n",
       " 'means': []}"
      ]
     },
     "execution_count": 6,
     "metadata": {},
     "output_type": "execute_result"
    },
    {
     "data": {
      "image/png": "[encoded data removed]",
      "text/plain": [
       "<Figure size 432x288 with 1 Axes>"
      ]
     },
     "metadata": {
      "needs_background": "light"
     },
     "output_type": "display_data"
    }
   ],
   "source": [
    "plt.boxplot(numberNodes, showfliers=False, labels=['Yakindu-GitHub'])"
   ]
  }
 ],
 "metadata": {
  "kernelspec": {
   "display_name": "Python 3",
   "language": "python",
   "name": "python3"
  },
  "language_info": {
   "codemirror_mode": {
    "name": "ipython",
    "version": 3
   },
   "file_extension": ".py",
   "mimetype": "text/x-python",
   "name": "python",
   "nbconvert_exporter": "python",
   "pygments_lexer": "ipython3",
   "version": "3.8.3"
  }
 },
 "nbformat": 4,
 "nbformat_minor": 4
}
