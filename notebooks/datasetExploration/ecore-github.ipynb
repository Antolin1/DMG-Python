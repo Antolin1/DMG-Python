{
 "cells": [
  {
   "cell_type": "markdown",
   "metadata": {},
   "source": [
    "# Importing some utilities"
   ]
  },
  {
   "cell_type": "code",
   "execution_count": 1,
   "metadata": {},
   "outputs": [
    {
     "name": "stdout",
     "output_type": "stream",
     "text": [
      "/home/antolin/wakame/DMG-Python\n"
     ]
    }
   ],
   "source": [
    "%cd ../..\n",
    "import glob\n",
    "import sys\n",
    "from dmg.realism.mle import whichFitsBetter\n",
    "from scripts.modelSet import datasets_supported\n",
    "msetObject = datasets_supported['ecore-github']\n",
    "train_path = 'data/ecore-github/preprocess'\n",
    "backend = 'java'"
   ]
  },
  {
   "cell_type": "markdown",
   "metadata": {},
   "source": [
    "# Loading Training set"
   ]
  },
  {
   "cell_type": "code",
   "execution_count": 2,
   "metadata": {},
   "outputs": [],
   "source": [
    "Gs = [msetObject.getGraphReal(f,backend) \n",
    "                for f in glob.glob(train_path + \"/*\")]"
   ]
  },
  {
   "cell_type": "markdown",
   "metadata": {},
   "source": [
    "# Exploration"
   ]
  },
  {
   "cell_type": "code",
   "execution_count": 7,
   "metadata": {},
   "outputs": [
    {
     "data": {
      "text/plain": [
       "(array([28., 45., 28., 23., 20., 10., 13., 14., 12., 10.,  7.,  7.,  3.,\n",
       "         4.,  2.,  3.,  5.,  2.,  2.,  2.,  5.,  1.,  0.,  0.,  0.,  1.,\n",
       "         0.,  2.,  1.,  1.,  2.,  0.,  3.,  1.,  0.,  1.,  1.,  1.,  2.,\n",
       "         0.,  0.,  0.,  0.,  0.,  0.,  1.,  0.,  0.,  0.,  0.,  1.,  0.,\n",
       "         1.,  0.,  0.,  0.,  0.,  0.,  0.,  0.,  1.,  0.,  0.,  0.,  0.,\n",
       "         0.,  0.,  0.,  0.,  0.,  0.,  4.,  3.,  0.,  0.,  2.,  1.,  0.,\n",
       "         0.,  0.,  0.,  1.,  0.,  0.,  0.,  0.,  0.,  0.,  1.,  0.,  0.,\n",
       "         0.,  0.,  0.,  0.,  2.,  0.,  0.,  0.,  1.]),\n",
       " array([  4. ,   5.8,   7.6,   9.4,  11.2,  13. ,  14.8,  16.6,  18.4,\n",
       "         20.2,  22. ,  23.8,  25.6,  27.4,  29.2,  31. ,  32.8,  34.6,\n",
       "         36.4,  38.2,  40. ,  41.8,  43.6,  45.4,  47.2,  49. ,  50.8,\n",
       "         52.6,  54.4,  56.2,  58. ,  59.8,  61.6,  63.4,  65.2,  67. ,\n",
       "         68.8,  70.6,  72.4,  74.2,  76. ,  77.8,  79.6,  81.4,  83.2,\n",
       "         85. ,  86.8,  88.6,  90.4,  92.2,  94. ,  95.8,  97.6,  99.4,\n",
       "        101.2, 103. , 104.8, 106.6, 108.4, 110.2, 112. , 113.8, 115.6,\n",
       "        117.4, 119.2, 121. , 122.8, 124.6, 126.4, 128.2, 130. , 131.8,\n",
       "        133.6, 135.4, 137.2, 139. , 140.8, 142.6, 144.4, 146.2, 148. ,\n",
       "        149.8, 151.6, 153.4, 155.2, 157. , 158.8, 160.6, 162.4, 164.2,\n",
       "        166. , 167.8, 169.6, 171.4, 173.2, 175. , 176.8, 178.6, 180.4,\n",
       "        182.2, 184. ]),\n",
       " <a list of 100 Patch objects>)"
      ]
     },
     "execution_count": 7,
     "metadata": {},
     "output_type": "execute_result"
    },
    {
     "data": {
      "image/png": "[encoded data removed]",
      "text/plain": [
       "<Figure size 432x288 with 1 Axes>"
      ]
     },
     "metadata": {
      "needs_background": "light"
     },
     "output_type": "display_data"
    }
   ],
   "source": [
    "import matplotlib.pyplot as plt\n",
    "numberNodes = [len(G) for G in Gs]\n",
    "plt.hist(numberNodes, bins = 100, alpha=0.5, density = False)\n"
   ]
  },
  {
   "cell_type": "code",
   "execution_count": 16,
   "metadata": {},
   "outputs": [
    {
     "data": {
      "text/plain": [
       "{'whiskers': [<matplotlib.lines.Line2D at 0x7f817f9bb1c0>,\n",
       "  <matplotlib.lines.Line2D at 0x7f817f9bb520>],\n",
       " 'caps': [<matplotlib.lines.Line2D at 0x7f817f9bb880>,\n",
       "  <matplotlib.lines.Line2D at 0x7f817f9bbbe0>],\n",
       " 'boxes': [<matplotlib.lines.Line2D at 0x7f817f9ade20>],\n",
       " 'medians': [<matplotlib.lines.Line2D at 0x7f817f9bbf40>],\n",
       " 'fliers': [],\n",
       " 'means': []}"
      ]
     },
     "execution_count": 16,
     "metadata": {},
     "output_type": "execute_result"
    },
    {
     "data": {
      "image/png": "[encoded data removed]",
      "text/plain": [
       "<Figure size 432x288 with 1 Axes>"
      ]
     },
     "metadata": {
      "needs_background": "light"
     },
     "output_type": "display_data"
    }
   ],
   "source": [
    "plt.boxplot(numberNodes, showfliers=False, labels=['Ecore-GitHub'])"
   ]
  },
  {
   "cell_type": "code",
   "execution_count": 14,
   "metadata": {},
   "outputs": [
    {
     "data": {
      "text/plain": [
       "33.88518851106767"
      ]
     },
     "execution_count": 14,
     "metadata": {},
     "output_type": "execute_result"
    }
   ],
   "source": [
    "import numpy as np\n",
    "np.std(numberNodes)"
   ]
  }
 ],
 "metadata": {
  "kernelspec": {
   "display_name": "Python 3",
   "language": "python",
   "name": "python3"
  },
  "language_info": {
   "codemirror_mode": {
    "name": "ipython",
    "version": 3
   },
   "file_extension": ".py",
   "mimetype": "text/x-python",
   "name": "python",
   "nbconvert_exporter": "python",
   "pygments_lexer": "ipython3",
   "version": "3.8.3"
  }
 },
 "nbformat": 4,
 "nbformat_minor": 4
}
