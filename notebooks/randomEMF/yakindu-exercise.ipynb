{
 "cells": [
  {
   "cell_type": "markdown",
   "metadata": {},
   "source": [
    "# Importing some utilities"
   ]
  },
  {
   "cell_type": "code",
   "execution_count": 1,
   "metadata": {},
   "outputs": [
    {
     "name": "stdout",
     "output_type": "stream",
     "text": [
      "/home/antolin/wakame/DMG-Python\n"
     ]
    }
   ],
   "source": [
    "%cd ../..\n",
    "import glob\n",
    "import sys\n",
    "from dmg.realism.mle import whichFitsBetter\n",
    "from scripts.modelSet import datasets_supported\n",
    "msetObject = datasets_supported['yakindu-exercise']\n",
    "train_path = 'data/yakindu-exercise/train'\n",
    "backend = 'python'"
   ]
  },
  {
   "cell_type": "markdown",
   "metadata": {},
   "source": [
    "# Loading Training set"
   ]
  },
  {
   "cell_type": "code",
   "execution_count": 2,
   "metadata": {},
   "outputs": [],
   "source": [
    "Gs = [msetObject.getGraphReal(f,backend) \n",
    "                for f in glob.glob(train_path + \"/*\")]"
   ]
  },
  {
   "cell_type": "markdown",
   "metadata": {},
   "source": [
    "# Random EMF"
   ]
  },
  {
   "cell_type": "markdown",
   "metadata": {},
   "source": [
    "For each rule in RandomEMF, depending on the type of rule, we estimate its parameters. More concretely, for shapes we use the function `whichFitsBetter` that selects the best distribuntion by using maximum likeihood. For priorities in alternative rules, the procedure described in the paper is done and it is based on counting each different alternative in the set $R_{II}$."
   ]
  },
  {
   "cell_type": "markdown",
   "metadata": {},
   "source": [
    "## Number of regions per statechart"
   ]
  },
  {
   "cell_type": "markdown",
   "metadata": {},
   "source": [
    "For the rule:\n",
    "\n",
    "```\n",
    "Root : Statechart ->\n",
    "\t\tregions += RegionsStatechart#Distribution(parameters)\n",
    "\t; \n",
    "```"
   ]
  },
  {
   "cell_type": "code",
   "execution_count": 3,
   "metadata": {
    "scrolled": true
   },
   "outputs": [
    {
     "name": "stdout",
     "output_type": "stream",
     "text": [
      "\n"
     ]
    },
    {
     "data": {
      "image/png": "[encoded data removed]",
      "text/plain": [
       "<Figure size 432x288 with 1 Axes>"
      ]
     },
     "metadata": {
      "needs_background": "light"
     },
     "output_type": "display_data"
    }
   ],
   "source": [
    "import matplotlib.pyplot as plt\n",
    "import numpy as np\n",
    "\n",
    "nums = []\n",
    "for G in Gs:\n",
    "    nums.append(G.out_degree(0))\n",
    "bins = np.arange(1, 3, 0.5)\n",
    "plt.hist(nums, bins = bins, alpha=0.5, density = False)\n",
    "print()"
   ]
  },
  {
   "cell_type": "code",
   "execution_count": 4,
   "metadata": {
    "scrolled": true
   },
   "outputs": [
    {
     "name": "stderr",
     "output_type": "stream",
     "text": [
      "/home/antolin/wakame/DMG-Python/dmg/realism/mle.py:24: RuntimeWarning: divide by zero encountered in double_scalars\n",
      "  p = self.endog.mean() / self.endog.var()\n",
      "/home/antolin/wakame/DMG-Python/dmg/realism/mle.py:25: RuntimeWarning: invalid value encountered in double_scalars\n",
      "  r = p * self.endog.mean() / (1-p)\n",
      "/home/antolin/anaconda3/lib/python3.8/site-packages/scipy/optimize/optimize.py:699: RuntimeWarning: invalid value encountered in subtract\n",
      "  if (np.max(np.ravel(np.abs(sim[1:] - sim[0]))) <= xatol and\n",
      "/home/antolin/anaconda3/lib/python3.8/site-packages/scipy/optimize/optimize.py:704: RuntimeWarning: invalid value encountered in subtract\n",
      "  xr = (1 + rho) * xbar - rho * sim[-1]\n",
      "/home/antolin/anaconda3/lib/python3.8/site-packages/scipy/optimize/optimize.py:746: RuntimeWarning: invalid value encountered in subtract\n",
      "  sim[j] = sim[0] + sigma * (sim[j] - sim[0])\n"
     ]
    },
    {
     "name": "stdout",
     "output_type": "stream",
     "text": [
      "Warning: Maximum number of function evaluations has been exceeded.\n"
     ]
    },
    {
     "name": "stderr",
     "output_type": "stream",
     "text": [
      "/home/antolin/anaconda3/lib/python3.8/site-packages/statsmodels/tools/numdiff.py:353: RuntimeWarning: invalid value encountered in subtract\n",
      "  - f(*((x + ee[i, :] - ee[j, :],) + args), **kwargs)\n",
      "/home/antolin/anaconda3/lib/python3.8/site-packages/statsmodels/tools/numdiff.py:355: RuntimeWarning: invalid value encountered in subtract\n",
      "  - f(*((x - ee[i, :] - ee[j, :],) + args), **kwargs))\n",
      "/home/antolin/anaconda3/lib/python3.8/site-packages/statsmodels/tools/numdiff.py:354: RuntimeWarning: invalid value encountered in subtract\n",
      "  - (f(*((x - ee[i, :] + ee[j, :],) + args), **kwargs)\n",
      "/home/antolin/anaconda3/lib/python3.8/site-packages/statsmodels/base/model.py:547: HessianInversionWarning: Inverting hessian failed, no bse or cov_params available\n",
      "  warn('Inverting hessian failed, no bse or cov_params '\n",
      "/home/antolin/anaconda3/lib/python3.8/site-packages/statsmodels/base/model.py:567: ConvergenceWarning: Maximum Likelihood optimization failed to converge. Check mle_retvals\n",
      "  warn(\"Maximum Likelihood optimization failed to converge. \"\n",
      "/home/antolin/anaconda3/lib/python3.8/site-packages/scipy/stats/_distn_infrastructure.py:1760: RuntimeWarning: invalid value encountered in true_divide\n",
      "  x = np.asarray((x - loc)/scale, dtype=dtyp)\n",
      "/home/antolin/anaconda3/lib/python3.8/site-packages/scipy/stats/_distn_infrastructure.py:1760: RuntimeWarning: divide by zero encountered in true_divide\n",
      "  x = np.asarray((x - loc)/scale, dtype=dtyp)\n",
      "/home/antolin/wakame/DMG-Python/dmg/realism/mle.py:63: RuntimeWarning: divide by zero encountered in log\n",
      "  return -np.log(norm.pdf(self.endog, mu,std))\n"
     ]
    },
    {
     "name": "stdout",
     "output_type": "stream",
     "text": [
      "Warning: Maximum number of function evaluations has been exceeded.\n",
      "Optimization terminated successfully.\n",
      "         Current function value: 1.000000\n",
      "         Iterations: 10\n",
      "         Function evaluations: 20\n"
     ]
    },
    {
     "name": "stderr",
     "output_type": "stream",
     "text": [
      "/home/antolin/anaconda3/lib/python3.8/site-packages/scipy/stats/_distn_infrastructure.py:1769: RuntimeWarning: overflow encountered in true_divide\n",
      "  place(output, cond, self._pdf(*goodargs) / scale)\n",
      "/home/antolin/anaconda3/lib/python3.8/site-packages/scipy/optimize/optimize.py:700: RuntimeWarning: invalid value encountered in subtract\n",
      "  np.max(np.abs(fsim[0] - fsim[1:])) <= fatol):\n",
      "/home/antolin/anaconda3/lib/python3.8/site-packages/scipy/stats/_continuous_distns.py:243: RuntimeWarning: overflow encountered in square\n",
      "  return np.exp(-x**2/2.0) / _norm_pdf_C\n",
      "/home/antolin/anaconda3/lib/python3.8/site-packages/statsmodels/base/model.py:547: HessianInversionWarning: Inverting hessian failed, no bse or cov_params available\n",
      "  warn('Inverting hessian failed, no bse or cov_params '\n",
      "/home/antolin/anaconda3/lib/python3.8/site-packages/statsmodels/base/model.py:567: ConvergenceWarning: Maximum Likelihood optimization failed to converge. Check mle_retvals\n",
      "  warn(\"Maximum Likelihood optimization failed to converge. \"\n"
     ]
    },
    {
     "data": {
      "text/plain": [
       "{'dis': 'norm', 'params': (1.0, 4.6586061219825e-311)}"
      ]
     },
     "execution_count": 4,
     "metadata": {},
     "output_type": "execute_result"
    }
   ],
   "source": [
    "whichFitsBetter(nums)"
   ]
  },
  {
   "cell_type": "markdown",
   "metadata": {},
   "source": [
    "## Number of regions per state"
   ]
  },
  {
   "cell_type": "markdown",
   "metadata": {},
   "source": [
    "For the rule:\n",
    "\n",
    "```\n",
    "\tRState (Region r) : State ->\n",
    "\t\tregions += RegionsState#Distribution(parameters)\n",
    "\t;\n",
    "\t\n",
    "```"
   ]
  },
  {
   "cell_type": "code",
   "execution_count": 5,
   "metadata": {},
   "outputs": [
    {
     "data": {
      "text/plain": [
       "(array([7.87302871e-01, 2.09057825e-01, 3.23493732e-03, 0.00000000e+00,\n",
       "        4.04367165e-04, 0.00000000e+00, 0.00000000e+00, 0.00000000e+00,\n",
       "        0.00000000e+00]),\n",
       " array([0, 1, 2, 3, 4, 5, 6, 7, 8, 9]),\n",
       " <a list of 9 Patch objects>)"
      ]
     },
     "execution_count": 5,
     "metadata": {},
     "output_type": "execute_result"
    },
    {
     "data": {
      "image/png": "[encoded data removed]",
      "text/plain": [
       "<Figure size 432x288 with 1 Axes>"
      ]
     },
     "metadata": {
      "needs_background": "light"
     },
     "output_type": "display_data"
    }
   ],
   "source": [
    "numberSubvertex = []\n",
    "for G in Gs:\n",
    "    for n in G:\n",
    "        if G.nodes[n]['type'] =='State':\n",
    "            cont = 0\n",
    "            for e in G[n]:\n",
    "                for e2 in G[n][e]:\n",
    "                     if (G[n][e][e2]['type'] == 'regions'):\n",
    "                        cont = cont + 1\n",
    "            numberSubvertex.append(cont)\n",
    "            \n",
    "bins = np.arange(0, 10, 1)\n",
    "plt.hist(numberSubvertex, bins = bins, alpha=0.5, density = True)"
   ]
  },
  {
   "cell_type": "code",
   "execution_count": 6,
   "metadata": {},
   "outputs": [
    {
     "name": "stdout",
     "output_type": "stream",
     "text": [
      "Warning: Maximum number of function evaluations has been exceeded.\n",
      "Optimization terminated successfully.\n",
      "         Current function value: 0.565180\n",
      "         Iterations: 16\n",
      "         Function evaluations: 33\n",
      "Optimization terminated successfully.\n",
      "         Current function value: 0.552294\n",
      "         Iterations: 8\n",
      "         Function evaluations: 16\n",
      "{'dis': 'poisson', 'params': 0.21714516781237364}\n"
     ]
    },
    {
     "name": "stderr",
     "output_type": "stream",
     "text": [
      "/home/antolin/anaconda3/lib/python3.8/site-packages/statsmodels/base/model.py:547: HessianInversionWarning: Inverting hessian failed, no bse or cov_params available\n",
      "  warn('Inverting hessian failed, no bse or cov_params '\n",
      "/home/antolin/anaconda3/lib/python3.8/site-packages/statsmodels/base/model.py:567: ConvergenceWarning: Maximum Likelihood optimization failed to converge. Check mle_retvals\n",
      "  warn(\"Maximum Likelihood optimization failed to converge. \"\n"
     ]
    }
   ],
   "source": [
    "best = whichFitsBetter(numberSubvertex)\n",
    "print(best)\n",
    "#lambda_= best['params']\n",
    "#print(r,p)\n",
    "#print(best)"
   ]
  },
  {
   "cell_type": "markdown",
   "metadata": {},
   "source": [
    "## Type of vertices"
   ]
  },
  {
   "cell_type": "markdown",
   "metadata": {},
   "source": [
    "For the rule:\n",
    "\n",
    "```\n",
    "\talter Vertices (Region r) : Vertex ->\n",
    "\t\t RPseudoState(r)#a | RRegularState(r)#b\n",
    "\t;\n",
    "\t\n",
    "```"
   ]
  },
  {
   "cell_type": "code",
   "execution_count": 7,
   "metadata": {},
   "outputs": [
    {
     "name": "stdout",
     "output_type": "stream",
     "text": [
      "[1.         1.16115923]\n"
     ]
    }
   ],
   "source": [
    "import numpy as np\n",
    "ps = []\n",
    "for G in Gs:\n",
    "    p = [0, 0]\n",
    "    for n in G:\n",
    "        if (G.nodes[n]['type'] == 'FinalState'):\n",
    "            p[0] = p[0] + 1\n",
    "        if (G.nodes[n]['type'] == 'State'):\n",
    "            p[0] = p[0] + 1\n",
    "        if (G.nodes[n]['type'] == 'Synchronization'):\n",
    "            p[1] = p[1] + 1\n",
    "        if (G.nodes[n]['type'] == 'Choice'):\n",
    "            p[1] = p[1] + 1\n",
    "        if (G.nodes[n]['type'] == 'Exit'):\n",
    "            p[1] = p[1] + 1\n",
    "        if (G.nodes[n]['type'] == 'Entry'):\n",
    "            p[1] = p[1] + 1\n",
    "    p = np.array(p)\n",
    "    ps.append(p/np.sum(p))\n",
    "ps = np.array(ps)\n",
    "print(np.mean(ps, axis = 0)/np.min(np.mean(ps, axis = 0)))"
   ]
  },
  {
   "cell_type": "markdown",
   "metadata": {},
   "source": [
    "For the rule:\n",
    "\n",
    "```\n",
    "\talter RRegularState (Region r) : RegularState ->\n",
    "\t\tRFinal#a | RState(r)#b \n",
    "\t;\n",
    "\t\n",
    "```"
   ]
  },
  {
   "cell_type": "code",
   "execution_count": 8,
   "metadata": {},
   "outputs": [
    {
     "name": "stdout",
     "output_type": "stream",
     "text": [
      "[  1.        319.2625641]\n"
     ]
    }
   ],
   "source": [
    "ps = []\n",
    "for G in Gs:\n",
    "    p = [0, 0]\n",
    "    for n in G:\n",
    "        if (G.nodes[n]['type'] == 'FinalState'):\n",
    "            p[0] = p[0] + 1\n",
    "        if (G.nodes[n]['type'] == 'State'):\n",
    "            p[1] = p[1] + 1\n",
    "    p = np.array(p)\n",
    "    ps.append(p/np.sum(p))\n",
    "ps = np.array(ps)\n",
    "print(np.mean(ps, axis = 0)/np.min(np.mean(ps, axis = 0)))"
   ]
  },
  {
   "cell_type": "markdown",
   "metadata": {},
   "source": [
    "For the rule:\n",
    "\n",
    "```\n",
    "\talter RPseudoState(Region r) : Pseudostate ->\n",
    "\t\t RTypeSynchronization(r)#a  | RTypeExit#b | RTypeChoice(r)#c\n",
    "\t\t | if (r.vertices.filter[it instanceof Entry].size == 0 \n",
    "\t\t \t&& r.vertices.size > 0 \n",
    "\t\t ) RTypeEntry(r)#d\n",
    "\t;\n",
    "\t\n",
    "```\n",
    "\n",
    "We want to estimate `a`, `b`, `c` and `d`."
   ]
  },
  {
   "cell_type": "code",
   "execution_count": 9,
   "metadata": {},
   "outputs": [
    {
     "name": "stdout",
     "output_type": "stream",
     "text": [
      "[ 0.         53.06380089  0.99999983 19.20298195]\n"
     ]
    }
   ],
   "source": [
    "ps = []\n",
    "for G in Gs:\n",
    "    p = [0, 0, 0, 0]\n",
    "    for n in G:\n",
    "        if (G.nodes[n]['type'] == 'Synchronization'):\n",
    "            p[0] = p[0] + 1\n",
    "        if (G.nodes[n]['type'] == 'Choice'):\n",
    "            p[1] = p[1] + 1\n",
    "        if (G.nodes[n]['type'] == 'Exit'):\n",
    "            p[2] = p[2] + 1\n",
    "        if (G.nodes[n]['type'] == 'Entry'):\n",
    "            p[3] = p[3] + 1\n",
    "    p = np.array(p)\n",
    "    ps.append(p/np.sum(p))\n",
    "ps = np.array(ps)\n",
    "\n",
    "    \n",
    "print(np.mean(ps, axis = 0)/0.01364875)"
   ]
  },
  {
   "cell_type": "markdown",
   "metadata": {},
   "source": [
    "## Transitions per state"
   ]
  },
  {
   "cell_type": "markdown",
   "metadata": {},
   "source": [
    "For the rule:\n",
    "\n",
    "```\n",
    "\tRState (Region r) : State ->\n",
    "\t\toutgoingTransitions += RTransition(self,r)#Distribution(parameters)\n",
    "\t;\n",
    "\t\n",
    "```"
   ]
  },
  {
   "cell_type": "code",
   "execution_count": 10,
   "metadata": {},
   "outputs": [
    {
     "name": "stdout",
     "output_type": "stream",
     "text": [
      "\n"
     ]
    },
    {
     "data": {
      "image/png": "[encoded data removed]",
      "text/plain": [
       "<Figure size 432x288 with 1 Axes>"
      ]
     },
     "metadata": {
      "needs_background": "light"
     },
     "output_type": "display_data"
    }
   ],
   "source": [
    "numberTransitions = []\n",
    "for G in Gs:\n",
    "    for n in G:\n",
    "        if (G.nodes[n]['type'] == 'State'):\n",
    "            cont = 0\n",
    "            for e in G[n]:\n",
    "                for e2 in G[n][e]:\n",
    "                     if (G[n][e][e2]['type'] == 'outgoingTransitions'):\n",
    "                        cont = cont + 1\n",
    "            numberTransitions.append(cont)\n",
    "bins = np.arange(0, 10, 1)\n",
    "plt.hist(numberTransitions, bins = bins, alpha=0.5, density = True)\n",
    "print()"
   ]
  },
  {
   "cell_type": "code",
   "execution_count": 11,
   "metadata": {},
   "outputs": [
    {
     "name": "stdout",
     "output_type": "stream",
     "text": [
      "Warning: Maximum number of function evaluations has been exceeded.\n",
      "Optimization terminated successfully.\n",
      "         Current function value: 1.673394\n",
      "         Iterations: 22\n",
      "         Function evaluations: 44\n",
      "Optimization terminated successfully.\n",
      "         Current function value: 1.651149\n",
      "         Iterations: 11\n",
      "         Function evaluations: 22\n"
     ]
    },
    {
     "name": "stderr",
     "output_type": "stream",
     "text": [
      "/home/antolin/anaconda3/lib/python3.8/site-packages/statsmodels/base/model.py:547: HessianInversionWarning: Inverting hessian failed, no bse or cov_params available\n",
      "  warn('Inverting hessian failed, no bse or cov_params '\n",
      "/home/antolin/anaconda3/lib/python3.8/site-packages/statsmodels/base/model.py:567: ConvergenceWarning: Maximum Likelihood optimization failed to converge. Check mle_retvals\n",
      "  warn(\"Maximum Likelihood optimization failed to converge. \"\n"
     ]
    },
    {
     "data": {
      "text/plain": [
       "{'dis': 'poisson', 'params': 2.0299231702385767}"
      ]
     },
     "execution_count": 11,
     "metadata": {},
     "output_type": "execute_result"
    }
   ],
   "source": [
    "whichFitsBetter(numberTransitions)"
   ]
  },
  {
   "cell_type": "markdown",
   "metadata": {},
   "source": [
    "For the rule:\n",
    "\n",
    "```\n",
    "\tRTypeChoice (Region r) : Choice->\n",
    "\t\toutgoingTransitions += RTransition(self,r)#Distribution(parameters)\n",
    "\t;\n",
    "\t\n",
    "```"
   ]
  },
  {
   "cell_type": "code",
   "execution_count": 12,
   "metadata": {},
   "outputs": [
    {
     "name": "stdout",
     "output_type": "stream",
     "text": [
      "\n"
     ]
    },
    {
     "data": {
      "image/png": "[encoded data removed]",
      "text/plain": [
       "<Figure size 432x288 with 1 Axes>"
      ]
     },
     "metadata": {
      "needs_background": "light"
     },
     "output_type": "display_data"
    }
   ],
   "source": [
    "numberTransitions = []\n",
    "for G in Gs:\n",
    "    for n in G:\n",
    "        if (G.nodes[n]['type'] == 'Choice'):\n",
    "            cont = 0\n",
    "            for e in G[n]:\n",
    "                for e2 in G[n][e]:\n",
    "                     if (G[n][e][e2]['type'] == 'outgoingTransitions'):\n",
    "                        cont = cont + 1\n",
    "            numberTransitions.append(cont)\n",
    "bins = np.arange(0, 10, 0.5)\n",
    "plt.hist(numberTransitions, bins = bins, alpha=0.5, density = False)\n",
    "print()"
   ]
  },
  {
   "cell_type": "code",
   "execution_count": 13,
   "metadata": {},
   "outputs": [
    {
     "name": "stdout",
     "output_type": "stream",
     "text": [
      "Warning: Maximum number of function evaluations has been exceeded.\n",
      "Optimization terminated successfully.\n",
      "         Current function value: 0.165460\n",
      "         Iterations: 19\n",
      "         Function evaluations: 39\n",
      "Optimization terminated successfully.\n",
      "         Current function value: 1.323936\n",
      "         Iterations: 11\n",
      "         Function evaluations: 22\n"
     ]
    },
    {
     "name": "stderr",
     "output_type": "stream",
     "text": [
      "/home/antolin/anaconda3/lib/python3.8/site-packages/statsmodels/base/model.py:547: HessianInversionWarning: Inverting hessian failed, no bse or cov_params available\n",
      "  warn('Inverting hessian failed, no bse or cov_params '\n",
      "/home/antolin/anaconda3/lib/python3.8/site-packages/statsmodels/base/model.py:567: ConvergenceWarning: Maximum Likelihood optimization failed to converge. Check mle_retvals\n",
      "  warn(\"Maximum Likelihood optimization failed to converge. \"\n"
     ]
    },
    {
     "data": {
      "text/plain": [
       "{'dis': 'norm', 'params': (2.0032987747408106, 0.2855100340385085)}"
      ]
     },
     "execution_count": 13,
     "metadata": {},
     "output_type": "execute_result"
    }
   ],
   "source": [
    "whichFitsBetter(numberTransitions)"
   ]
  },
  {
   "cell_type": "code",
   "execution_count": 14,
   "metadata": {},
   "outputs": [
    {
     "data": {
      "text/plain": [
       "0.08151597953667028"
      ]
     },
     "execution_count": 14,
     "metadata": {},
     "output_type": "execute_result"
    }
   ],
   "source": [
    "0.2855100340385085**2"
   ]
  },
  {
   "cell_type": "markdown",
   "metadata": {},
   "source": [
    "## Number vertex per region"
   ]
  },
  {
   "cell_type": "markdown",
   "metadata": {},
   "source": [
    "## Statechart"
   ]
  },
  {
   "cell_type": "markdown",
   "metadata": {},
   "source": [
    "For the rule:\n",
    "\n",
    "```\n",
    "\tRegionsStatechart : Region ->\n",
    "\t\tvertices += Vertices(self)#Distribution(parameters)\n",
    "\t;\n",
    "\t\n",
    "```"
   ]
  },
  {
   "cell_type": "code",
   "execution_count": 15,
   "metadata": {},
   "outputs": [
    {
     "name": "stdout",
     "output_type": "stream",
     "text": [
      "\n"
     ]
    },
    {
     "data": {
      "image/png": "[encoded data removed]",
      "text/plain": [
       "<Figure size 432x288 with 1 Axes>"
      ]
     },
     "metadata": {
      "needs_background": "light"
     },
     "output_type": "display_data"
    }
   ],
   "source": [
    "def fromStateChart(G,n):\n",
    "    for m in G:\n",
    "        if (G.nodes[m]['type'] == 'Statechart'):\n",
    "            try:\n",
    "                for e in G[m][n]:\n",
    "                    if (G[m][n][e]['type'] == 'regions'):\n",
    "                        return True\n",
    "            except:\n",
    "                return False\n",
    "    return False\n",
    "\n",
    "numberVert = []\n",
    "for G in Gs:\n",
    "    for n in G:\n",
    "        if (G.nodes[n]['type'] == 'Region') and (fromStateChart(G,n)):\n",
    "            cont = 0\n",
    "            for e in G[n]:\n",
    "                for e2 in G[n][e]:\n",
    "                     if (G[n][e][e2]['type'] == 'vertices'):\n",
    "                        cont = cont + 1\n",
    "            numberVert.append(cont)\n",
    "bins = np.arange(0, 10, 1)\n",
    "plt.hist(numberVert, bins = bins, alpha=0.5, density = True)\n",
    "print()"
   ]
  },
  {
   "cell_type": "code",
   "execution_count": 16,
   "metadata": {},
   "outputs": [
    {
     "name": "stdout",
     "output_type": "stream",
     "text": [
      "Optimization terminated successfully.\n",
      "         Current function value: 3.164103\n",
      "         Iterations: 35\n",
      "         Function evaluations: 66\n",
      "Optimization terminated successfully.\n",
      "         Current function value: 3.574493\n",
      "         Iterations: 27\n",
      "         Function evaluations: 55\n",
      "Optimization terminated successfully.\n",
      "         Current function value: 5.224871\n",
      "         Iterations: 14\n",
      "         Function evaluations: 28\n",
      "{'dis': 'nbinom', 'params': (2.0, 0.15893714889198218)}\n"
     ]
    }
   ],
   "source": [
    "print(whichFitsBetter(numberVert))"
   ]
  },
  {
   "cell_type": "markdown",
   "metadata": {},
   "source": [
    "## State"
   ]
  },
  {
   "cell_type": "markdown",
   "metadata": {},
   "source": [
    "For the rule:\n",
    "\n",
    "```\n",
    "\tRegionsState : Region ->\n",
    "\t\tvertices += Vertices(self)#Distribution(parameters)\n",
    "\t;\n",
    "\t\n",
    "```"
   ]
  },
  {
   "cell_type": "code",
   "execution_count": 17,
   "metadata": {},
   "outputs": [
    {
     "name": "stdout",
     "output_type": "stream",
     "text": [
      "\n"
     ]
    },
    {
     "data": {
      "image/png": "[encoded data removed]",
      "text/plain": [
       "<Figure size 432x288 with 1 Axes>"
      ]
     },
     "metadata": {
      "needs_background": "light"
     },
     "output_type": "display_data"
    }
   ],
   "source": [
    "def fromState(G,n):\n",
    "    for m in G:\n",
    "        if (G.nodes[m]['type'] == 'State'):\n",
    "            try:\n",
    "                for e in G[m][n]:\n",
    "                    if (G[m][n][e]['type'] == 'regions'):\n",
    "                        return True\n",
    "            except:\n",
    "                return False\n",
    "    return False\n",
    "\n",
    "numberVert = []\n",
    "for G in Gs:\n",
    "    for n in G:\n",
    "        if (G.nodes[n]['type'] == 'Region') and (fromState(G,n)):\n",
    "            cont = 0\n",
    "            for e in G[n]:\n",
    "                for e2 in G[n][e]:\n",
    "                     if (G[n][e][e2]['type'] == 'vertices'):\n",
    "                        cont = cont + 1\n",
    "            numberVert.append(cont)\n",
    "bins = np.arange(0, 10, 1)\n",
    "plt.hist(numberVert, bins = bins, alpha=0.5, density = True)\n",
    "print()"
   ]
  },
  {
   "cell_type": "code",
   "execution_count": 18,
   "metadata": {},
   "outputs": [
    {
     "name": "stdout",
     "output_type": "stream",
     "text": [
      "Optimization terminated successfully.\n",
      "         Current function value: 2.956993\n",
      "         Iterations: 43\n",
      "         Function evaluations: 83\n",
      "Optimization terminated successfully.\n",
      "         Current function value: 2.929832\n",
      "         Iterations: 26\n",
      "         Function evaluations: 53\n",
      "Optimization terminated successfully.\n",
      "         Current function value: 3.111857\n",
      "         Iterations: 14\n",
      "         Function evaluations: 28\n"
     ]
    },
    {
     "data": {
      "text/plain": [
       "{'dis': 'uniform', 'params': (2, 18)}"
      ]
     },
     "execution_count": 18,
     "metadata": {},
     "output_type": "execute_result"
    }
   ],
   "source": [
    "whichFitsBetter(numberVert)"
   ]
  }
 ],
 "metadata": {
  "kernelspec": {
   "display_name": "Python 3",
   "language": "python",
   "name": "python3"
  },
  "language_info": {
   "codemirror_mode": {
    "name": "ipython",
    "version": 3
   },
   "file_extension": ".py",
   "mimetype": "text/x-python",
   "name": "python",
   "nbconvert_exporter": "python",
   "pygments_lexer": "ipython3",
   "version": "3.8.3"
  }
 },
 "nbformat": 4,
 "nbformat_minor": 4
}
