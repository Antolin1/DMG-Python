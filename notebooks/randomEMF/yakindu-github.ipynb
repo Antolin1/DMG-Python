{
 "cells": [
  {
   "cell_type": "markdown",
   "metadata": {},
   "source": [
    "# Importing some utilities"
   ]
  },
  {
   "cell_type": "code",
   "execution_count": 1,
   "metadata": {},
   "outputs": [
    {
     "name": "stdout",
     "output_type": "stream",
     "text": [
      "/home/antolin/wakame/DMG-Python\n"
     ]
    }
   ],
   "source": [
    "%cd ../..\n",
    "import glob\n",
    "import sys\n",
    "from dmg.realism.mle import whichFitsBetter\n",
    "from scripts.modelSet import datasets_supported\n",
    "msetObject = datasets_supported['yakindu-github']\n",
    "train_path = 'data/yakindu-github/train'\n",
    "backend = 'python'"
   ]
  },
  {
   "cell_type": "markdown",
   "metadata": {},
   "source": [
    "# Loading Training set"
   ]
  },
  {
   "cell_type": "code",
   "execution_count": 2,
   "metadata": {},
   "outputs": [],
   "source": [
    "Gs = [msetObject.getGraphReal(f,backend) \n",
    "                for f in glob.glob(train_path + \"/*\")]"
   ]
  },
  {
   "cell_type": "markdown",
   "metadata": {},
   "source": [
    "# Random EMF"
   ]
  },
  {
   "cell_type": "markdown",
   "metadata": {},
   "source": [
    "For each rule in RandomEMF, depending on the type of rule, we estimate its parameters. More concretely, for shapes we use the function `whichFitsBetter` that selects the best distribuntion by using maximum likeihood. For priorities in alternative rules, the procedure described in the paper is done and it is based on counting each different alternative in the set $R_{II}$."
   ]
  },
  {
   "cell_type": "markdown",
   "metadata": {},
   "source": [
    "## Number of regions per statechart"
   ]
  },
  {
   "cell_type": "markdown",
   "metadata": {},
   "source": [
    "For the rule:\n",
    "\n",
    "```\n",
    "Root : Statechart ->\n",
    "\t\tregions += RegionsStatechart#Distribution(parameters)\n",
    "\t; \n",
    "```"
   ]
  },
  {
   "cell_type": "code",
   "execution_count": 3,
   "metadata": {
    "scrolled": true
   },
   "outputs": [
    {
     "name": "stdout",
     "output_type": "stream",
     "text": [
      "\n"
     ]
    },
    {
     "data": {
      "image/png": "[encoded data removed]",
      "text/plain": [
       "<Figure size 432x288 with 1 Axes>"
      ]
     },
     "metadata": {
      "needs_background": "light"
     },
     "output_type": "display_data"
    }
   ],
   "source": [
    "import matplotlib.pyplot as plt\n",
    "import numpy as np\n",
    "\n",
    "nums = []\n",
    "for G in Gs:\n",
    "    nums.append(G.out_degree(0))\n",
    "bins = np.arange(1, 3, 0.5)\n",
    "plt.hist(nums, bins = bins, alpha=0.5, density = False)\n",
    "print()"
   ]
  },
  {
   "cell_type": "code",
   "execution_count": 4,
   "metadata": {},
   "outputs": [
    {
     "name": "stdout",
     "output_type": "stream",
     "text": [
      "Warning: Maximum number of function evaluations has been exceeded.\n",
      "Optimization terminated successfully.\n",
      "         Current function value: 0.283499\n",
      "         Iterations: 18\n",
      "         Function evaluations: 37\n",
      "Optimization terminated successfully.\n",
      "         Current function value: 1.074438\n",
      "         Iterations: 11\n",
      "         Function evaluations: 22\n"
     ]
    },
    {
     "name": "stderr",
     "output_type": "stream",
     "text": [
      "/home/antolin/anaconda3/lib/python3.8/site-packages/statsmodels/base/model.py:547: HessianInversionWarning: Inverting hessian failed, no bse or cov_params available\n",
      "  warn('Inverting hessian failed, no bse or cov_params '\n",
      "/home/antolin/anaconda3/lib/python3.8/site-packages/statsmodels/base/model.py:567: ConvergenceWarning: Maximum Likelihood optimization failed to converge. Check mle_retvals\n",
      "  warn(\"Maximum Likelihood optimization failed to converge. \"\n"
     ]
    },
    {
     "data": {
      "text/plain": [
       "{'dis': 'uniform', 'params': (1, 2)}"
      ]
     },
     "execution_count": 4,
     "metadata": {},
     "output_type": "execute_result"
    }
   ],
   "source": [
    "whichFitsBetter(nums)"
   ]
  },
  {
   "cell_type": "markdown",
   "metadata": {},
   "source": [
    "## Number of regions per state"
   ]
  },
  {
   "cell_type": "markdown",
   "metadata": {},
   "source": [
    "For the rule:\n",
    "\n",
    "```\n",
    "\tRState (Region r) : State ->\n",
    "\t\tregions += RegionsState#Distribution(parameters)\n",
    "\t;\n",
    "\t\n",
    "```"
   ]
  },
  {
   "cell_type": "code",
   "execution_count": 5,
   "metadata": {},
   "outputs": [
    {
     "data": {
      "text/plain": [
       "(array([0.89716312, 0.08510638, 0.0070922 , 0.0035461 , 0.0035461 ,\n",
       "        0.        , 0.0035461 , 0.        , 0.        ]),\n",
       " array([0, 1, 2, 3, 4, 5, 6, 7, 8, 9]),\n",
       " <a list of 9 Patch objects>)"
      ]
     },
     "execution_count": 5,
     "metadata": {},
     "output_type": "execute_result"
    },
    {
     "data": {
      "image/png": "[encoded data removed]",
      "text/plain": [
       "<Figure size 432x288 with 1 Axes>"
      ]
     },
     "metadata": {
      "needs_background": "light"
     },
     "output_type": "display_data"
    }
   ],
   "source": [
    "numberSubvertex = []\n",
    "for G in Gs:\n",
    "    for n in G:\n",
    "        if G.nodes[n]['type'] =='State':\n",
    "            cont = 0\n",
    "            for e in G[n]:\n",
    "                for e2 in G[n][e]:\n",
    "                     if (G[n][e][e2]['type'] == 'regions'):\n",
    "                        cont = cont + 1\n",
    "            numberSubvertex.append(cont)\n",
    "            \n",
    "bins = np.arange(0, 10, 1)\n",
    "plt.hist(numberSubvertex, bins = bins, alpha=0.5, density = True)"
   ]
  },
  {
   "cell_type": "code",
   "execution_count": 6,
   "metadata": {},
   "outputs": [
    {
     "name": "stdout",
     "output_type": "stream",
     "text": [
      "Optimization terminated successfully.\n",
      "         Current function value: 0.415573\n",
      "         Iterations: 26\n",
      "         Function evaluations: 50\n",
      "Optimization terminated successfully.\n",
      "         Current function value: 0.831163\n",
      "         Iterations: 16\n",
      "         Function evaluations: 33\n",
      "Optimization terminated successfully.\n",
      "         Current function value: 0.471621\n",
      "         Iterations: 8\n",
      "         Function evaluations: 16\n",
      "{'dis': 'poisson', 'params': 0.1453900709219858}\n"
     ]
    }
   ],
   "source": [
    "best = whichFitsBetter(numberSubvertex)\n",
    "print(best)\n",
    "#print(r,p)\n",
    "#print(best)"
   ]
  },
  {
   "cell_type": "markdown",
   "metadata": {},
   "source": [
    "## Type of vertices"
   ]
  },
  {
   "cell_type": "markdown",
   "metadata": {},
   "source": [
    "For the rule:\n",
    "\n",
    "```\n",
    "\talter Vertices (Region r) : Vertex ->\n",
    "\t\t RPseudoState(r)#a | RRegularState(r)#b\n",
    "\t;\n",
    "\t\n",
    "```"
   ]
  },
  {
   "cell_type": "code",
   "execution_count": 7,
   "metadata": {},
   "outputs": [
    {
     "name": "stdout",
     "output_type": "stream",
     "text": [
      "[1.98176941 1.        ]\n"
     ]
    }
   ],
   "source": [
    "import numpy as np\n",
    "ps = []\n",
    "for G in Gs:\n",
    "    p = [0, 0]\n",
    "    for n in G:\n",
    "        if (G.nodes[n]['type'] == 'FinalState'):\n",
    "            p[0] = p[0] + 1\n",
    "        if (G.nodes[n]['type'] == 'State'):\n",
    "            p[0] = p[0] + 1\n",
    "        if (G.nodes[n]['type'] == 'Synchronization'):\n",
    "            p[1] = p[1] + 1\n",
    "        if (G.nodes[n]['type'] == 'Choice'):\n",
    "            p[1] = p[1] + 1\n",
    "        if (G.nodes[n]['type'] == 'Exit'):\n",
    "            p[1] = p[1] + 1\n",
    "        if (G.nodes[n]['type'] == 'Entry'):\n",
    "            p[1] = p[1] + 1\n",
    "    p = np.array(p)\n",
    "    ps.append(p/np.sum(p))\n",
    "ps = np.array(ps)\n",
    "print(np.mean(ps, axis = 0)/np.min(np.mean(ps, axis = 0)))"
   ]
  },
  {
   "cell_type": "markdown",
   "metadata": {},
   "source": [
    "For the rule:\n",
    "\n",
    "```\n",
    "\talter RRegularState (Region r) : RegularState ->\n",
    "\t\tRFinal#a | RState(r)#b \n",
    "\t;\n",
    "\t\n",
    "```"
   ]
  },
  {
   "cell_type": "code",
   "execution_count": 8,
   "metadata": {},
   "outputs": [
    {
     "name": "stdout",
     "output_type": "stream",
     "text": [
      "[ 1.         22.93782383]\n"
     ]
    }
   ],
   "source": [
    "ps = []\n",
    "for G in Gs:\n",
    "    p = [0, 0]\n",
    "    for n in G:\n",
    "        if (G.nodes[n]['type'] == 'FinalState'):\n",
    "            p[0] = p[0] + 1\n",
    "        if (G.nodes[n]['type'] == 'State'):\n",
    "            p[1] = p[1] + 1\n",
    "    p = np.array(p)\n",
    "    ps.append(p/np.sum(p))\n",
    "ps = np.array(ps)\n",
    "print(np.mean(ps, axis = 0)/np.min(np.mean(ps, axis = 0)))"
   ]
  },
  {
   "cell_type": "markdown",
   "metadata": {},
   "source": [
    "For the rule:\n",
    "\n",
    "```\n",
    "\talter RPseudoState(Region r) : Pseudostate ->\n",
    "\t\t RTypeSynchronization(r)#a  | RTypeExit#b | RTypeChoice(r)#c\n",
    "\t\t | if (r.vertices.filter[it instanceof Entry].size == 0 \n",
    "\t\t \t&& r.vertices.size > 0 \n",
    "\t\t ) RTypeEntry(r)#d\n",
    "\t;\n",
    "\t\n",
    "```\n",
    "\n",
    "We want to estimate `a`, `b`, `c` and `d`."
   ]
  },
  {
   "cell_type": "code",
   "execution_count": 9,
   "metadata": {},
   "outputs": [
    {
     "name": "stdout",
     "output_type": "stream",
     "text": [
      "[0.         0.06991342 0.01731602 0.91277056]\n",
      "[ 4.0375  1.     52.7125]\n"
     ]
    }
   ],
   "source": [
    "ps = []\n",
    "for G in Gs:\n",
    "    p = [0, 0, 0, 0]\n",
    "    for n in G:\n",
    "        if (G.nodes[n]['type'] == 'Synchronization'):\n",
    "            p[0] = p[0] + 1\n",
    "        if (G.nodes[n]['type'] == 'Choice'):\n",
    "            p[1] = p[1] + 1\n",
    "        if (G.nodes[n]['type'] == 'Exit'):\n",
    "            p[2] = p[2] + 1\n",
    "        if (G.nodes[n]['type'] == 'Entry'):\n",
    "            p[3] = p[3] + 1\n",
    "    p = np.array(p)\n",
    "    ps.append(p/np.sum(p))\n",
    "ps = np.array(ps)\n",
    "print(np.mean(ps, axis = 0))\n",
    "print(np.mean(ps[:,1:], axis = 0)/np.min(np.mean(ps[:,1:], axis = 0)))"
   ]
  },
  {
   "cell_type": "markdown",
   "metadata": {},
   "source": [
    "## Transitions per state"
   ]
  },
  {
   "cell_type": "markdown",
   "metadata": {},
   "source": [
    "For the rule:\n",
    "\n",
    "```\n",
    "\tRState (Region r) : State ->\n",
    "\t\toutgoingTransitions += RTransition(self,r)#Distribution(parameters)\n",
    "\t;\n",
    "\t\n",
    "```"
   ]
  },
  {
   "cell_type": "code",
   "execution_count": 10,
   "metadata": {},
   "outputs": [
    {
     "name": "stdout",
     "output_type": "stream",
     "text": [
      "\n"
     ]
    },
    {
     "data": {
      "image/png": "[encoded data removed]",
      "text/plain": [
       "<Figure size 432x288 with 1 Axes>"
      ]
     },
     "metadata": {
      "needs_background": "light"
     },
     "output_type": "display_data"
    }
   ],
   "source": [
    "numberTransitions = []\n",
    "for G in Gs:\n",
    "    for n in G:\n",
    "        if (G.nodes[n]['type'] == 'State'):\n",
    "            cont = 0\n",
    "            for e in G[n]:\n",
    "                for e2 in G[n][e]:\n",
    "                     if (G[n][e][e2]['type'] == 'outgoingTransitions'):\n",
    "                        cont = cont + 1\n",
    "            numberTransitions.append(cont)\n",
    "bins = np.arange(0, 10, 1)\n",
    "plt.hist(numberTransitions, bins = bins, alpha=0.5, density = True)\n",
    "print()"
   ]
  },
  {
   "cell_type": "code",
   "execution_count": 11,
   "metadata": {},
   "outputs": [
    {
     "name": "stdout",
     "output_type": "stream",
     "text": [
      "Warning: Maximum number of function evaluations has been exceeded.\n",
      "Optimization terminated successfully.\n",
      "         Current function value: 1.368860\n",
      "         Iterations: 20\n",
      "         Function evaluations: 41\n",
      "Optimization terminated successfully.\n",
      "         Current function value: 1.282858\n",
      "         Iterations: 11\n",
      "         Function evaluations: 22\n"
     ]
    },
    {
     "name": "stderr",
     "output_type": "stream",
     "text": [
      "/home/antolin/anaconda3/lib/python3.8/site-packages/statsmodels/base/model.py:547: HessianInversionWarning: Inverting hessian failed, no bse or cov_params available\n",
      "  warn('Inverting hessian failed, no bse or cov_params '\n",
      "/home/antolin/anaconda3/lib/python3.8/site-packages/statsmodels/base/model.py:567: ConvergenceWarning: Maximum Likelihood optimization failed to converge. Check mle_retvals\n",
      "  warn(\"Maximum Likelihood optimization failed to converge. \"\n"
     ]
    },
    {
     "data": {
      "text/plain": [
       "{'dis': 'poisson', 'params': 1.0815602836879432}"
      ]
     },
     "execution_count": 11,
     "metadata": {},
     "output_type": "execute_result"
    }
   ],
   "source": [
    "whichFitsBetter(numberTransitions)"
   ]
  },
  {
   "cell_type": "markdown",
   "metadata": {},
   "source": [
    "For the rule:\n",
    "\n",
    "```\n",
    "\tRTypeSynchronization (Region r) : Synchronization ->\n",
    "\t\toutgoingTransitions += RTransition(self,r)#Distribution(parameters)\n",
    "\t;\n",
    "\t\n",
    "```"
   ]
  },
  {
   "cell_type": "code",
   "execution_count": 12,
   "metadata": {},
   "outputs": [
    {
     "name": "stdout",
     "output_type": "stream",
     "text": [
      "\n"
     ]
    },
    {
     "data": {
      "image/png": "[encoded data removed]",
      "text/plain": [
       "<Figure size 432x288 with 1 Axes>"
      ]
     },
     "metadata": {
      "needs_background": "light"
     },
     "output_type": "display_data"
    }
   ],
   "source": [
    "numberTransitions = []\n",
    "for G in Gs:\n",
    "    for n in G:\n",
    "        if (G.nodes[n]['type'] == 'Synchronization'):\n",
    "            cont = 0\n",
    "            for e in G[n]:\n",
    "                for e2 in G[n][e]:\n",
    "                     if (G[n][e][e2]['type'] == 'outgoingTransitions'):\n",
    "                        cont = cont + 1\n",
    "            numberTransitions.append(cont)\n",
    "bins = np.arange(0, 3, 0.5)\n",
    "plt.hist(numberTransitions, bins = bins, alpha=0.5, density = False)\n",
    "print()"
   ]
  },
  {
   "cell_type": "code",
   "execution_count": 13,
   "metadata": {
    "scrolled": true
   },
   "outputs": [
    {
     "name": "stdout",
     "output_type": "stream",
     "text": [
      "zero-size array to reduction operation maximum which has no identity\n",
      "Can not fit negbin\n",
      "Can not fit normal\n",
      "Can not fit poisson\n"
     ]
    },
    {
     "ename": "ValueError",
     "evalue": "zero-size array to reduction operation maximum which has no identity",
     "output_type": "error",
     "traceback": [
      "\u001b[0;31m---------------------------------------------------------------------------\u001b[0m",
      "\u001b[0;31mValueError\u001b[0m                                Traceback (most recent call last)",
      "\u001b[0;32m<ipython-input-13-8707b80218af>\u001b[0m in \u001b[0;36m<module>\u001b[0;34m\u001b[0m\n\u001b[0;32m----> 1\u001b[0;31m \u001b[0mwhichFitsBetter\u001b[0m\u001b[0;34m(\u001b[0m\u001b[0mnumberTransitions\u001b[0m\u001b[0;34m)\u001b[0m\u001b[0;34m\u001b[0m\u001b[0;34m\u001b[0m\u001b[0m\n\u001b[0m",
      "\u001b[0;32m~/wakame/DMG-Python/dmg/realism/mle.py\u001b[0m in \u001b[0;36mwhichFitsBetter\u001b[0;34m(samples)\u001b[0m\n\u001b[1;32m    117\u001b[0m         \u001b[0mprint\u001b[0m\u001b[0;34m(\u001b[0m\u001b[0;34m'Can not fit poisson'\u001b[0m\u001b[0;34m)\u001b[0m\u001b[0;34m\u001b[0m\u001b[0;34m\u001b[0m\u001b[0m\n\u001b[1;32m    118\u001b[0m     \u001b[0;31m##uniform\u001b[0m\u001b[0;34m\u001b[0m\u001b[0;34m\u001b[0m\u001b[0;34m\u001b[0m\u001b[0m\n\u001b[0;32m--> 119\u001b[0;31m     \u001b[0mb\u001b[0m \u001b[0;34m=\u001b[0m \u001b[0mnp\u001b[0m\u001b[0;34m.\u001b[0m\u001b[0mmax\u001b[0m\u001b[0;34m(\u001b[0m\u001b[0msamples\u001b[0m\u001b[0;34m)\u001b[0m\u001b[0;34m\u001b[0m\u001b[0;34m\u001b[0m\u001b[0m\n\u001b[0m\u001b[1;32m    120\u001b[0m     \u001b[0ma\u001b[0m \u001b[0;34m=\u001b[0m \u001b[0mnp\u001b[0m\u001b[0;34m.\u001b[0m\u001b[0mmin\u001b[0m\u001b[0;34m(\u001b[0m\u001b[0msamples\u001b[0m\u001b[0;34m)\u001b[0m\u001b[0;34m\u001b[0m\u001b[0;34m\u001b[0m\u001b[0m\n\u001b[1;32m    121\u001b[0m     \u001b[0md\u001b[0m \u001b[0;34m=\u001b[0m \u001b[0mnp\u001b[0m\u001b[0;34m.\u001b[0m\u001b[0msum\u001b[0m\u001b[0;34m(\u001b[0m\u001b[0mnp\u001b[0m\u001b[0;34m.\u001b[0m\u001b[0mlog\u001b[0m\u001b[0;34m(\u001b[0m\u001b[0muniform\u001b[0m\u001b[0;34m.\u001b[0m\u001b[0mpdf\u001b[0m\u001b[0;34m(\u001b[0m\u001b[0msamples\u001b[0m\u001b[0;34m,\u001b[0m\u001b[0mloc\u001b[0m\u001b[0;34m=\u001b[0m\u001b[0ma\u001b[0m\u001b[0;34m,\u001b[0m\u001b[0mscale\u001b[0m\u001b[0;34m=\u001b[0m\u001b[0mb\u001b[0m\u001b[0;34m-\u001b[0m\u001b[0ma\u001b[0m\u001b[0;34m)\u001b[0m\u001b[0;34m)\u001b[0m\u001b[0;34m)\u001b[0m\u001b[0;34m\u001b[0m\u001b[0;34m\u001b[0m\u001b[0m\n",
      "\u001b[0;32m<__array_function__ internals>\u001b[0m in \u001b[0;36mamax\u001b[0;34m(*args, **kwargs)\u001b[0m\n",
      "\u001b[0;32m~/anaconda3/lib/python3.8/site-packages/numpy/core/fromnumeric.py\u001b[0m in \u001b[0;36mamax\u001b[0;34m(a, axis, out, keepdims, initial, where)\u001b[0m\n\u001b[1;32m   2665\u001b[0m     \u001b[0;36m5\u001b[0m\u001b[0;34m\u001b[0m\u001b[0;34m\u001b[0m\u001b[0m\n\u001b[1;32m   2666\u001b[0m     \"\"\"\n\u001b[0;32m-> 2667\u001b[0;31m     return _wrapreduction(a, np.maximum, 'max', axis, None, out,\n\u001b[0m\u001b[1;32m   2668\u001b[0m                           keepdims=keepdims, initial=initial, where=where)\n\u001b[1;32m   2669\u001b[0m \u001b[0;34m\u001b[0m\u001b[0m\n",
      "\u001b[0;32m~/anaconda3/lib/python3.8/site-packages/numpy/core/fromnumeric.py\u001b[0m in \u001b[0;36m_wrapreduction\u001b[0;34m(obj, ufunc, method, axis, dtype, out, **kwargs)\u001b[0m\n\u001b[1;32m     88\u001b[0m                 \u001b[0;32mreturn\u001b[0m \u001b[0mreduction\u001b[0m\u001b[0;34m(\u001b[0m\u001b[0maxis\u001b[0m\u001b[0;34m=\u001b[0m\u001b[0maxis\u001b[0m\u001b[0;34m,\u001b[0m \u001b[0mout\u001b[0m\u001b[0;34m=\u001b[0m\u001b[0mout\u001b[0m\u001b[0;34m,\u001b[0m \u001b[0;34m**\u001b[0m\u001b[0mpasskwargs\u001b[0m\u001b[0;34m)\u001b[0m\u001b[0;34m\u001b[0m\u001b[0;34m\u001b[0m\u001b[0m\n\u001b[1;32m     89\u001b[0m \u001b[0;34m\u001b[0m\u001b[0m\n\u001b[0;32m---> 90\u001b[0;31m     \u001b[0;32mreturn\u001b[0m \u001b[0mufunc\u001b[0m\u001b[0;34m.\u001b[0m\u001b[0mreduce\u001b[0m\u001b[0;34m(\u001b[0m\u001b[0mobj\u001b[0m\u001b[0;34m,\u001b[0m \u001b[0maxis\u001b[0m\u001b[0;34m,\u001b[0m \u001b[0mdtype\u001b[0m\u001b[0;34m,\u001b[0m \u001b[0mout\u001b[0m\u001b[0;34m,\u001b[0m \u001b[0;34m**\u001b[0m\u001b[0mpasskwargs\u001b[0m\u001b[0;34m)\u001b[0m\u001b[0;34m\u001b[0m\u001b[0;34m\u001b[0m\u001b[0m\n\u001b[0m\u001b[1;32m     91\u001b[0m \u001b[0;34m\u001b[0m\u001b[0m\n\u001b[1;32m     92\u001b[0m \u001b[0;34m\u001b[0m\u001b[0m\n",
      "\u001b[0;31mValueError\u001b[0m: zero-size array to reduction operation maximum which has no identity"
     ]
    }
   ],
   "source": [
    "whichFitsBetter(numberTransitions)"
   ]
  },
  {
   "cell_type": "markdown",
   "metadata": {},
   "source": [
    "For the rule:\n",
    "\n",
    "```\n",
    "\tRTypeChoice (Region r) : Choice->\n",
    "\t\toutgoingTransitions += RTransition(self,r)#Distribution(parameters)\n",
    "\t;\n",
    "\t\n",
    "```"
   ]
  },
  {
   "cell_type": "code",
   "execution_count": 14,
   "metadata": {},
   "outputs": [
    {
     "name": "stdout",
     "output_type": "stream",
     "text": [
      "\n"
     ]
    },
    {
     "data": {
      "image/png": "[encoded data removed]",
      "text/plain": [
       "<Figure size 432x288 with 1 Axes>"
      ]
     },
     "metadata": {
      "needs_background": "light"
     },
     "output_type": "display_data"
    }
   ],
   "source": [
    "numberTransitions = []\n",
    "for G in Gs:\n",
    "    for n in G:\n",
    "        if (G.nodes[n]['type'] == 'Choice'):\n",
    "            cont = 0\n",
    "            for e in G[n]:\n",
    "                for e2 in G[n][e]:\n",
    "                     if (G[n][e][e2]['type'] == 'outgoingTransitions'):\n",
    "                        cont = cont + 1\n",
    "            numberTransitions.append(cont)\n",
    "bins = np.arange(0, 10, 0.5)\n",
    "plt.hist(numberTransitions, bins = bins, alpha=0.5, density = False)\n",
    "print()"
   ]
  },
  {
   "cell_type": "code",
   "execution_count": 15,
   "metadata": {},
   "outputs": [
    {
     "name": "stdout",
     "output_type": "stream",
     "text": [
      "Warning: Maximum number of function evaluations has been exceeded.\n",
      "Optimization terminated successfully.\n",
      "         Current function value: 0.571424\n",
      "         Iterations: 22\n",
      "         Function evaluations: 44\n",
      "Optimization terminated successfully.\n",
      "         Current function value: 1.331207\n",
      "         Iterations: 11\n",
      "         Function evaluations: 22\n"
     ]
    },
    {
     "name": "stderr",
     "output_type": "stream",
     "text": [
      "/home/antolin/anaconda3/lib/python3.8/site-packages/statsmodels/base/model.py:547: HessianInversionWarning: Inverting hessian failed, no bse or cov_params available\n",
      "  warn('Inverting hessian failed, no bse or cov_params '\n",
      "/home/antolin/anaconda3/lib/python3.8/site-packages/statsmodels/base/model.py:567: ConvergenceWarning: Maximum Likelihood optimization failed to converge. Check mle_retvals\n",
      "  warn(\"Maximum Likelihood optimization failed to converge. \"\n"
     ]
    },
    {
     "data": {
      "text/plain": [
       "{'dis': 'norm', 'params': (1.9375, 0.42847841252506524)}"
      ]
     },
     "execution_count": 15,
     "metadata": {},
     "output_type": "execute_result"
    }
   ],
   "source": [
    "whichFitsBetter(numberTransitions)"
   ]
  },
  {
   "cell_type": "code",
   "execution_count": 16,
   "metadata": {},
   "outputs": [
    {
     "data": {
      "text/plain": [
       "0.18359375"
      ]
     },
     "execution_count": 16,
     "metadata": {},
     "output_type": "execute_result"
    }
   ],
   "source": [
    "0.42847841252506524**2"
   ]
  },
  {
   "cell_type": "markdown",
   "metadata": {},
   "source": [
    "## Number vertex per region"
   ]
  },
  {
   "cell_type": "markdown",
   "metadata": {},
   "source": [
    "## Statechart"
   ]
  },
  {
   "cell_type": "markdown",
   "metadata": {},
   "source": [
    "For the rule:\n",
    "\n",
    "```\n",
    "\tRegionsStatechart : Region ->\n",
    "\t\tvertices += Vertices(self)#Distribution(parameters)\n",
    "\t;\n",
    "\t\n",
    "```"
   ]
  },
  {
   "cell_type": "code",
   "execution_count": 17,
   "metadata": {},
   "outputs": [
    {
     "name": "stdout",
     "output_type": "stream",
     "text": [
      "\n"
     ]
    },
    {
     "data": {
      "image/png": "[encoded data removed]",
      "text/plain": [
       "<Figure size 432x288 with 1 Axes>"
      ]
     },
     "metadata": {
      "needs_background": "light"
     },
     "output_type": "display_data"
    }
   ],
   "source": [
    "def fromStateChart(G,n):\n",
    "    for m in G:\n",
    "        if (G.nodes[m]['type'] == 'Statechart'):\n",
    "            try:\n",
    "                for e in G[m][n]:\n",
    "                    if (G[m][n][e]['type'] == 'regions'):\n",
    "                        return True\n",
    "            except:\n",
    "                return False\n",
    "    return False\n",
    "\n",
    "numberVert = []\n",
    "for G in Gs:\n",
    "    for n in G:\n",
    "        if (G.nodes[n]['type'] == 'Region') and (fromStateChart(G,n)):\n",
    "            cont = 0\n",
    "            for e in G[n]:\n",
    "                for e2 in G[n][e]:\n",
    "                     if (G[n][e][e2]['type'] == 'vertices'):\n",
    "                        cont = cont + 1\n",
    "            numberVert.append(cont)\n",
    "bins = np.arange(0, 10, 1)\n",
    "plt.hist(numberVert, bins = bins, alpha=0.5, density = True)\n",
    "print()"
   ]
  },
  {
   "cell_type": "code",
   "execution_count": 18,
   "metadata": {},
   "outputs": [
    {
     "name": "stdout",
     "output_type": "stream",
     "text": [
      "Warning: Maximum number of function evaluations has been exceeded.\n",
      "Optimization terminated successfully.\n",
      "         Current function value: 1.730549\n",
      "         Iterations: 23\n",
      "         Function evaluations: 46\n",
      "Optimization terminated successfully.\n",
      "         Current function value: 1.821253\n",
      "         Iterations: 12\n",
      "         Function evaluations: 24\n",
      "{'dis': 'uniform', 'params': (2, 7)}\n"
     ]
    },
    {
     "name": "stderr",
     "output_type": "stream",
     "text": [
      "/home/antolin/anaconda3/lib/python3.8/site-packages/statsmodels/base/model.py:547: HessianInversionWarning: Inverting hessian failed, no bse or cov_params available\n",
      "  warn('Inverting hessian failed, no bse or cov_params '\n",
      "/home/antolin/anaconda3/lib/python3.8/site-packages/statsmodels/base/model.py:567: ConvergenceWarning: Maximum Likelihood optimization failed to converge. Check mle_retvals\n",
      "  warn(\"Maximum Likelihood optimization failed to converge. \"\n"
     ]
    }
   ],
   "source": [
    "print(whichFitsBetter(numberVert))"
   ]
  },
  {
   "cell_type": "markdown",
   "metadata": {},
   "source": [
    "## State"
   ]
  },
  {
   "cell_type": "markdown",
   "metadata": {},
   "source": [
    "For the rule:\n",
    "\n",
    "```\n",
    "\tRegionsState : Region ->\n",
    "\t\tvertices += Vertices(self)#Distribution(parameters)\n",
    "\t;\n",
    "\t\n",
    "```"
   ]
  },
  {
   "cell_type": "code",
   "execution_count": 19,
   "metadata": {},
   "outputs": [
    {
     "name": "stdout",
     "output_type": "stream",
     "text": [
      "\n"
     ]
    },
    {
     "data": {
      "image/png": "[encoded data removed]",
      "text/plain": [
       "<Figure size 432x288 with 1 Axes>"
      ]
     },
     "metadata": {
      "needs_background": "light"
     },
     "output_type": "display_data"
    }
   ],
   "source": [
    "def fromState(G,n):\n",
    "    for m in G:\n",
    "        if (G.nodes[m]['type'] == 'State'):\n",
    "            try:\n",
    "                for e in G[m][n]:\n",
    "                    if (G[m][n][e]['type'] == 'regions'):\n",
    "                        return True\n",
    "            except:\n",
    "                return False\n",
    "    return False\n",
    "\n",
    "numberVert = []\n",
    "for G in Gs:\n",
    "    for n in G:\n",
    "        if (G.nodes[n]['type'] == 'Region') and (fromState(G,n)):\n",
    "            cont = 0\n",
    "            for e in G[n]:\n",
    "                for e2 in G[n][e]:\n",
    "                     if (G[n][e][e2]['type'] == 'vertices'):\n",
    "                        cont = cont + 1\n",
    "            numberVert.append(cont)\n",
    "bins = np.arange(0, 10, 1)\n",
    "plt.hist(numberVert, bins = bins, alpha=0.5, density = True)\n",
    "print()"
   ]
  },
  {
   "cell_type": "code",
   "execution_count": 20,
   "metadata": {},
   "outputs": [
    {
     "name": "stdout",
     "output_type": "stream",
     "text": [
      "Warning: Maximum number of function evaluations has been exceeded.\n",
      "Optimization terminated successfully.\n",
      "         Current function value: 1.517887\n",
      "         Iterations: 21\n",
      "         Function evaluations: 43\n",
      "Optimization terminated successfully.\n",
      "         Current function value: 1.684943\n",
      "         Iterations: 12\n",
      "         Function evaluations: 24\n"
     ]
    },
    {
     "name": "stderr",
     "output_type": "stream",
     "text": [
      "/home/antolin/anaconda3/lib/python3.8/site-packages/statsmodels/base/model.py:547: HessianInversionWarning: Inverting hessian failed, no bse or cov_params available\n",
      "  warn('Inverting hessian failed, no bse or cov_params '\n",
      "/home/antolin/anaconda3/lib/python3.8/site-packages/statsmodels/base/model.py:567: ConvergenceWarning: Maximum Likelihood optimization failed to converge. Check mle_retvals\n",
      "  warn(\"Maximum Likelihood optimization failed to converge. \"\n"
     ]
    },
    {
     "data": {
      "text/plain": [
       "{'dis': 'uniform', 'params': (2, 6)}"
      ]
     },
     "execution_count": 20,
     "metadata": {},
     "output_type": "execute_result"
    }
   ],
   "source": [
    "whichFitsBetter(numberVert)"
   ]
  }
 ],
 "metadata": {
  "kernelspec": {
   "display_name": "Python 3",
   "language": "python",
   "name": "python3"
  },
  "language_info": {
   "codemirror_mode": {
    "name": "ipython",
    "version": 3
   },
   "file_extension": ".py",
   "mimetype": "text/x-python",
   "name": "python",
   "nbconvert_exporter": "python",
   "pygments_lexer": "ipython3",
   "version": "3.8.3"
  }
 },
 "nbformat": 4,
 "nbformat_minor": 4
}
