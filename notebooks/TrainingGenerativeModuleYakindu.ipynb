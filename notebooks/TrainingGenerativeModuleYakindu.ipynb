{
 "cells": [
  {
   "cell_type": "code",
   "execution_count": 1,
   "metadata": {},
   "outputs": [],
   "source": [
    "import sys\n",
    "sys.path.append('../')\n",
    "import dmg.model2graph.model2graph as m2g\n",
    "import dmg.model2graph.metafilter as mf\n",
    "from networkx.algorithms.isomorphism import is_isomorphic\n",
    "import dmg.graphUtils as gu\n",
    "import glob\n",
    "from dmg.yakindu.yakinduPreprocess import removeLayout\n",
    "import dmg.yakindu.yakinduPallete as yp\n",
    "import random\n",
    "random.seed(123)"
   ]
  },
  {
   "cell_type": "markdown",
   "metadata": {},
   "source": [
    "# Load dataset"
   ]
  },
  {
   "cell_type": "code",
   "execution_count": 2,
   "metadata": {},
   "outputs": [],
   "source": [
    "metafilter_refs = ['Region.vertices', \n",
    "                           'CompositeElement.regions',\n",
    "                           'Vertex.outgoingTransitions',\n",
    "                           'Vertex.incomingTransitions',\n",
    "                           'Transition.target',\n",
    "                           'Transition.source']\n",
    "metafilter_cla = list(yp.dic_nodes_yak.keys())     \n",
    "metafilter_atts = None\n",
    "metafilterobj = mf.MetaFilter(references = metafilter_refs, \n",
    "                 attributes = metafilter_atts,\n",
    "                 classes = metafilter_cla)       \n",
    "meta_models = glob.glob(\"../data/metamodels/yakinduComplete/*\")"
   ]
  },
  {
   "cell_type": "code",
   "execution_count": 3,
   "metadata": {},
   "outputs": [
    {
     "name": "stdout",
     "output_type": "stream",
     "text": [
      "/home/antolin/wakame/DMG-Python\n",
      "/home/antolin/wakame/DMG-Python/notebooks\n"
     ]
    }
   ],
   "source": [
    "%cd ..\n",
    "files = glob.glob(\"data/yakinduDataset/train/*\")\n",
    "graphs = []\n",
    "for f in files:\n",
    "    graphs.append(m2g.model2graphJava('yakindu', f))\n",
    "    #m2g.getGraphFromModel(f, \n",
    "                                  #meta_models, metafilterobj,\n",
    "                                  #consider_atts = False)\n",
    "%cd notebooks"
   ]
  },
  {
   "cell_type": "code",
   "execution_count": 4,
   "metadata": {},
   "outputs": [
    {
     "name": "stdout",
     "output_type": "stream",
     "text": [
      "Number of graphs: 203\n"
     ]
    }
   ],
   "source": [
    "print('Number of graphs:', len(graphs))"
   ]
  },
  {
   "cell_type": "code",
   "execution_count": 5,
   "metadata": {},
   "outputs": [
    {
     "name": "stdout",
     "output_type": "stream",
     "text": [
      "/home/antolin/wakame/DMG-Python\n",
      "/home/antolin/wakame/DMG-Python/notebooks\n"
     ]
    }
   ],
   "source": [
    "%cd ..\n",
    "files = glob.glob(\"data/yakinduDataset/val/*\")\n",
    "graphs_val = []\n",
    "for f in files:\n",
    "    #graphs_val.append(m2g.getGraphFromModel(f, \n",
    "    #                              meta_models, metafilterobj,\n",
    "    #                              consider_atts = False))\n",
    "    graphs_val.append(m2g.model2graphJava('yakindu', f))\n",
    "%cd notebooks"
   ]
  },
  {
   "cell_type": "code",
   "execution_count": 6,
   "metadata": {},
   "outputs": [
    {
     "name": "stdout",
     "output_type": "stream",
     "text": [
      "Number of graphs: 51\n"
     ]
    }
   ],
   "source": [
    "print('Number of graphs:', len(graphs_val))"
   ]
  },
  {
   "cell_type": "code",
   "execution_count": 7,
   "metadata": {},
   "outputs": [],
   "source": [
    "yp.yakindu_pallete.shuffle = False"
   ]
  },
  {
   "cell_type": "code",
   "execution_count": 8,
   "metadata": {},
   "outputs": [
    {
     "name": "stdout",
     "output_type": "stream",
     "text": [
      "Preparing seqs\n",
      "Seqs finished\n"
     ]
    }
   ],
   "source": [
    "from torch_geometric.data import DataLoader\n",
    "from dmg.deeplearning.dataGeneration import sequence2data, data2graph\n",
    "from dmg.deeplearning.dataGeneration import addInvEdges\n",
    "\n",
    "listDatas_val = []\n",
    "batch_size = 64\n",
    "max_len = 2\n",
    "print('Preparing seqs')\n",
    "for g in graphs_val:\n",
    "    sequence = yp.yakindu_pallete.graphToSequence(g)\n",
    "    sequence = [(addInvEdges(s[0], yp.yakindu_pallete, yp.yakindu_separator),s[1]) for s in sequence]\n",
    "    listDatas_val = listDatas_val + sequence2data(sequence, yp.yakindu_pallete, max_len)\n",
    "loader_val = DataLoader(listDatas_val, batch_size=batch_size, \n",
    "                        num_workers = 0, \n",
    "                        shuffle=False)\n",
    "print('Seqs finished')"
   ]
  },
  {
   "cell_type": "code",
   "execution_count": 9,
   "metadata": {},
   "outputs": [],
   "source": [
    "do_eval = False\n",
    "\n",
    "if not do_eval:\n",
    "    graphs = graphs + graphs_val"
   ]
  },
  {
   "cell_type": "code",
   "execution_count": 10,
   "metadata": {},
   "outputs": [
    {
     "name": "stdout",
     "output_type": "stream",
     "text": [
      "Number of graphs: 254\n"
     ]
    }
   ],
   "source": [
    "print('Number of graphs:', len(graphs))"
   ]
  },
  {
   "cell_type": "markdown",
   "metadata": {},
   "source": [
    "# Training"
   ]
  },
  {
   "cell_type": "code",
   "execution_count": 11,
   "metadata": {
    "scrolled": true
   },
   "outputs": [
    {
     "name": "stdout",
     "output_type": "stream",
     "text": [
      "Preparing seqs\n",
      "Seqs finished\n"
     ]
    },
    {
     "name": "stderr",
     "output_type": "stream",
     "text": [
      "/home/antolin/anaconda3/lib/python3.8/site-packages/torch/nn/functional.py:1805: UserWarning: nn.functional.sigmoid is deprecated. Use torch.sigmoid instead.\n",
      "  warnings.warn(\"nn.functional.sigmoid is deprecated. Use torch.sigmoid instead.\")\n"
     ]
    },
    {
     "name": "stdout",
     "output_type": "stream",
     "text": [
      "Epoch 0 Loss Traning 0.6505785439465497\n",
      "Preparing seqs\n",
      "Seqs finished\n",
      "Epoch 1 Loss Traning 0.5191966730195123\n",
      "Preparing seqs\n",
      "Seqs finished\n",
      "Epoch 2 Loss Traning 0.480649112044154\n",
      "Preparing seqs\n",
      "Seqs finished\n",
      "Epoch 3 Loss Traning 0.46743085174947174\n",
      "Preparing seqs\n",
      "Seqs finished\n",
      "Epoch 4 Loss Traning 0.46311659104115255\n",
      "Preparing seqs\n",
      "Seqs finished\n",
      "Epoch 5 Loss Traning 0.4641547541360597\n",
      "Preparing seqs\n",
      "Seqs finished\n",
      "Epoch 6 Loss Traning 0.45345229554820704\n",
      "Preparing seqs\n",
      "Seqs finished\n",
      "Epoch 7 Loss Traning 0.44804251999468414\n",
      "Preparing seqs\n",
      "Seqs finished\n",
      "Epoch 8 Loss Traning 0.4483869679876276\n",
      "Preparing seqs\n",
      "Seqs finished\n",
      "Epoch 9 Loss Traning 0.44556039813402537\n",
      "Preparing seqs\n",
      "Seqs finished\n",
      "Epoch 10 Loss Traning 0.43486406915896647\n",
      "Preparing seqs\n",
      "Seqs finished\n",
      "Epoch 11 Loss Traning 0.44132121833595067\n",
      "Preparing seqs\n",
      "Seqs finished\n",
      "Epoch 12 Loss Traning 0.4360272634673763\n",
      "Preparing seqs\n",
      "Seqs finished\n",
      "Epoch 13 Loss Traning 0.43215653944659876\n",
      "Preparing seqs\n",
      "Seqs finished\n",
      "Epoch 14 Loss Traning 0.42978020535933004\n",
      "Preparing seqs\n",
      "Seqs finished\n",
      "Epoch 15 Loss Traning 0.4356230159063597\n",
      "Preparing seqs\n",
      "Seqs finished\n",
      "Epoch 16 Loss Traning 0.42531959672231934\n",
      "Preparing seqs\n",
      "Seqs finished\n",
      "Epoch 17 Loss Traning 0.43158830662031433\n",
      "Preparing seqs\n",
      "Seqs finished\n",
      "Epoch 18 Loss Traning 0.421160330643525\n",
      "Preparing seqs\n",
      "Seqs finished\n",
      "Epoch 19 Loss Traning 0.41863758499557907\n",
      "Preparing seqs\n",
      "Seqs finished\n",
      "Epoch 20 Loss Traning 0.4240637614920333\n",
      "Preparing seqs\n",
      "Seqs finished\n",
      "Epoch 21 Loss Traning 0.4176888626974982\n",
      "Preparing seqs\n",
      "Seqs finished\n",
      "Epoch 22 Loss Traning 0.4174360818154103\n",
      "Preparing seqs\n",
      "Seqs finished\n",
      "Epoch 23 Loss Traning 0.41925065098582087\n",
      "Preparing seqs\n",
      "Seqs finished\n",
      "Epoch 24 Loss Traning 0.4196616177623336\n",
      "Preparing seqs\n",
      "Seqs finished\n",
      "Epoch 25 Loss Traning 0.42004545475985555\n",
      "Preparing seqs\n",
      "Seqs finished\n",
      "Epoch 26 Loss Traning 0.4172710792438404\n",
      "Preparing seqs\n",
      "Seqs finished\n",
      "Epoch 27 Loss Traning 0.4153259936216715\n",
      "Preparing seqs\n",
      "Seqs finished\n",
      "Epoch 28 Loss Traning 0.41610957239125224\n",
      "Preparing seqs\n",
      "Seqs finished\n",
      "Epoch 29 Loss Traning 0.41638293540155563\n",
      "Preparing seqs\n",
      "Seqs finished\n",
      "Epoch 30 Loss Traning 0.4106225363306097\n",
      "Preparing seqs\n",
      "Seqs finished\n",
      "Epoch 31 Loss Traning 0.4193849821348448\n",
      "Preparing seqs\n",
      "Seqs finished\n",
      "Epoch 32 Loss Traning 0.4131331838466026\n",
      "Preparing seqs\n",
      "Seqs finished\n",
      "Epoch 33 Loss Traning 0.4122345632797963\n",
      "Preparing seqs\n",
      "Seqs finished\n",
      "Epoch 34 Loss Traning 0.41260380519402995\n",
      "Preparing seqs\n",
      "Seqs finished\n",
      "Epoch 35 Loss Traning 0.40960279670921534\n",
      "Preparing seqs\n",
      "Seqs finished\n",
      "Epoch 36 Loss Traning 0.41200225820412506\n",
      "Preparing seqs\n",
      "Seqs finished\n",
      "Epoch 37 Loss Traning 0.40954385335380966\n",
      "Preparing seqs\n",
      "Seqs finished\n",
      "Epoch 38 Loss Traning 0.4111341383006122\n",
      "Preparing seqs\n",
      "Seqs finished\n",
      "Epoch 39 Loss Traning 0.41114338507523407\n",
      "Preparing seqs\n",
      "Seqs finished\n",
      "Epoch 40 Loss Traning 0.4123973645068504\n",
      "Preparing seqs\n",
      "Seqs finished\n",
      "Epoch 41 Loss Traning 0.41529294928988897\n",
      "Preparing seqs\n",
      "Seqs finished\n",
      "Epoch 42 Loss Traning 0.4118584579712636\n",
      "Preparing seqs\n",
      "Seqs finished\n",
      "Epoch 43 Loss Traning 0.40855943995553096\n",
      "Preparing seqs\n",
      "Seqs finished\n",
      "Epoch 44 Loss Traning 0.41183908404530706\n",
      "Preparing seqs\n",
      "Seqs finished\n",
      "Epoch 45 Loss Traning 0.40977193777625626\n",
      "Preparing seqs\n",
      "Seqs finished\n",
      "Epoch 46 Loss Traning 0.4066683287556107\n",
      "Preparing seqs\n",
      "Seqs finished\n",
      "Epoch 47 Loss Traning 0.40500744452347626\n",
      "Preparing seqs\n",
      "Seqs finished\n",
      "Epoch 48 Loss Traning 0.4029620877794317\n",
      "Preparing seqs\n",
      "Seqs finished\n",
      "Epoch 49 Loss Traning 0.4070405355981878\n",
      "Preparing seqs\n",
      "Seqs finished\n",
      "Epoch 50 Loss Traning 0.40746147729255056\n",
      "Preparing seqs\n",
      "Seqs finished\n",
      "Epoch 51 Loss Traning 0.4077600836753845\n",
      "Preparing seqs\n",
      "Seqs finished\n",
      "Epoch 52 Loss Traning 0.40236423466656657\n",
      "Preparing seqs\n",
      "Seqs finished\n",
      "Epoch 53 Loss Traning 0.40555085765348897\n",
      "Preparing seqs\n",
      "Seqs finished\n",
      "Epoch 54 Loss Traning 0.404994841362979\n",
      "Preparing seqs\n",
      "Seqs finished\n",
      "Epoch 55 Loss Traning 0.41000704265929555\n",
      "Preparing seqs\n",
      "Seqs finished\n",
      "Epoch 56 Loss Traning 0.40864255782720205\n",
      "Preparing seqs\n",
      "Seqs finished\n",
      "Epoch 57 Loss Traning 0.40010613122501887\n",
      "Preparing seqs\n",
      "Seqs finished\n",
      "Epoch 58 Loss Traning 0.40484095425219147\n",
      "Preparing seqs\n",
      "Seqs finished\n",
      "Epoch 59 Loss Traning 0.40160378330462687\n",
      "Preparing seqs\n",
      "Seqs finished\n",
      "Epoch 60 Loss Traning 0.3998067338724394\n",
      "Preparing seqs\n",
      "Seqs finished\n",
      "Epoch 61 Loss Traning 0.4033630852763717\n",
      "Preparing seqs\n",
      "Seqs finished\n",
      "Epoch 62 Loss Traning 0.39697661109872767\n",
      "Preparing seqs\n",
      "Seqs finished\n",
      "Epoch 63 Loss Traning 0.39923140970436305\n",
      "Preparing seqs\n",
      "Seqs finished\n",
      "Epoch 64 Loss Traning 0.39596182188472234\n",
      "Preparing seqs\n",
      "Seqs finished\n",
      "Epoch 65 Loss Traning 0.4049697325036332\n",
      "Preparing seqs\n",
      "Seqs finished\n",
      "Epoch 66 Loss Traning 0.39397262721448334\n",
      "Preparing seqs\n",
      "Seqs finished\n",
      "Epoch 67 Loss Traning 0.40289125651926605\n",
      "Preparing seqs\n",
      "Seqs finished\n",
      "Epoch 68 Loss Traning 0.4055523115235406\n",
      "Preparing seqs\n",
      "Seqs finished\n",
      "Epoch 69 Loss Traning 0.40072717296110616\n",
      "Preparing seqs\n",
      "Seqs finished\n",
      "Epoch 70 Loss Traning 0.397540714289691\n",
      "Preparing seqs\n",
      "Seqs finished\n",
      "Epoch 71 Loss Traning 0.4013872533231168\n",
      "Preparing seqs\n",
      "Seqs finished\n",
      "Epoch 72 Loss Traning 0.4057084225319527\n",
      "Preparing seqs\n",
      "Seqs finished\n",
      "Epoch 73 Loss Traning 0.4004377795232309\n",
      "Preparing seqs\n",
      "Seqs finished\n",
      "Epoch 74 Loss Traning 0.3972001993978346\n",
      "Preparing seqs\n",
      "Seqs finished\n",
      "Epoch 75 Loss Traning 0.39614928090894547\n",
      "Preparing seqs\n",
      "Seqs finished\n",
      "Epoch 76 Loss Traning 0.3957860663130477\n"
     ]
    }
   ],
   "source": [
    "from dmg.deeplearning.generativeModel import GenerativeModel\n",
    "from dmg.deeplearning.earlyStopping import EarlyStopping\n",
    "import torch\n",
    "import torch.nn as nn\n",
    "import multiprocess as mp\n",
    "\n",
    "def f(g):\n",
    "    sequence = yp.yakindu_pallete.graphToSequence(g)\n",
    "    sequence = [(addInvEdges(s[0], yp.yakindu_pallete, yp.yakindu_separator),s[1]) for s in sequence]\n",
    "    return sequence2data(sequence, yp.yakindu_pallete, max_len)\n",
    "\n",
    "epochs = 200\n",
    "hidden_dim = 128\n",
    "\n",
    "\n",
    "criterion_node = nn.CrossEntropyLoss(reduction = 'mean',ignore_index=-1)\n",
    "criterion_action = nn.CrossEntropyLoss(reduction = 'mean')\n",
    "criterion_finish = nn.BCELoss(reduction = 'mean')\n",
    "model = GenerativeModel(hidden_dim, yp.dic_nodes_yak, yp.dic_edges_yak, yp.dic_operations_yak)\n",
    "opt = torch.optim.Adam(model.parameters(), lr=0.001)\n",
    "es = EarlyStopping(opt, model, 'yakinduGenerator.model', patience = 10)\n",
    "#scheduler = torch.optim.lr_scheduler.StepLR(opt, step_size=10, gamma=0.1)\n",
    "\n",
    "for epoch in range(epochs):\n",
    "    model.train()\n",
    "    total_loss = 0\n",
    "    listDatas = []\n",
    "    #preparing training set\n",
    "    print('Preparing seqs')\n",
    "    #for g in graphs:\n",
    "    #    sequence = yp.yakindu_pallete.graphToSequence(g)\n",
    "    #    listDatas = listDatas + sequence2data(sequence, yp.yakindu_pallete, max_len)\n",
    "    with mp.Pool(10) as pool:\n",
    "        listDatas = pool.map(f, graphs)\n",
    "    listDatas = [r for rr in listDatas for r in rr]\n",
    "    print('Seqs finished')\n",
    "    loader = DataLoader(listDatas, batch_size=batch_size, \n",
    "                            num_workers = 0, \n",
    "                            shuffle=False)\n",
    "    #training\n",
    "    for data in loader:\n",
    "        opt.zero_grad()\n",
    "        action, nodes, finish = model(data.x, data.edge_index, \n",
    "                        torch.squeeze(data.edge_attr,dim=1), \n",
    "                data.batch, data.sequence, data.nodes, data.len_seq, data.action)\n",
    "        \n",
    "        nodes = torch.unsqueeze(nodes, dim = 2).repeat(1,1,2)\n",
    "        nodes[:,:,0] = 1 - nodes[:,:,1]\n",
    "            \n",
    "        L = torch.max(data.len_seq).item()\n",
    "        gTruth = data.sequence_masked[:,0:L]\n",
    "        loss = (criterion_node(nodes.reshape(-1,2), gTruth.flatten()) +\n",
    "                    criterion_action(action, data.action) +\n",
    "                    criterion_finish(finish.flatten(), data.finished.float())) / 3\n",
    "        total_loss += loss.item()\n",
    "        loss.backward()\n",
    "        opt.step()\n",
    "    #validation\n",
    "    if do_eval:\n",
    "        val_loss = 0\n",
    "        model.eval()\n",
    "        with torch.no_grad():\n",
    "            for data in loader_val:\n",
    "                action, nodes, finish = model(data.x, data.edge_index, \n",
    "                            torch.squeeze(data.edge_attr,dim=1), \n",
    "                    data.batch, data.sequence, data.nodes, data.len_seq, data.action)\n",
    "                nodes = torch.unsqueeze(nodes, dim = 2).repeat(1,1,2)\n",
    "                nodes[:,:,0] = 1 - nodes[:,:,1]\n",
    "\n",
    "                L = torch.max(data.len_seq).item()\n",
    "                gTruth = data.sequence_masked[:,0:L]\n",
    "                loss = (criterion_node(nodes.reshape(-1,2), gTruth.flatten()) +\n",
    "                        criterion_action(action, data.action) +\n",
    "                        criterion_finish(finish.flatten(), data.finished.float())) / 3\n",
    "                val_loss+= loss.item()\n",
    "        \n",
    "    print('Epoch',epoch,'Loss Traning',total_loss/(len(loader)))\n",
    "    #scheduler.step()\n",
    "    if do_eval:\n",
    "        print('Epoch',epoch,'Loss Val',val_loss/(len(loader_val)))\n",
    "    \n",
    "    if do_eval:\n",
    "        if es.step(val_loss/(len(loader_val)), epoch):\n",
    "            break\n",
    "    else:\n",
    "        if es.step(total_loss/(len(loader)), epoch):\n",
    "            break\n",
    "        "
   ]
  },
  {
   "cell_type": "markdown",
   "metadata": {},
   "source": [
    "# Loading test"
   ]
  },
  {
   "cell_type": "code",
   "execution_count": 12,
   "metadata": {},
   "outputs": [
    {
     "name": "stdout",
     "output_type": "stream",
     "text": [
      "/home/antolin/wakame/DMG-Python\n",
      "/home/antolin/wakame/DMG-Python/notebooks\n"
     ]
    }
   ],
   "source": [
    "%cd ..\n",
    "files = glob.glob(\"data/yakinduDataset/test/*\")\n",
    "graphs_test = []\n",
    "for f in files:\n",
    "    #graphs_test.append(m2g.getGraphFromModel(f, \n",
    "    #                              meta_models, metafilterobj,\n",
    "    #                              consider_atts = False))\n",
    "    graphs_test.append(m2g.model2graphJava('yakindu', f))\n",
    "%cd notebooks"
   ]
  },
  {
   "cell_type": "markdown",
   "metadata": {},
   "source": [
    "# Sample models"
   ]
  },
  {
   "cell_type": "code",
   "execution_count": 13,
   "metadata": {},
   "outputs": [
    {
     "name": "stderr",
     "output_type": "stream",
     "text": [
      "../dmg/deeplearning/generativeModel.py:133: UserWarning: Implicit dimension choice for softmax has been deprecated. Change the call to include dim=X as an argument.\n",
      "  m = Categorical(F.softmax(torch.squeeze(action)))\n",
      "/home/antolin/anaconda3/lib/python3.8/site-packages/torch/nn/functional.py:1805: UserWarning: nn.functional.sigmoid is deprecated. Use torch.sigmoid instead.\n",
      "  warnings.warn(\"nn.functional.sigmoid is deprecated. Use torch.sigmoid instead.\")\n"
     ]
    }
   ],
   "source": [
    "from dmg.deeplearning.generativeModel import sampleGraph\n",
    "\n",
    "model.eval()\n",
    "samples = [sampleGraph(yp.G_initial_yak, yp.yakindu_pallete, model, 50, yp.yakindu_separator) \n",
    "           for i in range(1000)]"
   ]
  },
  {
   "cell_type": "markdown",
   "metadata": {},
   "source": [
    "# Visual comparison"
   ]
  },
  {
   "cell_type": "markdown",
   "metadata": {},
   "source": [
    "## Size"
   ]
  },
  {
   "cell_type": "code",
   "execution_count": 14,
   "metadata": {},
   "outputs": [
    {
     "name": "stderr",
     "output_type": "stream",
     "text": [
      "/home/antolin/anaconda3/lib/python3.8/site-packages/seaborn/distributions.py:2551: FutureWarning: `distplot` is a deprecated function and will be removed in a future version. Please adapt your code to use either `displot` (a figure-level function with similar flexibility) or `kdeplot` (an axes-level function for kernel density plots).\n",
      "  warnings.warn(msg, FutureWarning)\n",
      "/home/antolin/anaconda3/lib/python3.8/site-packages/seaborn/distributions.py:2551: FutureWarning: `distplot` is a deprecated function and will be removed in a future version. Please adapt your code to use either `displot` (a figure-level function with similar flexibility) or `kdeplot` (an axes-level function for kernel density plots).\n",
      "  warnings.warn(msg, FutureWarning)\n"
     ]
    },
    {
     "data": {
      "text/plain": [
       "<matplotlib.axes._subplots.AxesSubplot at 0x7f977b3efa00>"
      ]
     },
     "execution_count": 14,
     "metadata": {},
     "output_type": "execute_result"
    },
    {
     "data": {
      "image/png": "[encoded data removed]",
      "text/plain": [
       "<Figure size 432x288 with 1 Axes>"
      ]
     },
     "metadata": {
      "needs_background": "light"
     },
     "output_type": "display_data"
    }
   ],
   "source": [
    "import seaborn as sns\n",
    "\n",
    "sns.distplot([len(G) for G in samples], hist=False, kde=True, \n",
    "             bins=int(180/5), color = 'red', label = 'NN')\n",
    "sns.distplot([len(G) for G in graphs_test], hist=False, kde=True, \n",
    "             bins=int(180/5), color = 'blue', label = 'Real')"
   ]
  },
  {
   "cell_type": "markdown",
   "metadata": {},
   "source": [
    "## Degree"
   ]
  },
  {
   "cell_type": "code",
   "execution_count": 15,
   "metadata": {},
   "outputs": [
    {
     "name": "stderr",
     "output_type": "stream",
     "text": [
      "/home/antolin/anaconda3/lib/python3.8/site-packages/seaborn/distributions.py:2551: FutureWarning: `distplot` is a deprecated function and will be removed in a future version. Please adapt your code to use either `displot` (a figure-level function with similar flexibility) or `kdeplot` (an axes-level function for kernel density plots).\n",
      "  warnings.warn(msg, FutureWarning)\n",
      "/home/antolin/anaconda3/lib/python3.8/site-packages/seaborn/distributions.py:2551: FutureWarning: `distplot` is a deprecated function and will be removed in a future version. Please adapt your code to use either `displot` (a figure-level function with similar flexibility) or `kdeplot` (an axes-level function for kernel density plots).\n",
      "  warnings.warn(msg, FutureWarning)\n"
     ]
    },
    {
     "data": {
      "text/plain": [
       "<matplotlib.axes._subplots.AxesSubplot at 0x7f9778a34730>"
      ]
     },
     "execution_count": 15,
     "metadata": {},
     "output_type": "execute_result"
    },
    {
     "data": {
      "image/png": "[encoded data removed]",
      "text/plain": [
       "<Figure size 432x288 with 1 Axes>"
      ]
     },
     "metadata": {
      "needs_background": "light"
     },
     "output_type": "display_data"
    }
   ],
   "source": [
    "import numpy as np\n",
    "import dmg.realism.metrics as mt\n",
    "sns.distplot([np.mean(mt.getListDegree(G)) for G in samples], hist=False, kde=True, \n",
    "             bins=int(180/5), color = 'red', label = 'NN')\n",
    "sns.distplot([np.mean(mt.getListDegree(G)) for G in graphs_test], hist=False, kde=True, \n",
    "             bins=int(180/5), color = 'blue', label = 'Real')"
   ]
  },
  {
   "cell_type": "markdown",
   "metadata": {},
   "source": [
    "## MPC"
   ]
  },
  {
   "cell_type": "code",
   "execution_count": 16,
   "metadata": {},
   "outputs": [
    {
     "name": "stderr",
     "output_type": "stream",
     "text": [
      "/home/antolin/anaconda3/lib/python3.8/site-packages/seaborn/distributions.py:2551: FutureWarning: `distplot` is a deprecated function and will be removed in a future version. Please adapt your code to use either `displot` (a figure-level function with similar flexibility) or `kdeplot` (an axes-level function for kernel density plots).\n",
      "  warnings.warn(msg, FutureWarning)\n",
      "/home/antolin/anaconda3/lib/python3.8/site-packages/seaborn/distributions.py:2551: FutureWarning: `distplot` is a deprecated function and will be removed in a future version. Please adapt your code to use either `displot` (a figure-level function with similar flexibility) or `kdeplot` (an axes-level function for kernel density plots).\n",
      "  warnings.warn(msg, FutureWarning)\n"
     ]
    },
    {
     "data": {
      "text/plain": [
       "<matplotlib.axes._subplots.AxesSubplot at 0x7f97789f6550>"
      ]
     },
     "execution_count": 16,
     "metadata": {},
     "output_type": "execute_result"
    },
    {
     "data": {
      "image/png": "[encoded data removed]",
      "text/plain": [
       "<Figure size 432x288 with 1 Axes>"
      ]
     },
     "metadata": {
      "needs_background": "light"
     },
     "output_type": "display_data"
    }
   ],
   "source": [
    "dims = list(yp.dic_edges_yak.keys())\n",
    "sns.distplot([np.mean(list(mt.MPC(G,dims).values())) for G in samples], hist=False, kde=True, \n",
    "             bins=int(180/5), color = 'red', label = 'NN')\n",
    "sns.distplot([np.mean(list(mt.MPC(G,dims).values())) for G in graphs_test], hist=False, kde=True, \n",
    "             bins=int(180/5), color = 'blue', label = 'Real')"
   ]
  },
  {
   "cell_type": "markdown",
   "metadata": {},
   "source": [
    "# Node activity"
   ]
  },
  {
   "cell_type": "code",
   "execution_count": 17,
   "metadata": {},
   "outputs": [
    {
     "name": "stderr",
     "output_type": "stream",
     "text": [
      "/home/antolin/anaconda3/lib/python3.8/site-packages/seaborn/distributions.py:2551: FutureWarning: `distplot` is a deprecated function and will be removed in a future version. Please adapt your code to use either `displot` (a figure-level function with similar flexibility) or `kdeplot` (an axes-level function for kernel density plots).\n",
      "  warnings.warn(msg, FutureWarning)\n",
      "/home/antolin/anaconda3/lib/python3.8/site-packages/seaborn/distributions.py:2551: FutureWarning: `distplot` is a deprecated function and will be removed in a future version. Please adapt your code to use either `displot` (a figure-level function with similar flexibility) or `kdeplot` (an axes-level function for kernel density plots).\n",
      "  warnings.warn(msg, FutureWarning)\n"
     ]
    },
    {
     "data": {
      "text/plain": [
       "<matplotlib.axes._subplots.AxesSubplot at 0x7f9778970f40>"
      ]
     },
     "execution_count": 17,
     "metadata": {},
     "output_type": "execute_result"
    },
    {
     "data": {
      "image/png": "[encoded data removed]",
      "text/plain": [
       "<Figure size 432x288 with 1 Axes>"
      ]
     },
     "metadata": {
      "needs_background": "light"
     },
     "output_type": "display_data"
    }
   ],
   "source": [
    "dims = list(yp.dic_edges_yak.keys())\n",
    "sns.distplot([np.mean(list(mt.nodeActivity(G,dims))) for G in samples], hist=False, kde=True, \n",
    "             bins=int(180/5), color = 'red', label = 'NN')\n",
    "sns.distplot([np.mean(list(mt.nodeActivity(G,dims))) for G in graphs_test], hist=False, kde=True, \n",
    "             bins=int(180/5), color = 'blue', label = 'Real')"
   ]
  },
  {
   "cell_type": "markdown",
   "metadata": {},
   "source": [
    "# Check isomorf and consistency"
   ]
  },
  {
   "cell_type": "code",
   "execution_count": 18,
   "metadata": {},
   "outputs": [
    {
     "data": {
      "image/png": "[encoded data removed]",
      "text/plain": [
       "<Figure size 432x288 with 1 Axes>"
      ]
     },
     "metadata": {
      "needs_background": "light"
     },
     "output_type": "display_data"
    }
   ],
   "source": [
    "import matplotlib.pyplot as plt\n",
    "\n",
    "h = plt.hist([len(G) for G in samples], bins = 20)"
   ]
  },
  {
   "cell_type": "code",
   "execution_count": 19,
   "metadata": {},
   "outputs": [
    {
     "data": {
      "image/png": "[encoded data removed]",
      "text/plain": [
       "<Figure size 432x288 with 1 Axes>"
      ]
     },
     "metadata": {
      "needs_background": "light"
     },
     "output_type": "display_data"
    }
   ],
   "source": [
    "h = plt.hist([len(G) for G in graphs], bins = 20)"
   ]
  },
  {
   "cell_type": "code",
   "execution_count": 20,
   "metadata": {},
   "outputs": [
    {
     "name": "stdout",
     "output_type": "stream",
     "text": [
      "40.5 % iso\n"
     ]
    }
   ],
   "source": [
    "#check isomorf\n",
    "iso = []\n",
    "for s in samples:\n",
    "    for g in graphs:\n",
    "        if (is_isomorphic(s,g,gu.node_match_type, gu.edge_match_type)):\n",
    "            iso.append(s)\n",
    "            break\n",
    "print(len(iso)*100/len(samples),'% iso')\n",
    "not_iso = [g for g in samples if not g in iso]"
   ]
  },
  {
   "cell_type": "code",
   "execution_count": 21,
   "metadata": {},
   "outputs": [
    {
     "name": "stdout",
     "output_type": "stream",
     "text": [
      "Mean size: 7.4222222222222225\n"
     ]
    },
    {
     "data": {
      "image/png": "[encoded data removed]",
      "text/plain": [
       "<Figure size 432x288 with 1 Axes>"
      ]
     },
     "metadata": {},
     "output_type": "display_data"
    }
   ],
   "source": [
    "import numpy as np\n",
    "import seaborn as sns\n",
    "\n",
    "sns.set_theme(style=\"whitegrid\")\n",
    "ax = sns.boxplot(x=[len(G) for G in iso])\n",
    "print('Mean size:', np.mean([len(G) for G in iso]))"
   ]
  },
  {
   "cell_type": "code",
   "execution_count": 22,
   "metadata": {},
   "outputs": [
    {
     "name": "stdout",
     "output_type": "stream",
     "text": [
      "13.4 % inconsistents\n"
     ]
    }
   ],
   "source": [
    "from dmg.yakindu.yakinduConsistency import inconsistent\n",
    "#check consistency\n",
    "inconsistents = []\n",
    "for s in samples:\n",
    "    if inconsistent(s):\n",
    "        inconsistents.append(s)\n",
    "print(len(inconsistents)*100/len(samples),'% inconsistents')\n",
    "not_inconsistents = [g for g in samples if not g in inconsistents]"
   ]
  },
  {
   "cell_type": "code",
   "execution_count": 23,
   "metadata": {},
   "outputs": [
    {
     "name": "stdout",
     "output_type": "stream",
     "text": [
      "Mean size: 12.783582089552239\n"
     ]
    },
    {
     "data": {
      "image/png": "[encoded data removed]",
      "text/plain": [
       "<Figure size 432x288 with 1 Axes>"
      ]
     },
     "metadata": {},
     "output_type": "display_data"
    }
   ],
   "source": [
    "ax = sns.boxplot(x=[len(G) for G in inconsistents])\n",
    "print('Mean size:', np.mean([len(G) for G in inconsistents]))"
   ]
  },
  {
   "cell_type": "code",
   "execution_count": 24,
   "metadata": {},
   "outputs": [],
   "source": [
    "clean_new_models = [g for g in not_iso if not g in inconsistents]"
   ]
  },
  {
   "cell_type": "code",
   "execution_count": 25,
   "metadata": {},
   "outputs": [
    {
     "name": "stdout",
     "output_type": "stream",
     "text": [
      "Mean size: 12.470967741935484\n"
     ]
    },
    {
     "data": {
      "image/png": "[encoded data removed]",
      "text/plain": [
       "<Figure size 432x288 with 1 Axes>"
      ]
     },
     "metadata": {},
     "output_type": "display_data"
    }
   ],
   "source": [
    "ax = sns.boxplot(x=[len(G) for G in clean_new_models])\n",
    "print('Mean size:', np.mean([len(G) for G in clean_new_models]))"
   ]
  },
  {
   "cell_type": "code",
   "execution_count": 26,
   "metadata": {},
   "outputs": [
    {
     "name": "stdout",
     "output_type": "stream",
     "text": [
      "Mean size: 11.311023622047244\n"
     ]
    },
    {
     "data": {
      "image/png": "[encoded data removed]",
      "text/plain": [
       "<Figure size 432x288 with 1 Axes>"
      ]
     },
     "metadata": {},
     "output_type": "display_data"
    }
   ],
   "source": [
    "ax = sns.boxplot(x=[len(G) for G in graphs])\n",
    "print('Mean size:', np.mean([len(G) for G in graphs]))"
   ]
  },
  {
   "cell_type": "code",
   "execution_count": 27,
   "metadata": {},
   "outputs": [
    {
     "name": "stdout",
     "output_type": "stream",
     "text": [
      "465 clean models\n",
      "46.5 % clean models\n"
     ]
    }
   ],
   "source": [
    "print(len(clean_new_models),'clean models')\n",
    "print(len(clean_new_models)*100/len(samples),'% clean models')"
   ]
  },
  {
   "cell_type": "markdown",
   "metadata": {},
   "source": [
    "# Clean models"
   ]
  },
  {
   "cell_type": "code",
   "execution_count": 28,
   "metadata": {},
   "outputs": [
    {
     "name": "stderr",
     "output_type": "stream",
     "text": [
      "/home/antolin/anaconda3/lib/python3.8/site-packages/seaborn/distributions.py:2551: FutureWarning: `distplot` is a deprecated function and will be removed in a future version. Please adapt your code to use either `displot` (a figure-level function with similar flexibility) or `kdeplot` (an axes-level function for kernel density plots).\n",
      "  warnings.warn(msg, FutureWarning)\n",
      "/home/antolin/anaconda3/lib/python3.8/site-packages/seaborn/distributions.py:2551: FutureWarning: `distplot` is a deprecated function and will be removed in a future version. Please adapt your code to use either `displot` (a figure-level function with similar flexibility) or `kdeplot` (an axes-level function for kernel density plots).\n",
      "  warnings.warn(msg, FutureWarning)\n"
     ]
    },
    {
     "data": {
      "text/plain": [
       "<matplotlib.axes._subplots.AxesSubplot at 0x7f9778705070>"
      ]
     },
     "execution_count": 28,
     "metadata": {},
     "output_type": "execute_result"
    },
    {
     "data": {
      "image/png": "[encoded data removed]",
      "text/plain": [
       "<Figure size 432x288 with 1 Axes>"
      ]
     },
     "metadata": {},
     "output_type": "display_data"
    }
   ],
   "source": [
    "import seaborn as sns\n",
    "\n",
    "sns.distplot([len(G) for G in clean_new_models], hist=False, kde=True, \n",
    "             bins=int(180/5), color = 'red', label = 'NN')\n",
    "sns.distplot([len(G) for G in graphs_test], hist=False, kde=True, \n",
    "             bins=int(180/5), color = 'blue', label = 'Real')"
   ]
  },
  {
   "cell_type": "code",
   "execution_count": 29,
   "metadata": {},
   "outputs": [
    {
     "name": "stderr",
     "output_type": "stream",
     "text": [
      "/home/antolin/anaconda3/lib/python3.8/site-packages/seaborn/distributions.py:2551: FutureWarning: `distplot` is a deprecated function and will be removed in a future version. Please adapt your code to use either `displot` (a figure-level function with similar flexibility) or `kdeplot` (an axes-level function for kernel density plots).\n",
      "  warnings.warn(msg, FutureWarning)\n",
      "/home/antolin/anaconda3/lib/python3.8/site-packages/seaborn/distributions.py:2551: FutureWarning: `distplot` is a deprecated function and will be removed in a future version. Please adapt your code to use either `displot` (a figure-level function with similar flexibility) or `kdeplot` (an axes-level function for kernel density plots).\n",
      "  warnings.warn(msg, FutureWarning)\n"
     ]
    },
    {
     "data": {
      "text/plain": [
       "<matplotlib.axes._subplots.AxesSubplot at 0x7f977865f400>"
      ]
     },
     "execution_count": 29,
     "metadata": {},
     "output_type": "execute_result"
    },
    {
     "data": {
      "image/png": "[encoded data removed]",
      "text/plain": [
       "<Figure size 432x288 with 1 Axes>"
      ]
     },
     "metadata": {},
     "output_type": "display_data"
    }
   ],
   "source": [
    "sns.distplot([np.mean(mt.getListDegree(G)) for G in clean_new_models], hist=False, kde=True, \n",
    "             bins=int(180/5), color = 'red', label = 'NN')\n",
    "sns.distplot([np.mean(mt.getListDegree(G)) for G in graphs_test], hist=False, kde=True, \n",
    "             bins=int(180/5), color = 'blue', label = 'Real')"
   ]
  },
  {
   "cell_type": "code",
   "execution_count": 30,
   "metadata": {},
   "outputs": [
    {
     "name": "stderr",
     "output_type": "stream",
     "text": [
      "/home/antolin/anaconda3/lib/python3.8/site-packages/seaborn/distributions.py:2551: FutureWarning: `distplot` is a deprecated function and will be removed in a future version. Please adapt your code to use either `displot` (a figure-level function with similar flexibility) or `kdeplot` (an axes-level function for kernel density plots).\n",
      "  warnings.warn(msg, FutureWarning)\n",
      "/home/antolin/anaconda3/lib/python3.8/site-packages/seaborn/distributions.py:2551: FutureWarning: `distplot` is a deprecated function and will be removed in a future version. Please adapt your code to use either `displot` (a figure-level function with similar flexibility) or `kdeplot` (an axes-level function for kernel density plots).\n",
      "  warnings.warn(msg, FutureWarning)\n"
     ]
    },
    {
     "data": {
      "text/plain": [
       "<matplotlib.axes._subplots.AxesSubplot at 0x7f9778630fd0>"
      ]
     },
     "execution_count": 30,
     "metadata": {},
     "output_type": "execute_result"
    },
    {
     "data": {
      "image/png": "[encoded data removed]",
      "text/plain": [
       "<Figure size 432x288 with 1 Axes>"
      ]
     },
     "metadata": {},
     "output_type": "display_data"
    }
   ],
   "source": [
    "dims = list(yp.dic_edges_yak.keys())\n",
    "sns.distplot([np.mean(list(mt.MPC(G,dims).values())) for G in clean_new_models], hist=False, kde=True, \n",
    "             bins=int(180/5), color = 'red', label = 'NN')\n",
    "sns.distplot([np.mean(list(mt.MPC(G,dims).values())) for G in graphs_test], hist=False, kde=True, \n",
    "             bins=int(180/5), color = 'blue', label = 'Real')"
   ]
  },
  {
   "cell_type": "markdown",
   "metadata": {},
   "source": [
    "# Consistent models"
   ]
  },
  {
   "cell_type": "code",
   "execution_count": 31,
   "metadata": {},
   "outputs": [
    {
     "name": "stderr",
     "output_type": "stream",
     "text": [
      "/home/antolin/anaconda3/lib/python3.8/site-packages/seaborn/distributions.py:2551: FutureWarning: `distplot` is a deprecated function and will be removed in a future version. Please adapt your code to use either `displot` (a figure-level function with similar flexibility) or `kdeplot` (an axes-level function for kernel density plots).\n",
      "  warnings.warn(msg, FutureWarning)\n",
      "/home/antolin/anaconda3/lib/python3.8/site-packages/seaborn/distributions.py:2551: FutureWarning: `distplot` is a deprecated function and will be removed in a future version. Please adapt your code to use either `displot` (a figure-level function with similar flexibility) or `kdeplot` (an axes-level function for kernel density plots).\n",
      "  warnings.warn(msg, FutureWarning)\n"
     ]
    },
    {
     "data": {
      "text/plain": [
       "<matplotlib.axes._subplots.AxesSubplot at 0x7f97786019d0>"
      ]
     },
     "execution_count": 31,
     "metadata": {},
     "output_type": "execute_result"
    },
    {
     "data": {
      "image/png": "[encoded data removed]",
      "text/plain": [
       "<Figure size 432x288 with 1 Axes>"
      ]
     },
     "metadata": {},
     "output_type": "display_data"
    }
   ],
   "source": [
    "import seaborn as sns\n",
    "\n",
    "sns.distplot([len(G) for G in not_inconsistents], hist=False, kde=True, \n",
    "             bins=int(180/5), color = 'red', label = 'NN')\n",
    "sns.distplot([len(G) for G in graphs_test], hist=False, kde=True, \n",
    "             bins=int(180/5), color = 'blue', label = 'Real')"
   ]
  },
  {
   "cell_type": "code",
   "execution_count": 32,
   "metadata": {},
   "outputs": [
    {
     "name": "stderr",
     "output_type": "stream",
     "text": [
      "/home/antolin/anaconda3/lib/python3.8/site-packages/seaborn/distributions.py:2551: FutureWarning: `distplot` is a deprecated function and will be removed in a future version. Please adapt your code to use either `displot` (a figure-level function with similar flexibility) or `kdeplot` (an axes-level function for kernel density plots).\n",
      "  warnings.warn(msg, FutureWarning)\n",
      "/home/antolin/anaconda3/lib/python3.8/site-packages/seaborn/distributions.py:2551: FutureWarning: `distplot` is a deprecated function and will be removed in a future version. Please adapt your code to use either `displot` (a figure-level function with similar flexibility) or `kdeplot` (an axes-level function for kernel density plots).\n",
      "  warnings.warn(msg, FutureWarning)\n"
     ]
    },
    {
     "data": {
      "text/plain": [
       "<matplotlib.axes._subplots.AxesSubplot at 0x7f9778659220>"
      ]
     },
     "execution_count": 32,
     "metadata": {},
     "output_type": "execute_result"
    },
    {
     "data": {
      "image/png": "[encoded data removed]",
      "text/plain": [
       "<Figure size 432x288 with 1 Axes>"
      ]
     },
     "metadata": {},
     "output_type": "display_data"
    }
   ],
   "source": [
    "sns.distplot([np.mean(mt.getListDegree(G)) for G in not_inconsistents], hist=False, kde=True, \n",
    "             bins=int(180/5), color = 'red', label = 'NN')\n",
    "sns.distplot([np.mean(mt.getListDegree(G)) for G in graphs_test], hist=False, kde=True, \n",
    "             bins=int(180/5), color = 'blue', label = 'Real')"
   ]
  },
  {
   "cell_type": "code",
   "execution_count": 33,
   "metadata": {},
   "outputs": [
    {
     "name": "stderr",
     "output_type": "stream",
     "text": [
      "/home/antolin/anaconda3/lib/python3.8/site-packages/seaborn/distributions.py:2551: FutureWarning: `distplot` is a deprecated function and will be removed in a future version. Please adapt your code to use either `displot` (a figure-level function with similar flexibility) or `kdeplot` (an axes-level function for kernel density plots).\n",
      "  warnings.warn(msg, FutureWarning)\n",
      "/home/antolin/anaconda3/lib/python3.8/site-packages/seaborn/distributions.py:2551: FutureWarning: `distplot` is a deprecated function and will be removed in a future version. Please adapt your code to use either `displot` (a figure-level function with similar flexibility) or `kdeplot` (an axes-level function for kernel density plots).\n",
      "  warnings.warn(msg, FutureWarning)\n"
     ]
    },
    {
     "data": {
      "text/plain": [
       "<matplotlib.axes._subplots.AxesSubplot at 0x7f9778597e80>"
      ]
     },
     "execution_count": 33,
     "metadata": {},
     "output_type": "execute_result"
    },
    {
     "data": {
      "image/png": "[encoded data removed]",
      "text/plain": [
       "<Figure size 432x288 with 1 Axes>"
      ]
     },
     "metadata": {},
     "output_type": "display_data"
    }
   ],
   "source": [
    "dims = list(yp.dic_edges_yak.keys())\n",
    "sns.distplot([np.mean(list(mt.MPC(G,dims).values())) for G in not_inconsistents], hist=False, kde=True, \n",
    "             bins=int(180/5), color = 'red', label = 'NN')\n",
    "sns.distplot([np.mean(list(mt.MPC(G,dims).values())) for G in graphs_test], hist=False, kde=True, \n",
    "             bins=int(180/5), color = 'blue', label = 'Real')"
   ]
  },
  {
   "cell_type": "code",
   "execution_count": 34,
   "metadata": {},
   "outputs": [],
   "source": [
    "def uniques(Gs):\n",
    "    dic = set([])\n",
    "    for G1 in Gs:\n",
    "        iso = False\n",
    "        for G2 in dic:\n",
    "            if is_isomorphic(G1, G2, gu.node_match_type, gu.edge_match_type):\n",
    "                iso = True\n",
    "        if not iso:\n",
    "            dic.add(G1)\n",
    "    return dic"
   ]
  },
  {
   "cell_type": "code",
   "execution_count": 35,
   "metadata": {},
   "outputs": [
    {
     "name": "stdout",
     "output_type": "stream",
     "text": [
      "86.6 % Validity among all\n",
      "43.418013856812934 % Uniqueness among valid ones\n",
      "70.69672131147541 % Novelty among unique ones\n"
     ]
    }
   ],
   "source": [
    "print(len(not_inconsistents)/len(samples) * 100, '% Validity among all')\n",
    "print(len(uniques(not_inconsistents))/len(not_inconsistents) * 100, '% Uniqueness among valid ones')\n",
    "print(len(uniques(clean_new_models))/len(uniques(samples)) * 100, '% Novelty among unique ones')"
   ]
  },
  {
   "cell_type": "markdown",
   "metadata": {},
   "source": [
    "# Realism using GNN"
   ]
  },
  {
   "cell_type": "code",
   "execution_count": 44,
   "metadata": {},
   "outputs": [],
   "source": [
    "from torch_geometric.data import Data\n",
    "from dmg.deeplearning.dataGeneration import generateTensorsFromGraph\n",
    "syns = []\n",
    "sett = clean_new_models#samples#clean_new_models#not_inconsistents\n",
    "for G in random.sample(sett,min(len(sett),len(graphs_test))):\n",
    "    G_inv = addInvEdges(G, yp.yakindu_pallete, yp.yakindu_separator)\n",
    "    tensors = generateTensorsFromGraph(G_inv, yp.yakindu_pallete, 2, 2)\n",
    "    data =  Data(x = tensors[0],\n",
    "                edge_index = tensors[-2], \n",
    "                edge_attr = tensors[-1],\n",
    "                y = torch.tensor(0))\n",
    "    syns.append(data)"
   ]
  },
  {
   "cell_type": "code",
   "execution_count": 45,
   "metadata": {},
   "outputs": [],
   "source": [
    "reals = []\n",
    "for G in random.sample(graphs_test,min(len(sett),len(graphs_test))):\n",
    "    G_inv = addInvEdges(G, yp.yakindu_pallete, yp.yakindu_separator)\n",
    "    tensors = generateTensorsFromGraph(G_inv, yp.yakindu_pallete, 2, 2)\n",
    "    data =  Data(x = tensors[0],\n",
    "                edge_index = tensors[-2], \n",
    "                edge_attr = tensors[-1],\n",
    "                y = torch.tensor(1))\n",
    "    reals.append(data)"
   ]
  },
  {
   "cell_type": "code",
   "execution_count": 46,
   "metadata": {},
   "outputs": [
    {
     "name": "stdout",
     "output_type": "stream",
     "text": [
      "Len train: 220\n"
     ]
    }
   ],
   "source": [
    "dataset = syns + reals\n",
    "random.shuffle(dataset)\n",
    "print('Len train:', len(dataset))"
   ]
  },
  {
   "cell_type": "code",
   "execution_count": 47,
   "metadata": {},
   "outputs": [],
   "source": [
    "from torch.utils.data import random_split\n",
    "import torch\n",
    "train_len = int(0.8*len(dataset))\n",
    "test_len = len(dataset) - int(0.8*len(dataset))\n",
    "train, test = random_split(dataset, [train_len, test_len], \n",
    "                                generator=torch.Generator().manual_seed(42))"
   ]
  },
  {
   "cell_type": "code",
   "execution_count": 48,
   "metadata": {},
   "outputs": [],
   "source": [
    "train_loader = DataLoader(train, batch_size=32, num_workers = 5, shuffle=True)\n",
    "test_loader = DataLoader(test, batch_size=1, num_workers = 5, shuffle=True)"
   ]
  },
  {
   "cell_type": "code",
   "execution_count": 49,
   "metadata": {
    "scrolled": true
   },
   "outputs": [
    {
     "name": "stdout",
     "output_type": "stream",
     "text": [
      "Epoch 0 Loss 0.6061484132494245\n",
      "Epoch 1 Loss 0.5762246762003217\n",
      "Epoch 2 Loss 0.5689076270375933\n",
      "Epoch 3 Loss 0.5529942257063729\n",
      "Epoch 4 Loss 0.538545548915863\n",
      "Epoch 5 Loss 0.5403419051851545\n",
      "Epoch 6 Loss 0.5232182911464146\n",
      "Epoch 7 Loss 0.5026166864803859\n",
      "Epoch 8 Loss 0.5166756851332528\n",
      "Epoch 9 Loss 0.47897270747593473\n",
      "Epoch 10 Loss 0.4699056659426008\n",
      "Epoch 11 Loss 0.44550936988421846\n",
      "Epoch 12 Loss 0.453402578830719\n",
      "Epoch 13 Loss 0.4444194350923811\n",
      "Epoch 14 Loss 0.44425843017441885\n",
      "Epoch 15 Loss 0.4408097394875118\n",
      "Epoch 16 Loss 0.43473037651606966\n",
      "Epoch 17 Loss 0.42273816892078947\n",
      "Epoch 18 Loss 0.4071652463504246\n",
      "Epoch 19 Loss 0.428495534828731\n",
      "Epoch 20 Loss 0.4285972501550402\n",
      "Epoch 21 Loss 0.39254277093069895\n",
      "Epoch 22 Loss 0.4536427642617907\n",
      "Epoch 23 Loss 0.4426358640193939\n",
      "Epoch 24 Loss 0.4438879702772413\n",
      "Epoch 25 Loss 0.40509261403764996\n",
      "Epoch 26 Loss 0.3935114358152662\n",
      "Epoch 27 Loss 0.40145873171942575\n",
      "Epoch 28 Loss 0.40879776648112703\n",
      "Epoch 29 Loss 0.39936497807502747\n"
     ]
    }
   ],
   "source": [
    "import torch.nn as nn\n",
    "from dmg.realism.discriminativeModel import DiscriminativeModel\n",
    "\n",
    "model = DiscriminativeModel(64,64,0.0,yp.dic_nodes_yak,yp.dic_edges_yak).cpu()\n",
    "\n",
    "epochs = 30\n",
    "criterion = nn.BCELoss()\n",
    "\n",
    "opt = torch.optim.Adam(model.parameters(), lr=0.001)\n",
    "\n",
    "\n",
    "for e in range(epochs):\n",
    "    total_loss = 0.0\n",
    "    b = 1\n",
    "    model.train()\n",
    "    for data in train_loader:\n",
    "        \n",
    "        opt.zero_grad()\n",
    "        \n",
    "        pred = model(data.x.cpu(), data.edge_index.cpu(),\n",
    "          torch.squeeze(data.edge_attr.cpu(),dim=1),data.batch.cpu())\n",
    "        \n",
    "        loss = criterion(torch.squeeze(pred), data.y.float().cpu())\n",
    "        total_loss += loss.item()\n",
    "        \n",
    "        loss.backward()\n",
    "        opt.step()\n",
    "        b = b + 1\n",
    "        \n",
    "    print('Epoch',e,'Loss',total_loss/b)\n"
   ]
  },
  {
   "cell_type": "code",
   "execution_count": 50,
   "metadata": {},
   "outputs": [
    {
     "name": "stdout",
     "output_type": "stream",
     "text": [
      "Acc 0.7727272727272727\n"
     ]
    }
   ],
   "source": [
    "model.eval()\n",
    "count = 0\n",
    "i0 = 0\n",
    "i1 = 0\n",
    "for data in test_loader:\n",
    "    pred = model(data.x.cpu(), data.edge_index.cpu(),\n",
    "          torch.squeeze(data.edge_attr,dim=1).cpu(),data.batch.cpu())\n",
    "    if pred[0].item() > 0.5:\n",
    "        pred = 1\n",
    "    else:\n",
    "        pred = 0\n",
    "    if pred == data.y.long().item():\n",
    "        count = count + 1\n",
    "    \n",
    "print('Acc', count/len(test_loader))"
   ]
  },
  {
   "cell_type": "code",
   "execution_count": 51,
   "metadata": {},
   "outputs": [
    {
     "name": "stdout",
     "output_type": "stream",
     "text": [
      "p-value 0.00014836615564657027\n"
     ]
    }
   ],
   "source": [
    "import scipy.stats as st\n",
    "import math\n",
    "\n",
    "def C2ST_pvalue(acc,n_test):\n",
    "    return st.norm.cdf(-(acc-0.5)/(math.sqrt(1/(4*n_test))))\n",
    "\n",
    "print('p-value', C2ST_pvalue(count/len(test_loader),len(test_loader)))"
   ]
  },
  {
   "cell_type": "markdown",
   "metadata": {},
   "source": [
    "# Plot a sample of clean models"
   ]
  },
  {
   "cell_type": "code",
   "execution_count": null,
   "metadata": {
    "scrolled": true
   },
   "outputs": [],
   "source": [
    "dot = gu.plotGraphViz(random.sample(clean_new_models,1)[0])\n",
    "dot.format = 'pdf'\n",
    "dot.view(filename='example', directory='./')"
   ]
  },
  {
   "cell_type": "code",
   "execution_count": null,
   "metadata": {},
   "outputs": [],
   "source": [
    "#m2g.getModelFromGraph(['../data/metamodels/yakinduSimplified.ecore'], clean_new_models[0])"
   ]
  },
  {
   "cell_type": "code",
   "execution_count": null,
   "metadata": {},
   "outputs": [],
   "source": [
    "m2g.serializeGraphModel('example.xmi',['../data/metamodels/yakinduSimplified.ecore'], 'Statechart', clean_new_models[0])"
   ]
  }
 ],
 "metadata": {
  "kernelspec": {
   "display_name": "Python 3",
   "language": "python",
   "name": "python3"
  },
  "language_info": {
   "codemirror_mode": {
    "name": "ipython",
    "version": 3
   },
   "file_extension": ".py",
   "mimetype": "text/x-python",
   "name": "python",
   "nbconvert_exporter": "python",
   "pygments_lexer": "ipython3",
   "version": "3.8.3"
  }
 },
 "nbformat": 4,
 "nbformat_minor": 4
}
